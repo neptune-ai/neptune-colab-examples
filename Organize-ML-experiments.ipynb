{
 "cells": [
  {
   "cell_type": "markdown",
   "metadata": {},
   "source": [
    "# Organize ML experiments\n",
    "\n",
    "## Introduction\n",
    "\n",
    "This guide will show you how to:\n",
    "\n",
    "- Keep track of code, data, environment and parameters\n",
    "- Log results like evaluation metrics and model files\n",
    "- Find experiments in the experiment dashboard with tags\n",
    "- Organize experiments in a dashboard view and save it for later"
   ]
  },
  {
   "cell_type": "markdown",
   "metadata": {},
   "source": [
    "## Setup\n",
    "\n",
    "Install dependencies"
   ]
  },
  {
   "cell_type": "code",
   "execution_count": 1,
   "metadata": {},
   "outputs": [
    {
     "name": "stdout",
     "output_type": "stream",
     "text": [
      "Requirement already satisfied: scikit-learn==0.23.1 in /home/jakub/miniconda3/envs/py_37/lib/python3.7/site-packages (0.23.1)\n",
      "Requirement already satisfied: joblib==0.15.1 in /home/jakub/miniconda3/envs/py_37/lib/python3.7/site-packages (0.15.1)\n",
      "Requirement already satisfied: neptune-client==0.4.119 in /home/jakub/miniconda3/envs/py_37/lib/python3.7/site-packages (0.4.119)\n",
      "Requirement already satisfied: threadpoolctl>=2.0.0 in /home/jakub/miniconda3/envs/py_37/lib/python3.7/site-packages (from scikit-learn==0.23.1) (2.1.0)\n",
      "Requirement already satisfied: scipy>=0.19.1 in /home/jakub/miniconda3/envs/py_37/lib/python3.7/site-packages (from scikit-learn==0.23.1) (1.4.1)\n",
      "Requirement already satisfied: numpy>=1.13.3 in /home/jakub/miniconda3/envs/py_37/lib/python3.7/site-packages (from scikit-learn==0.23.1) (1.18.5)\n",
      "Requirement already satisfied: PyJWT in /home/jakub/miniconda3/envs/py_37/lib/python3.7/site-packages (from neptune-client==0.4.119) (1.7.1)\n",
      "Requirement already satisfied: future>=0.17.1 in /home/jakub/miniconda3/envs/py_37/lib/python3.7/site-packages (from neptune-client==0.4.119) (0.18.2)\n",
      "Requirement already satisfied: pandas in /home/jakub/miniconda3/envs/py_37/lib/python3.7/site-packages (from neptune-client==0.4.119) (1.0.5)\n",
      "Requirement already satisfied: requests-oauthlib>=1.0.0 in /home/jakub/miniconda3/envs/py_37/lib/python3.7/site-packages (from neptune-client==0.4.119) (1.3.0)\n",
      "Requirement already satisfied: py3nvml in /home/jakub/miniconda3/envs/py_37/lib/python3.7/site-packages (from neptune-client==0.4.119) (0.2.6)\n",
      "Requirement already satisfied: Pillow>=1.1.6 in /home/jakub/miniconda3/envs/py_37/lib/python3.7/site-packages (from neptune-client==0.4.119) (7.1.2)\n",
      "Requirement already satisfied: oauthlib>=2.1.0 in /home/jakub/miniconda3/envs/py_37/lib/python3.7/site-packages (from neptune-client==0.4.119) (3.1.0)\n",
      "Requirement already satisfied: bravado in /home/jakub/miniconda3/envs/py_37/lib/python3.7/site-packages (from neptune-client==0.4.119) (10.6.2)\n",
      "Requirement already satisfied: GitPython>=2.0.8 in /home/jakub/miniconda3/envs/py_37/lib/python3.7/site-packages (from neptune-client==0.4.119) (3.1.3)\n",
      "Requirement already satisfied: websocket-client>=0.35.0 in /home/jakub/miniconda3/envs/py_37/lib/python3.7/site-packages (from neptune-client==0.4.119) (0.57.0)\n",
      "Requirement already satisfied: click>=7.0 in /home/jakub/miniconda3/envs/py_37/lib/python3.7/site-packages (from neptune-client==0.4.119) (7.1.2)\n",
      "Requirement already satisfied: requests>=2.20.0 in /home/jakub/miniconda3/envs/py_37/lib/python3.7/site-packages (from neptune-client==0.4.119) (2.24.0)\n",
      "Requirement already satisfied: six>=1.12.0 in /home/jakub/miniconda3/envs/py_37/lib/python3.7/site-packages (from neptune-client==0.4.119) (1.15.0)\n",
      "Requirement already satisfied: packaging in /home/jakub/miniconda3/envs/py_37/lib/python3.7/site-packages (from neptune-client==0.4.119) (20.4)\n",
      "Requirement already satisfied: pytz>=2017.2 in /home/jakub/miniconda3/envs/py_37/lib/python3.7/site-packages (from pandas->neptune-client==0.4.119) (2020.1)\n",
      "Requirement already satisfied: python-dateutil>=2.6.1 in /home/jakub/miniconda3/envs/py_37/lib/python3.7/site-packages (from pandas->neptune-client==0.4.119) (2.8.1)\n",
      "Requirement already satisfied: xmltodict in /home/jakub/miniconda3/envs/py_37/lib/python3.7/site-packages (from py3nvml->neptune-client==0.4.119) (0.12.0)\n",
      "Requirement already satisfied: simplejson in /home/jakub/miniconda3/envs/py_37/lib/python3.7/site-packages (from bravado->neptune-client==0.4.119) (3.17.0)\n",
      "Requirement already satisfied: bravado-core>=5.16.1 in /home/jakub/miniconda3/envs/py_37/lib/python3.7/site-packages (from bravado->neptune-client==0.4.119) (5.17.0)\n",
      "Requirement already satisfied: msgpack-python in /home/jakub/miniconda3/envs/py_37/lib/python3.7/site-packages (from bravado->neptune-client==0.4.119) (0.5.6)\n",
      "Requirement already satisfied: typing-extensions in /home/jakub/miniconda3/envs/py_37/lib/python3.7/site-packages (from bravado->neptune-client==0.4.119) (3.7.4.2)\n",
      "Requirement already satisfied: pyyaml in /home/jakub/miniconda3/envs/py_37/lib/python3.7/site-packages (from bravado->neptune-client==0.4.119) (5.3.1)\n",
      "Requirement already satisfied: monotonic in /home/jakub/miniconda3/envs/py_37/lib/python3.7/site-packages (from bravado->neptune-client==0.4.119) (1.5)\n",
      "Requirement already satisfied: gitdb<5,>=4.0.1 in /home/jakub/miniconda3/envs/py_37/lib/python3.7/site-packages (from GitPython>=2.0.8->neptune-client==0.4.119) (4.0.5)\n",
      "Requirement already satisfied: chardet<4,>=3.0.2 in /home/jakub/miniconda3/envs/py_37/lib/python3.7/site-packages (from requests>=2.20.0->neptune-client==0.4.119) (3.0.4)\n",
      "Requirement already satisfied: idna<3,>=2.5 in /home/jakub/miniconda3/envs/py_37/lib/python3.7/site-packages (from requests>=2.20.0->neptune-client==0.4.119) (2.10)\n",
      "Requirement already satisfied: certifi>=2017.4.17 in /home/jakub/miniconda3/envs/py_37/lib/python3.7/site-packages (from requests>=2.20.0->neptune-client==0.4.119) (2020.6.20)\n",
      "Requirement already satisfied: urllib3!=1.25.0,!=1.25.1,<1.26,>=1.21.1 in /home/jakub/miniconda3/envs/py_37/lib/python3.7/site-packages (from requests>=2.20.0->neptune-client==0.4.119) (1.25.9)\n",
      "Requirement already satisfied: pyparsing>=2.0.2 in /home/jakub/miniconda3/envs/py_37/lib/python3.7/site-packages (from packaging->neptune-client==0.4.119) (2.4.7)\n",
      "Requirement already satisfied: msgpack>=0.5.2 in /home/jakub/miniconda3/envs/py_37/lib/python3.7/site-packages (from bravado-core>=5.16.1->bravado->neptune-client==0.4.119) (1.0.0)\n",
      "Requirement already satisfied: jsonschema[format]>=2.5.1 in /home/jakub/miniconda3/envs/py_37/lib/python3.7/site-packages (from bravado-core>=5.16.1->bravado->neptune-client==0.4.119) (3.2.0)\n",
      "Requirement already satisfied: swagger-spec-validator>=2.0.1 in /home/jakub/miniconda3/envs/py_37/lib/python3.7/site-packages (from bravado-core>=5.16.1->bravado->neptune-client==0.4.119) (2.7.3)\n",
      "Requirement already satisfied: jsonref in /home/jakub/miniconda3/envs/py_37/lib/python3.7/site-packages (from bravado-core>=5.16.1->bravado->neptune-client==0.4.119) (0.2)\n",
      "Requirement already satisfied: smmap<4,>=3.0.1 in /home/jakub/miniconda3/envs/py_37/lib/python3.7/site-packages (from gitdb<5,>=4.0.1->GitPython>=2.0.8->neptune-client==0.4.119) (3.0.4)\n",
      "Requirement already satisfied: pyrsistent>=0.14.0 in /home/jakub/miniconda3/envs/py_37/lib/python3.7/site-packages (from jsonschema[format]>=2.5.1->bravado-core>=5.16.1->bravado->neptune-client==0.4.119) (0.16.0)\n",
      "Requirement already satisfied: setuptools in /home/jakub/miniconda3/envs/py_37/lib/python3.7/site-packages (from jsonschema[format]>=2.5.1->bravado-core>=5.16.1->bravado->neptune-client==0.4.119) (47.3.1.post20200622)\n",
      "Requirement already satisfied: importlib-metadata; python_version < \"3.8\" in /home/jakub/miniconda3/envs/py_37/lib/python3.7/site-packages (from jsonschema[format]>=2.5.1->bravado-core>=5.16.1->bravado->neptune-client==0.4.119) (1.7.0)\n",
      "Requirement already satisfied: attrs>=17.4.0 in /home/jakub/miniconda3/envs/py_37/lib/python3.7/site-packages (from jsonschema[format]>=2.5.1->bravado-core>=5.16.1->bravado->neptune-client==0.4.119) (19.3.0)\n",
      "Requirement already satisfied: strict-rfc3339; extra == \"format\" in /home/jakub/miniconda3/envs/py_37/lib/python3.7/site-packages (from jsonschema[format]>=2.5.1->bravado-core>=5.16.1->bravado->neptune-client==0.4.119) (0.7)\n",
      "Requirement already satisfied: rfc3987; extra == \"format\" in /home/jakub/miniconda3/envs/py_37/lib/python3.7/site-packages (from jsonschema[format]>=2.5.1->bravado-core>=5.16.1->bravado->neptune-client==0.4.119) (1.3.8)\n",
      "Requirement already satisfied: jsonpointer>1.13; extra == \"format\" in /home/jakub/miniconda3/envs/py_37/lib/python3.7/site-packages (from jsonschema[format]>=2.5.1->bravado-core>=5.16.1->bravado->neptune-client==0.4.119) (2.0)\n",
      "Requirement already satisfied: webcolors; extra == \"format\" in /home/jakub/miniconda3/envs/py_37/lib/python3.7/site-packages (from jsonschema[format]>=2.5.1->bravado-core>=5.16.1->bravado->neptune-client==0.4.119) (1.11.1)\n",
      "Requirement already satisfied: zipp>=0.5 in /home/jakub/miniconda3/envs/py_37/lib/python3.7/site-packages (from importlib-metadata; python_version < \"3.8\"->jsonschema[format]>=2.5.1->bravado-core>=5.16.1->bravado->neptune-client==0.4.119) (3.1.0)\n",
      "Note: you may need to restart the kernel to use updated packages.\n"
     ]
    }
   ],
   "source": [
    "pip install scikit-learn==0.23.1 joblib==0.15.1 neptune-client==0.4.126"
   ]
  },
  {
   "cell_type": "code",
   "execution_count": 2,
   "metadata": {},
   "outputs": [],
   "source": [
    "from IPython.display import HTML"
   ]
  },
  {
   "cell_type": "markdown",
   "metadata": {},
   "source": [
    "## Step 1: Create a basic training script"
   ]
  },
  {
   "cell_type": "code",
   "execution_count": 3,
   "metadata": {},
   "outputs": [
    {
     "name": "stdout",
     "output_type": "stream",
     "text": [
      "Train f1:1.0 | Test f1:0.9737654320987654\n"
     ]
    }
   ],
   "source": [
    "from sklearn.datasets import load_wine\n",
    "from sklearn.ensemble import RandomForestClassifier\n",
    "from sklearn.model_selection import train_test_split\n",
    "from sklearn.metrics import f1_score\n",
    "from joblib import dump\n",
    "\n",
    "data = load_wine()\n",
    "X_train, X_test, y_train, y_test = train_test_split(data.data, data.target,\n",
    "                                                    test_size=0.4, random_state=1234)\n",
    "\n",
    "params = {'n_estimators': 10,\n",
    "          'max_depth': 3,\n",
    "          'min_samples_leaf': 1,\n",
    "          'min_samples_split': 2,\n",
    "          'max_features': 3,\n",
    "          }\n",
    "\n",
    "clf = RandomForestClassifier(**params)\n",
    "\n",
    "clf.fit(X_train, y_train)\n",
    "y_train_pred = clf.predict_proba(X_train)\n",
    "y_test_pred = clf.predict_proba(X_test)\n",
    "\n",
    "train_f1 = f1_score(y_train, y_train_pred.argmax(axis=1), average='macro')\n",
    "test_f1 = f1_score(y_test, y_test_pred.argmax(axis=1), average='macro')\n",
    "print(f'Train f1:{train_f1} | Test f1:{test_f1}')"
   ]
  },
  {
   "cell_type": "markdown",
   "metadata": {},
   "source": [
    "## Step 2: Initialize Neptune\n",
    "\n",
    "Connects your script to Neptune application. "
   ]
  },
  {
   "cell_type": "code",
   "execution_count": 4,
   "metadata": {},
   "outputs": [
    {
     "data": {
      "text/plain": [
       "Project(shared/onboarding)"
      ]
     },
     "execution_count": 4,
     "metadata": {},
     "output_type": "execute_result"
    }
   ],
   "source": [
    "import neptune\n",
    "\n",
    "neptune.init(\n",
    "    api_token=\"ANONYMOUS\",\n",
    "    project_qualified_name=\"shared/onboarding\"\n",
    ")"
   ]
  },
  {
   "cell_type": "markdown",
   "metadata": {},
   "source": [
    "You tell Neptune: \n",
    "\n",
    "* **who you are**: your Neptune API token `api_token` \n",
    "* **where you want to send your data**: your Neptune project `project_qualified_name`.\n",
    "\n",
    "---\n",
    "\n",
    "**Note:** \n",
    "\n",
    "\n",
    "Instead of logging data to the public project 'shared/onboarding' as an anonymous user 'neptuner' you can log it to your own project.\n",
    "\n",
    "To do that:\n",
    "\n",
    "1. Get your Neptune API token\n",
    "\n",
    "![image](https://neptune.ai/wp-content/uploads/get_token.gif)\n",
    "\n",
    "2. Pass the token to ``api_token`` argument of ``neptune.init()`` method: ``api_token=YOUR_API_TOKEN``\n",
    "3. Pass your username to the ``project_qualified_name`` argument of the ``neptune.init()`` method: ``project_qualified_name='YOUR_USERNAME/sandbox``. Keep `/sandbox` at the end, the `sandbox` project that was automatically created for you.\n",
    "\n",
    "For example:\n",
    "\n",
    "```python\n",
    "neptune.init(project_qualified_name='funky_steve/sandbox', \n",
    "             api_token='eyJhcGlfYW908fsdf23f940jiri0bn3085gh03riv03irn',\n",
    "            )\n",
    "```\n",
    "\n",
    "---"
   ]
  },
  {
   "cell_type": "markdown",
   "metadata": {},
   "source": [
    "## Step 3: Create an experiment and save parameters"
   ]
  },
  {
   "cell_type": "code",
   "execution_count": 5,
   "metadata": {},
   "outputs": [
    {
     "name": "stderr",
     "output_type": "stream",
     "text": [
      "NVMLError: NVML Shared Library Not Found - GPU usage metrics may not be reported.\n"
     ]
    },
    {
     "name": "stdout",
     "output_type": "stream",
     "text": [
      "https://ui.neptune.ai/shared/onboarding/e/ON-266\n"
     ]
    },
    {
     "data": {
      "text/plain": [
       "Experiment(ON-266)"
      ]
     },
     "execution_count": 5,
     "metadata": {},
     "output_type": "execute_result"
    }
   ],
   "source": [
    "neptune.create_experiment(name='great-idea', params=params)"
   ]
  },
  {
   "cell_type": "markdown",
   "metadata": {},
   "source": [
    "This opens a new \"experiment\" namespace in Neptune to which you can log various objects.\n",
    "\n",
    "Click on the link above to open this experiment in Neptune.\n",
    "\n",
    "For now it is empty but keep the tab with experiment open to see what happens next. "
   ]
  },
  {
   "cell_type": "markdown",
   "metadata": {},
   "source": [
    "## Step 4. Add tags to organize things\n",
    "\n",
    "Pass a list of strings to the ``.append_tag`` method of the experiment object."
   ]
  },
  {
   "cell_type": "code",
   "execution_count": 6,
   "metadata": {},
   "outputs": [],
   "source": [
    "neptune.append_tag(['experiment-organization', 'me'])"
   ]
  },
  {
   "cell_type": "markdown",
   "metadata": {},
   "source": [
    "## Step 5. Add logging of train and evaluation metrics"
   ]
  },
  {
   "cell_type": "code",
   "execution_count": 7,
   "metadata": {},
   "outputs": [],
   "source": [
    "neptune.log_metric('train_f1', train_f1)\n",
    "neptune.log_metric('test_f1', test_f1)"
   ]
  },
  {
   "cell_type": "markdown",
   "metadata": {},
   "source": [
    "Log all the metrics you care about with ``.log_metric`` method. There could be as many as you like.\n",
    "The first argument is the name of the metric, the second it's value.\n",
    "\n",
    "---\n",
    "\n",
    "**Note:**\n",
    "\n",
    "    You can log multiple values to the same metric. When you do that a chart will be created automatically.\n",
    "    \n",
    "---"
   ]
  },
  {
   "cell_type": "markdown",
   "metadata": {},
   "source": [
    "## Step 6. Run a few experiments with different parameters\n",
    "\n",
    "Let's run some experiments with different model configuration.\n",
    "\n",
    "1. Change parameters in the ``params`` dictionary of the **Step 1: Create a basic training script**\n",
    "\n",
    "```python\n",
    "\n",
    "    params = {'n_estimators': 10,\n",
    "              'max_depth': 3,\n",
    "              'min_samples_leaf': 1,\n",
    "              'min_samples_split': 2,\n",
    "              'max_features': 3,\n",
    "              }\n",
    "``` \n",
    "\n",
    "2. Run all the cells, log things to Neptune.\n",
    "\n",
    "3. Stop Neptune experiment. \n",
    "\n",
    "---\n",
    "\n",
    "**Note:**\n",
    "   \n",
    "When you track experiments with Neptune in Jupyter notebooks you need to explicitly stop the experiment by running `neptune.stop()`.\n",
    "\n",
    "If you are running Neptune in regular `.py` scripts it will stop automatically when your code stops running.\n",
    "\n",
    "---"
   ]
  },
  {
   "cell_type": "code",
   "execution_count": 8,
   "metadata": {},
   "outputs": [],
   "source": [
    "neptune.stop()"
   ]
  },
  {
   "cell_type": "markdown",
   "metadata": {},
   "source": [
    "## Step 7. Go to Neptune UI\n",
    "\n",
    "Click on one of the links created when you run the script or go directly to the app.\n",
    "\n",
    "If you created your own project in Neptune you can also go to projects tab and find it."
   ]
  },
  {
   "cell_type": "code",
   "execution_count": 9,
   "metadata": {},
   "outputs": [
    {
     "name": "stderr",
     "output_type": "stream",
     "text": [
      "/home/jakub/miniconda3/envs/py_37/lib/python3.7/site-packages/IPython/core/display.py:717: UserWarning: Consider using IPython.display.IFrame instead\n",
      "  warnings.warn(\"Consider using IPython.display.IFrame instead\")\n"
     ]
    },
    {
     "data": {
      "text/html": [
       "<iframe width=\"720\" height=\"420\" src=\"https://www.youtube.com/embed/rEC-sxhP72w\" frameborder=\"0\" allow=\"accelerometer; autoplay; encrypted-media; gyroscope; picture-in-picture\" allowfullscreen></iframe>"
      ],
      "text/plain": [
       "<IPython.core.display.HTML object>"
      ]
     },
     "execution_count": 9,
     "metadata": {},
     "output_type": "execute_result"
    }
   ],
   "source": [
    "HTML('<iframe width=\"720\" height=\"420\" src=\"https://www.youtube.com/embed/rEC-sxhP72w\" frameborder=\"0\" allow=\"accelerometer; autoplay; encrypted-media; gyroscope; picture-in-picture\" allowfullscreen></iframe>')"
   ]
  },
  {
   "cell_type": "markdown",
   "metadata": {},
   "source": [
    "If you are logging things to the public project ``shared/onboarding`` you can just [follow this link](https://ui.neptune.ai/o/shared/org/onboarding/e/ON-261).\n",
    "\n",
    "## Step 8. See that everything got logged\n",
    "\n",
    "Go to one of the experiments you ran and see that you logged things correctly:\n",
    "\n",
    "- click on the experiment link or one of the rows in the experiment table in the UI\n",
    "- Go to ``Logs`` section to see your metrics\n",
    "- Go to ``Source code`` to see that your code was logged\n",
    "- Go to ``Artifacts`` to see that the model was saved"
   ]
  },
  {
   "cell_type": "code",
   "execution_count": 10,
   "metadata": {},
   "outputs": [
    {
     "data": {
      "text/html": [
       "<iframe width=\"720\" height=\"420\" src=\"https://www.youtube.com/embed/WpAq7Kj88ec\" frameborder=\"0\" allow=\"accelerometer; autoplay; encrypted-media; gyroscope; picture-in-picture\" allowfullscreen></iframe>"
      ],
      "text/plain": [
       "<IPython.core.display.HTML object>"
      ]
     },
     "execution_count": 10,
     "metadata": {},
     "output_type": "execute_result"
    }
   ],
   "source": [
    "HTML('<iframe width=\"720\" height=\"420\" src=\"https://www.youtube.com/embed/WpAq7Kj88ec\" frameborder=\"0\" allow=\"accelerometer; autoplay; encrypted-media; gyroscope; picture-in-picture\" allowfullscreen></iframe>')"
   ]
  },
  {
   "cell_type": "markdown",
   "metadata": {},
   "source": [
    "## Step 9. Filter experiments by tag\n",
    "\n",
    "Go to the experiments space and:\n",
    "\n",
    "1. Click on the ``go to simple search``\n",
    "2. In the ``tags`` type ``experiment-organization`` to find it (or other tag you added to your experiment).\n",
    "3. Select the tag.\n",
    "\n",
    "Neptune should filter all those experiments for you."
   ]
  },
  {
   "cell_type": "code",
   "execution_count": 11,
   "metadata": {},
   "outputs": [
    {
     "data": {
      "text/html": [
       "<iframe width=\"720\" height=\"420\" src=\"https://www.youtube.com/embed/ppPOtU_lNkk\" frameborder=\"0\" allow=\"accelerometer; autoplay; encrypted-media; gyroscope; picture-in-picture\" allowfullscreen></iframe>"
      ],
      "text/plain": [
       "<IPython.core.display.HTML object>"
      ]
     },
     "execution_count": 11,
     "metadata": {},
     "output_type": "execute_result"
    }
   ],
   "source": [
    "HTML('<iframe width=\"720\" height=\"420\" src=\"https://www.youtube.com/embed/ppPOtU_lNkk\" frameborder=\"0\" allow=\"accelerometer; autoplay; encrypted-media; gyroscope; picture-in-picture\" allowfullscreen></iframe>')"
   ]
  },
  {
   "cell_type": "markdown",
   "metadata": {},
   "source": [
    "## Step 10. Choose parameter and metric columns you want to see\n",
    "\n",
    "Use the ``Manage columns`` button to choose the columns for the experiment table:\n",
    "\n",
    "- Click on ``Manage columns``\n",
    "- Go to the ``Numeric logs`` and ``Text parameters`` or type a name of your metric or parameter to find it.\n",
    "- Add ``test_f1`` metric and the parameters you tweaked (in my case ``max_depth``, ``max_features``, ``min_samples_leaf``, and ``n_estimators``)."
   ]
  },
  {
   "cell_type": "code",
   "execution_count": 12,
   "metadata": {},
   "outputs": [
    {
     "data": {
      "text/html": [
       "<iframe width=\"720\" height=\"420\" src=\"https://www.youtube.com/embed/gvlIXa25-Bc\" frameborder=\"0\" allow=\"accelerometer; autoplay; encrypted-media; gyroscope; picture-in-picture\" allowfullscreen></iframe>"
      ],
      "text/plain": [
       "<IPython.core.display.HTML object>"
      ]
     },
     "execution_count": 12,
     "metadata": {},
     "output_type": "execute_result"
    }
   ],
   "source": [
    "HTML('<iframe width=\"720\" height=\"420\" src=\"https://www.youtube.com/embed/gvlIXa25-Bc\" frameborder=\"0\" allow=\"accelerometer; autoplay; encrypted-media; gyroscope; picture-in-picture\" allowfullscreen></iframe>')"
   ]
  },
  {
   "cell_type": "markdown",
   "metadata": {},
   "source": [
    "---\n",
    "\n",
    "**tip:**\n",
    "\n",
    "    You can also use the suggested columns which shows you the columns with values that differ between selected experiments.\n",
    "\n",
    "    Just click on the ``+`` to add it to your experiment table.\n",
    "    \n",
    "---\n",
    "\n",
    "## Step 13. Save the view of experiment table\n",
    "\n",
    "You can save the current view of experiment table for later:\n",
    "\n",
    "- Click on the ``Save as new``\n",
    "\n",
    "Both the columns and the filtering on rows will be saved as view."
   ]
  },
  {
   "cell_type": "code",
   "execution_count": 13,
   "metadata": {},
   "outputs": [
    {
     "data": {
      "text/html": [
       "<iframe width=\"720\" height=\"420\" src=\"https://www.youtube.com/embed/iTgjtYBWqko\" frameborder=\"0\" allow=\"accelerometer; autoplay; encrypted-media; gyroscope; picture-in-picture\" allowfullscreen></iframe>"
      ],
      "text/plain": [
       "<IPython.core.display.HTML object>"
      ]
     },
     "execution_count": 13,
     "metadata": {},
     "output_type": "execute_result"
    }
   ],
   "source": [
    "HTML('<iframe width=\"720\" height=\"420\" src=\"https://www.youtube.com/embed/iTgjtYBWqko\" frameborder=\"0\" allow=\"accelerometer; autoplay; encrypted-media; gyroscope; picture-in-picture\" allowfullscreen></iframe>')"
   ]
  },
  {
   "cell_type": "markdown",
   "metadata": {},
   "source": [
    "---\n",
    "\n",
    "**tip:**\n",
    "\n",
    "    Create and save multiple views of the experiment table for different use cases or experiment groups.\n",
    "\n",
    "---"
   ]
  },
  {
   "cell_type": "code",
   "execution_count": null,
   "metadata": {},
   "outputs": [],
   "source": []
  }
 ],
 "metadata": {
  "kernelspec": {
   "display_name": "py_37",
   "language": "python",
   "name": "py_37"
  },
  "language_info": {
   "codemirror_mode": {
    "name": "ipython",
    "version": 3
   },
   "file_extension": ".py",
   "mimetype": "text/x-python",
   "name": "python",
   "nbconvert_exporter": "python",
   "pygments_lexer": "ipython3",
   "version": "3.7.7"
  }
 },
 "nbformat": 4,
 "nbformat_minor": 4
}
