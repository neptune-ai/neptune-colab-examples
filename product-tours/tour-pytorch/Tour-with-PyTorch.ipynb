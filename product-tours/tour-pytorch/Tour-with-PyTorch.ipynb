{
 "cells": [
  {
   "cell_type": "markdown",
   "metadata": {
    "colab_type": "text",
    "id": "QXGSKS1u0n8x",
    "tags": [
     "header"
    ]
   },
   "source": [
    "# Tour with PyTorch"
   ]
  },
  {
   "cell_type": "markdown",
   "metadata": {
    "tags": [
     "header"
    ]
   },
   "source": [
    "## Install dependencies"
   ]
  },
  {
   "cell_type": "markdown",
   "metadata": {
    "tags": [
     "comment"
    ]
   },
   "source": [
    "Before we start, make sure that you have all dependencies installed."
   ]
  },
  {
   "cell_type": "code",
   "execution_count": null,
   "metadata": {
    "colab": {},
    "colab_type": "code",
    "id": "DO7yawFVxVIt",
    "tags": [
     "installation"
    ]
   },
   "outputs": [],
   "source": [
    "! pip install --quiet torch==1.7.1+cpu torchvision==0.8.2+cpu -f https://download.pytorch.org/whl/torch_stable.html scikit-learn==0.24.1 neptune-client==0.5.0"
   ]
  },
  {
   "cell_type": "code",
   "execution_count": null,
   "metadata": {
    "colab": {},
    "colab_type": "code",
    "id": "DO7yawFVxVIt",
    "tags": [
     "installation",
     "library_updates"
    ]
   },
   "outputs": [],
   "source": [
    "! pip install --quiet --upgrade torch torchvision -f https://download.pytorch.org/whl/torch_stable.html scikit-learn neptune-client"
   ]
  },
  {
   "cell_type": "markdown",
   "metadata": {
    "tags": [
     "header"
    ]
   },
   "source": [
    "## Introduction"
   ]
  },
  {
   "cell_type": "markdown",
   "metadata": {
    "tags": [
     "comment"
    ]
   },
   "source": [
    "This tour will show you how to start using Neptune and PyTorch together. In the following sections you will learn Neptune's basics with typical deep learning classification task.\n",
    "\n",
    "In this tour you will learn:\n",
    "\n",
    "* how to set project and create experiment in Neptune,\n",
    "* how to log model parameters, loss, scores and images to experiment,\n",
    "* where to explore the results."
   ]
  },
  {
   "cell_type": "markdown",
   "metadata": {
    "tags": [
     "header"
    ]
   },
   "source": [
    "## Logging PyTorch meta-data to Neptune"
   ]
  },
  {
   "cell_type": "markdown",
   "metadata": {
    "tags": [
     "header"
    ]
   },
   "source": [
    "### Basic example"
   ]
  },
  {
   "cell_type": "markdown",
   "metadata": {
    "tags": [
     "comment"
    ]
   },
   "source": [
    "First, let's define the model."
   ]
  },
  {
   "cell_type": "code",
   "execution_count": null,
   "metadata": {
    "tags": [
     "code"
    ]
   },
   "outputs": [],
   "source": [
    "import hashlib\n",
    "\n",
    "import neptune\n",
    "import torch\n",
    "import torch.nn as nn\n",
    "import torch.nn.functional as F\n",
    "import torch.optim as optim\n",
    "from sklearn.metrics import accuracy_score\n",
    "from torchvision import datasets, transforms\n",
    "\n",
    "\n",
    "class Net(nn.Module):\n",
    "    def __init__(self, fc_out_features):\n",
    "        super(Net, self).__init__()\n",
    "        self.conv1 = nn.Conv2d(1, 20, 5, 1)\n",
    "        self.conv2 = nn.Conv2d(20, 50, 5, 1)\n",
    "        self.fc1 = nn.Linear(4 * 4 * 50, fc_out_features)\n",
    "        self.fc2 = nn.Linear(fc_out_features, 10)\n",
    "\n",
    "    def forward(self, x):\n",
    "        x = F.relu(self.conv1(x))\n",
    "        x = F.max_pool2d(x, 2, 2)\n",
    "        x = F.relu(self.conv2(x))\n",
    "        x = F.max_pool2d(x, 2, 2)\n",
    "        x = x.view(-1, 4 * 4 * 50)\n",
    "        x = F.relu(self.fc1(x))\n",
    "        x = self.fc2(x)\n",
    "        return F.log_softmax(x, dim=1)"
   ]
  },
  {
   "cell_type": "markdown",
   "metadata": {
    "tags": [
     "comment"
    ]
   },
   "source": [
    "Create dictionary with model hyper-parameters."
   ]
  },
  {
   "cell_type": "code",
   "execution_count": null,
   "metadata": {
    "tags": [
     "code"
    ]
   },
   "outputs": [],
   "source": [
    "PARAMS = {'fc_out_features': 400,\n",
    "          'lr': 0.008,\n",
    "          'momentum': 0.99,\n",
    "          'iterations': 300,\n",
    "          'batch_size': 64}"
   ]
  },
  {
   "cell_type": "markdown",
   "metadata": {
    "colab_type": "text",
    "id": "AW4MM4qj5ErX",
    "tags": [
     "header"
    ]
   },
   "source": [
    "#### Initialize Neptune"
   ]
  },
  {
   "cell_type": "code",
   "execution_count": null,
   "metadata": {
    "tags": [
     "code"
    ]
   },
   "outputs": [],
   "source": [
    "import neptune\n",
    "\n",
    "neptune.init('shared/tour-with-pytorch', api_token='ANONYMOUS')"
   ]
  },
  {
   "cell_type": "markdown",
   "metadata": {
    "colab_type": "text",
    "id": "AW4MM4qj5ErX",
    "tags": [
     "comment"
    ]
   },
   "source": [
    "Neptune gives you an option of logging data under a public folder as an anonymous user. This is great when you are just trying out the application and don't have a Neptune account yet.\n",
    "\n",
    "If you already have a [Neptune account](https://neptune.ai/register), you can create your own experiment and start logging to it using your personal API token. Pass your `username` to the `project_qualified_name` argument of the `neptune.init()` method: `project_qualified_name='YOUR_USERNAME/YOUR_PROJECT_NAME`. If you don't have a project yet, keep `/sandbox` at the end. The `sandbox` project is automatically created for you."
   ]
  },
  {
   "cell_type": "markdown",
   "metadata": {
    "colab_type": "text",
    "id": "AW4MM4qj5ErX",
    "tags": [
     "header"
    ]
   },
   "source": [
    "#### Create an experiment and log model hyper-parameters"
   ]
  },
  {
   "cell_type": "markdown",
   "metadata": {
    "tags": [
     "comment"
    ]
   },
   "source": [
    "This creates an experiment in Neptune.\n",
    "\n",
    "Once you have a live experiment you can log things to it. Here you also pass `PARAMS` created before."
   ]
  },
  {
   "cell_type": "code",
   "execution_count": null,
   "metadata": {
    "tags": [
     "code"
    ]
   },
   "outputs": [],
   "source": [
    "neptune.create_experiment(name='pytorch-run',\n",
    "                          tags=['pytorch', 'MNIST'],\n",
    "                          params=PARAMS)"
   ]
  },
  {
   "cell_type": "markdown",
   "metadata": {
    "tags": [
     "comment"
    ]
   },
   "source": [
    "Click on the link above to open this experiment in Neptune.\n",
    "\n",
    "For now it is empty but keep the tab with experiment open to see what happens next."
   ]
  },
  {
   "cell_type": "markdown",
   "metadata": {
    "tags": [
     "header"
    ]
   },
   "source": [
    "#### Log data version to the experiment"
   ]
  },
  {
   "cell_type": "markdown",
   "metadata": {
    "tags": [
     "comment"
    ]
   },
   "source": [
    "Use Neptune's properies to log data version."
   ]
  },
  {
   "cell_type": "code",
   "execution_count": null,
   "metadata": {
    "tags": [
     "code"
    ]
   },
   "outputs": [],
   "source": [
    "dataset = datasets.MNIST('../data',\n",
    "                         train=True,\n",
    "                         download=True,\n",
    "                         transform=transforms.Compose([transforms.ToTensor()]))\n",
    "\n",
    "neptune.set_property('data_version',\n",
    "                     hashlib.md5(dataset.data.cpu().detach().numpy()).hexdigest())"
   ]
  },
  {
   "cell_type": "markdown",
   "metadata": {
    "tags": [
     "header"
    ]
   },
   "source": [
    "#### Log losses, accuracy score and image predictions during training"
   ]
  },
  {
   "cell_type": "markdown",
   "metadata": {
    "tags": [
     "comment"
    ]
   },
   "source": [
    "During training you can easly add Neptune logging methods, like `log_metric` or `log_image` to keep track of important experiment meta-data."
   ]
  },
  {
   "cell_type": "code",
   "execution_count": null,
   "metadata": {
    "tags": [
     "code"
    ]
   },
   "outputs": [],
   "source": [
    "train_loader = torch.utils.data.DataLoader(dataset,\n",
    "                                           batch_size=PARAMS['batch_size'],\n",
    "                                           shuffle=True)\n",
    "\n",
    "model = Net(PARAMS['fc_out_features'])\n",
    "optimizer = optim.SGD(model.parameters(), PARAMS['lr'], PARAMS['momentum'])\n",
    "\n",
    "for batch_idx, (data, target) in enumerate(train_loader):\n",
    "    optimizer.zero_grad()\n",
    "    outputs = model(data)\n",
    "    loss = F.nll_loss(outputs, target)\n",
    "\n",
    "    # Log loss\n",
    "    neptune.log_metric('batch_loss', loss)\n",
    "\n",
    "    y_true = target.cpu().detach().numpy()\n",
    "    y_pred = outputs.argmax(axis=1).cpu().detach().numpy()\n",
    "    acc = accuracy_score(y_true, y_pred)\n",
    "\n",
    "    # Log accuracy\n",
    "    neptune.log_metric('batch_acc', acc)\n",
    "\n",
    "    loss.backward()\n",
    "    optimizer.step()\n",
    "\n",
    "    # Log image predictions\n",
    "    if batch_idx % 50 == 1:\n",
    "        for image, prediction in zip(data, outputs):\n",
    "            description = '\\n'.join(['class {}: {}'.format(i, pred)\n",
    "                                     for i, pred in enumerate(F.softmax(prediction, dim=0))])\n",
    "            neptune.log_image('predictions',\n",
    "                              image.squeeze(),\n",
    "                              description=description)\n",
    "\n",
    "    if batch_idx == PARAMS['iterations']:\n",
    "        break"
   ]
  },
  {
   "cell_type": "markdown",
   "metadata": {
    "tags": [
     "header"
    ]
   },
   "source": [
    "### Log model weight to experiment"
   ]
  },
  {
   "cell_type": "markdown",
   "metadata": {
    "tags": [
     "comment"
    ]
   },
   "source": [
    "Trained model can be stored in Neptune and associated with the experiment. Use `log_artifact` method to do it."
   ]
  },
  {
   "cell_type": "code",
   "execution_count": null,
   "metadata": {
    "tags": [
     "code"
    ]
   },
   "outputs": [],
   "source": [
    "torch.save(model.state_dict(), 'model_dict.pth')\n",
    "neptune.log_artifact('model_dict.pth')"
   ]
  },
  {
   "cell_type": "code",
   "execution_count": null,
   "metadata": {
    "tags": [
     "tests"
    ]
   },
   "outputs": [],
   "source": [
    "# tests\n",
    "exp = neptune.get_experiment()"
   ]
  },
  {
   "cell_type": "markdown",
   "metadata": {
    "colab_type": "text",
    "id": "AW4MM4qj5ErX",
    "tags": [
     "header"
    ]
   },
   "source": [
    "#### Stop Neptune experiment after training"
   ]
  },
  {
   "cell_type": "markdown",
   "metadata": {
    "tags": [
     "comment"
    ]
   },
   "source": [
    "Below method is necessary only for notebooks users. In the Python scipts experiment is closed automatically when script finishes."
   ]
  },
  {
   "cell_type": "code",
   "execution_count": null,
   "metadata": {
    "tags": [
     "tests"
    ]
   },
   "outputs": [],
   "source": [
    "# tests\n",
    "# check logs\n",
    "correct_logs_set = {'batch_loss', 'batch_acc', 'predictions'}\n",
    "from_exp_logs = set(exp.get_logs().keys())\n",
    "\n",
    "assert correct_logs_set == from_exp_logs, '{} - incorrect logs'.format(exp)\n",
    "\n",
    "# check parameters\n",
    "assert set(exp.get_parameters().keys()) == set(PARAMS.keys()), '{} parameters do not match'.format(exp)"
   ]
  },
  {
   "cell_type": "code",
   "execution_count": null,
   "metadata": {
    "colab": {
     "base_uri": "https://localhost:8080/",
     "height": 71
    },
    "colab_type": "code",
    "id": "GvDSBSrOx-R4",
    "outputId": "667d1b2f-cdef-44f0-f505-832205dea223",
    "tags": [
     "code"
    ]
   },
   "outputs": [],
   "source": [
    "neptune.stop()"
   ]
  },
  {
   "cell_type": "markdown",
   "metadata": {
    "tags": [
     "header"
    ]
   },
   "source": [
    "### Summary"
   ]
  },
  {
   "cell_type": "markdown",
   "metadata": {
    "tags": [
     "comment"
    ]
   },
   "source": [
    "Now, go back to the previously opened browser tab with your experiment to see:\n",
    "\n",
    "* tracked [metrics](https://ui.neptune.ai/o/shared/org/tour-with-pytorch/e/TOURTORCH-2/charts) (loss, accuracy),\n",
    "* [image predictions](https://ui.neptune.ai/o/shared/org/tour-with-pytorch/e/TOURTORCH-2/logs),\n",
    "* [parameters](https://ui.neptune.ai/o/shared/org/tour-with-pytorch/e/TOURTORCH-2/parameters)\n",
    "* saved [model weights](https://ui.neptune.ai/o/shared/org/tour-with-pytorch/e/TOURTORCH-2/artifacts).\n",
    "\n",
    "You just learned how to:\n",
    "* set project and create experiment using Neptune API,\n",
    "* log PyTorch meta-data the experiment.\n",
    "\n",
    "Such logging is a basic usage of Neptune to track PyTorch experiments."
   ]
  },
  {
   "cell_type": "markdown",
   "metadata": {
    "tags": [
     "header"
    ]
   },
   "source": [
    "## If you want to learn more, go to the [Neptune documentation](https://docs.neptune.ai/integrations/pytorch.html)."
   ]
  }
 ],
 "metadata": {
  "colab": {
   "name": "Tour-with-PyTorch.ipynb",
   "provenance": []
  },
  "kernelspec": {
   "display_name": "Python 3",
   "language": "python",
   "name": "python3"
  },
  "language_info": {
   "codemirror_mode": {
    "name": "ipython",
    "version": 3
   },
   "file_extension": ".py",
   "mimetype": "text/x-python",
   "name": "python",
   "nbconvert_exporter": "python",
   "pygments_lexer": "ipython3",
   "version": "3.6.9"
  }
 },
 "nbformat": 4,
 "nbformat_minor": 4
}
