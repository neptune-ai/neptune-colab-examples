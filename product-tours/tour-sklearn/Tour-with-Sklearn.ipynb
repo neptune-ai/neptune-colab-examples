{
 "cells": [
  {
   "cell_type": "markdown",
   "metadata": {
    "colab_type": "text",
    "id": "QXGSKS1u0n8x",
    "tags": [
     "header"
    ]
   },
   "source": [
    "# Tour with Scikit-learn"
   ]
  },
  {
   "cell_type": "markdown",
   "metadata": {
    "tags": [
     "header"
    ]
   },
   "source": [
    "## Install dependencies"
   ]
  },
  {
   "cell_type": "markdown",
   "metadata": {
    "tags": [
     "comment"
    ]
   },
   "source": [
    "Before we start, make sure that you have all dependencies installed"
   ]
  },
  {
   "cell_type": "code",
   "execution_count": null,
   "metadata": {
    "colab": {},
    "colab_type": "code",
    "id": "DO7yawFVxVIt",
    "tags": [
     "installation"
    ]
   },
   "outputs": [],
   "source": [
    "! pip install --quiet scikit-learn==0.24.1 neptune-client==0.5.0 neptune-contrib[monitoring]==0.26.0"
   ]
  },
  {
   "cell_type": "code",
   "execution_count": null,
   "metadata": {
    "colab": {},
    "colab_type": "code",
    "id": "DO7yawFVxVIt",
    "tags": [
     "installation",
     "library_updates"
    ]
   },
   "outputs": [],
   "source": [
    "! pip install --quiet --upgrade scikit-learn neptune-client neptune-contrib[monitoring]"
   ]
  },
  {
   "cell_type": "markdown",
   "metadata": {
    "tags": [
     "header"
    ]
   },
   "source": [
    "## Introduction"
   ]
  },
  {
   "cell_type": "markdown",
   "metadata": {
    "tags": [
     "comment"
    ]
   },
   "source": [
    "This tour will show you how to start using Neptune and Scikit-learn together. In the following sections you will learn Neptune's basics with common Scikit-learn task: classification.\n",
    "\n",
    "In this tour you will learn:\n",
    "\n",
    "* how to set project and create experiment in Neptune,\n",
    "* how to log sklearn model parameters and scores,\n",
    "* how to automatically log sklearn training metadata using Neptune's integrations with Scikit-learn,\n",
    "* where to explore the results."
   ]
  },
  {
   "cell_type": "markdown",
   "metadata": {
    "tags": [
     "header"
    ]
   },
   "source": [
    "## Logging Scikit-learn classifier meta-data to Neptune"
   ]
  },
  {
   "cell_type": "markdown",
   "metadata": {
    "tags": [
     "header"
    ]
   },
   "source": [
    "### Basic example"
   ]
  },
  {
   "cell_type": "markdown",
   "metadata": {
    "tags": [
     "comment"
    ]
   },
   "source": [
    "Define classifier parameters, that will be later passed to Neptune."
   ]
  },
  {
   "cell_type": "code",
   "execution_count": null,
   "metadata": {
    "tags": [
     "code"
    ]
   },
   "outputs": [],
   "source": [
    "parameters = {'n_estimators': 120,\n",
    "              'learning_rate': 0.12,\n",
    "              'min_samples_split': 3,\n",
    "              'min_samples_leaf': 2}"
   ]
  },
  {
   "cell_type": "markdown",
   "metadata": {
    "tags": [
     "comment"
    ]
   },
   "source": [
    "Create and fit classifier. We will use it few times in this tour."
   ]
  },
  {
   "cell_type": "code",
   "execution_count": null,
   "metadata": {
    "tags": [
     "code"
    ]
   },
   "outputs": [],
   "source": [
    "from sklearn.datasets import load_digits\n",
    "from sklearn.ensemble import GradientBoostingClassifier\n",
    "from sklearn.model_selection import train_test_split\n",
    "\n",
    "gbc = GradientBoostingClassifier(**parameters)\n",
    "\n",
    "X, y = load_digits(return_X_y=True)\n",
    "X_train, X_test, y_train, y_test = train_test_split(X, y, test_size=0.20, random_state=28743)\n",
    "\n",
    "gbc.fit(X_train, y_train)"
   ]
  },
  {
   "cell_type": "markdown",
   "metadata": {
    "tags": [
     "comment"
    ]
   },
   "source": [
    "Once the classifier is fitted we can create Neptune experiment and log:\n",
    "\n",
    "* model parameters,\n",
    "* scores on the test set."
   ]
  },
  {
   "cell_type": "markdown",
   "metadata": {
    "colab_type": "text",
    "id": "AW4MM4qj5ErX",
    "tags": [
     "header"
    ]
   },
   "source": [
    "#### Initialize Neptune"
   ]
  },
  {
   "cell_type": "code",
   "execution_count": null,
   "metadata": {
    "tags": [
     "code"
    ]
   },
   "outputs": [],
   "source": [
    "import neptune\n",
    "\n",
    "neptune.init('shared/sklearn-integration', api_token='ANONYMOUS')"
   ]
  },
  {
   "cell_type": "markdown",
   "metadata": {
    "colab_type": "text",
    "id": "AW4MM4qj5ErX",
    "tags": [
     "comment"
    ]
   },
   "source": [
    "Neptune gives you an option of logging data under a public folder as an anonymous user. This is great when you are just trying out the application and don't have a Neptune account yet.\n",
    "\n",
    "If you already have a [Neptune account](https://neptune.ai/register), you can create your own experiment and start logging to it using your personal API token. Pass your `username` to the `project_qualified_name` argument of the `neptune.init()` method: `project_qualified_name='YOUR_USERNAME/YOUR_PROJECT_NAME`. If you don't have a project yet, keep `/sandbox` at the end. The `sandbox` project is automatically created for you."
   ]
  },
  {
   "cell_type": "markdown",
   "metadata": {
    "colab_type": "text",
    "id": "AW4MM4qj5ErX",
    "tags": [
     "header"
    ]
   },
   "source": [
    "#### Create an experiment and log classifier parameters"
   ]
  },
  {
   "cell_type": "markdown",
   "metadata": {
    "tags": [
     "comment"
    ]
   },
   "source": [
    "This creates an experiment in Neptune.\n",
    "\n",
    "Once you have a live experiment you can log things to it. Here you also pass `parameters` created before."
   ]
  },
  {
   "cell_type": "code",
   "execution_count": null,
   "metadata": {
    "tags": [
     "code"
    ]
   },
   "outputs": [],
   "source": [
    "neptune.create_experiment(params=parameters,\n",
    "                          name='classification-example',\n",
    "                          tags=['GradientBoostingClassifier', 'classification'])"
   ]
  },
  {
   "cell_type": "markdown",
   "metadata": {
    "tags": [
     "comment"
    ]
   },
   "source": [
    "Click on the link above to open this experiment in Neptune.\n",
    "\n",
    "For now it is empty but keep the tab with experiment open to see what happens next."
   ]
  },
  {
   "cell_type": "markdown",
   "metadata": {
    "tags": [
     "header"
    ]
   },
   "source": [
    "#### Log scores on test data to Neptune"
   ]
  },
  {
   "cell_type": "markdown",
   "metadata": {
    "tags": [
     "comment"
    ]
   },
   "source": [
    "Here, we use basic Neptune's method, `log_metric()`, that logs numeric type of data to the experiment."
   ]
  },
  {
   "cell_type": "code",
   "execution_count": null,
   "metadata": {
    "tags": [
     "code"
    ]
   },
   "outputs": [],
   "source": [
    "from sklearn.metrics import max_error, mean_absolute_error, r2_score\n",
    "\n",
    "y_pred = gbc.predict(X_test)\n",
    "\n",
    "neptune.log_metric('max_error', max_error(y_test, y_pred))\n",
    "neptune.log_metric('mean_absolute_error', mean_absolute_error(y_test, y_pred))\n",
    "neptune.log_metric('r2_score', r2_score(y_test, y_pred))"
   ]
  },
  {
   "cell_type": "code",
   "execution_count": null,
   "metadata": {
    "tags": [
     "tests"
    ]
   },
   "outputs": [],
   "source": [
    "# tests\n",
    "exp = neptune.get_experiment()"
   ]
  },
  {
   "cell_type": "markdown",
   "metadata": {
    "colab_type": "text",
    "id": "AW4MM4qj5ErX",
    "tags": [
     "header"
    ]
   },
   "source": [
    "#### Stop Neptune experiment after logging scores"
   ]
  },
  {
   "cell_type": "markdown",
   "metadata": {
    "tags": [
     "comment"
    ]
   },
   "source": [
    "Below method is necessary only for notebooks users. In the Python scipts experiment is closed automatically when script finishes."
   ]
  },
  {
   "cell_type": "code",
   "execution_count": null,
   "metadata": {
    "colab": {
     "base_uri": "https://localhost:8080/",
     "height": 71
    },
    "colab_type": "code",
    "id": "GvDSBSrOx-R4",
    "outputId": "667d1b2f-cdef-44f0-f505-832205dea223",
    "tags": [
     "code"
    ]
   },
   "outputs": [],
   "source": [
    "neptune.stop()"
   ]
  },
  {
   "cell_type": "code",
   "execution_count": null,
   "metadata": {
    "tags": [
     "tests"
    ]
   },
   "outputs": [],
   "source": [
    "# tests\n",
    "# check logs\n",
    "correct_logs_set = {'max_error', 'mean_absolute_error', 'r2_score'}\n",
    "from_exp_logs = set(exp.get_logs().keys())\n",
    "assert correct_logs_set == from_exp_logs, '{} - incorrect logs'.format(exp)\n",
    "\n",
    "# check parameters\n",
    "assert set(exp.get_parameters().keys()) == set(parameters.keys()), '{} parameters do not match'.format(exp)"
   ]
  },
  {
   "cell_type": "markdown",
   "metadata": {
    "tags": [
     "header"
    ]
   },
   "source": [
    "### Basic example: summary"
   ]
  },
  {
   "cell_type": "markdown",
   "metadata": {
    "tags": [
     "comment"
    ]
   },
   "source": [
    "Now, go back to the previously opened browser tab with your experiment to see tracked [parameters](https://ui.neptune.ai/shared/sklearn-integration/e/SKLEARN-5281/parameters) and [scores](https://ui.neptune.ai/shared/sklearn-integration/e/SKLEARN-5281/charts). Look for these tabs on the left side.\n",
    "\n",
    "You just learned how to:\n",
    "* set project and create experiment using Neptune API,\n",
    "* log sklearn classifier parameters and scores to the experiment.\n",
    "\n",
    "Such logging is a basic usage of Neptune to track sklearn experiments."
   ]
  },
  {
   "cell_type": "markdown",
   "metadata": {
    "tags": [
     "header"
    ]
   },
   "source": [
    "#### If you want to learn more, go to the [Neptune documentation](https://docs.neptune.ai/integrations/sklearn.html)."
   ]
  },
  {
   "cell_type": "markdown",
   "metadata": {
    "colab_type": "text",
    "id": "AW4MM4qj5ErX",
    "tags": [
     "header"
    ]
   },
   "source": [
    "### Automatically log classifier summary to Neptune"
   ]
  },
  {
   "cell_type": "markdown",
   "metadata": {
    "tags": [
     "comment"
    ]
   },
   "source": [
    "In this section we will use Neptune's integration with sklearn to automatically log multiple types of meta-data related to the trained sklearn classifier.\n",
    "\n",
    "This integration automatically logs multiple types of meta-data including:\n",
    "\n",
    "* all parameters as properties,\n",
    "* pickled model,\n",
    "* test predictions,\n",
    "* test predictions probabilities,\n",
    "* test scores,\n",
    "* visualizations - such as confusion matrix,\n",
    "* other metadata including git summary info."
   ]
  },
  {
   "cell_type": "markdown",
   "metadata": {
    "colab_type": "text",
    "id": "AW4MM4qj5ErX",
    "tags": [
     "header"
    ]
   },
   "source": [
    "#### Initialize Neptune"
   ]
  },
  {
   "cell_type": "code",
   "execution_count": null,
   "metadata": {
    "tags": [
     "code"
    ]
   },
   "outputs": [],
   "source": [
    "import neptune\n",
    "\n",
    "neptune.init('shared/sklearn-integration', api_token='ANONYMOUS')"
   ]
  },
  {
   "cell_type": "markdown",
   "metadata": {
    "colab_type": "text",
    "id": "AW4MM4qj5ErX",
    "tags": [
     "header"
    ]
   },
   "source": [
    "#### Create an experiment and log classifier parameters"
   ]
  },
  {
   "cell_type": "code",
   "execution_count": null,
   "metadata": {
    "tags": [
     "code"
    ]
   },
   "outputs": [],
   "source": [
    "neptune.create_experiment(params=parameters,\n",
    "                          name='classification-example',\n",
    "                          tags=['GradientBoostingClassifier', 'classification'])"
   ]
  },
  {
   "cell_type": "markdown",
   "metadata": {
    "colab_type": "text",
    "id": "AW4MM4qj5ErX",
    "tags": [
     "header"
    ]
   },
   "source": [
    "#### Log classifier summary"
   ]
  },
  {
   "cell_type": "markdown",
   "metadata": {
    "tags": [
     "comment"
    ]
   },
   "source": [
    "Use Neptune's integration with sklearn to do the logging."
   ]
  },
  {
   "cell_type": "code",
   "execution_count": null,
   "metadata": {
    "colab": {
     "base_uri": "https://localhost:8080/",
     "height": 71
    },
    "colab_type": "code",
    "id": "GvDSBSrOx-R4",
    "outputId": "667d1b2f-cdef-44f0-f505-832205dea223",
    "tags": [
     "code"
    ]
   },
   "outputs": [],
   "source": [
    "from neptunecontrib.monitoring.sklearn import log_classifier_summary\n",
    "\n",
    "log_classifier_summary(gbc, X_train, X_test, y_train, y_test)"
   ]
  },
  {
   "cell_type": "markdown",
   "metadata": {
    "tags": [
     "comment"
    ]
   },
   "source": [
    "You just logged information about the classifier, including:\n",
    "\n",
    "* [logged classifier parameters](https://ui.neptune.ai/o/shared/org/sklearn-integration/e/SKLEARN-312/details) as properties,\n",
    "* [logged pickled model](https://ui.neptune.ai/o/shared/org/sklearn-integration/e/SKLEARN-312/artifacts?path=model%2F&file=estimator.skl),\n",
    "* [logged test predictions](https://ui.neptune.ai/o/shared/org/sklearn-integration/e/SKLEARN-312/artifacts?path=csv%2F&file=test_predictions.csv),\n",
    "* [logged test predictions probabilities](https://ui.neptune.ai/o/shared/org/sklearn-integration/e/SKLEARN-312/artifacts?path=csv%2F&file=test_preds_proba.csv),\n",
    "* [logged test scores](https://ui.neptune.ai/o/shared/org/sklearn-integration/e/SKLEARN-312/charts),\n",
    "* [logged classifier visualizations](https://ui.neptune.ai/o/shared/org/sklearn-integration/e/SKLEARN-312/logs) - look for \"charts_sklearn\",\n",
    "* [logged metadata](https://ui.neptune.ai/o/shared/org/sklearn-integration/e/SKLEARN-312/details) including git summary info."
   ]
  },
  {
   "cell_type": "markdown",
   "metadata": {
    "tags": [
     "comment"
    ]
   },
   "source": [
    "Simply use `log_regressor_summary` to log meta-data related to the sklearn's regressors. If you want to learn more, go to the [Neptune documentation](https://docs.neptune.ai/integrations/sklearn.html)."
   ]
  },
  {
   "cell_type": "code",
   "execution_count": null,
   "metadata": {
    "tags": [
     "tests"
    ]
   },
   "outputs": [],
   "source": [
    "# tests\n",
    "exp = neptune.get_experiment()"
   ]
  },
  {
   "cell_type": "markdown",
   "metadata": {
    "colab_type": "text",
    "id": "AW4MM4qj5ErX",
    "tags": [
     "header"
    ]
   },
   "source": [
    "#### Stop Neptune experiment after logging summary"
   ]
  },
  {
   "cell_type": "markdown",
   "metadata": {
    "tags": [
     "comment"
    ]
   },
   "source": [
    "Below method is necessary only for notebooks users. In the Python scipts experiment is closed automatically when script finishes."
   ]
  },
  {
   "cell_type": "code",
   "execution_count": null,
   "metadata": {
    "colab": {
     "base_uri": "https://localhost:8080/",
     "height": 71
    },
    "colab_type": "code",
    "id": "GvDSBSrOx-R4",
    "outputId": "667d1b2f-cdef-44f0-f505-832205dea223",
    "tags": [
     "code"
    ]
   },
   "outputs": [],
   "source": [
    "neptune.stop()"
   ]
  },
  {
   "cell_type": "code",
   "execution_count": null,
   "metadata": {
    "tags": [
     "tests"
    ]
   },
   "outputs": [],
   "source": [
    "# check logs\n",
    "correct_logs_set = {'charts_sklearn'}\n",
    "for name in ['precision', 'recall', 'fbeta_score', 'support']:\n",
    "    for i in range(10):\n",
    "        correct_logs_set.add('{}_class_{}_test_sklearn'.format(name, i))\n",
    "from_exp_logs = set(exp.get_logs().keys())\n",
    "assert correct_logs_set == from_exp_logs, '{} - incorrect logs'.format(exp)\n",
    "\n",
    "# check sklearn parameters\n",
    "assert set(exp.get_properties().keys()) == set(gbc.get_params().keys()), '{} parameters do not match'.format(exp)\n",
    "\n",
    "# check neptune parameters\n",
    "assert set(exp.get_parameters().keys()) == set(parameters.keys()), '{} parameters do not match'.format(exp)"
   ]
  },
  {
   "cell_type": "markdown",
   "metadata": {
    "colab_type": "text",
    "id": "ta6VcI8z6DvM",
    "tags": [
     "header"
    ]
   },
   "source": [
    "### Automatic logging to Neptune: summary"
   ]
  },
  {
   "cell_type": "markdown",
   "metadata": {
    "tags": [
     "comment"
    ]
   },
   "source": [
    "You just learned how to log scikit-learn classification summary to Neptune using single function.\n",
    "\n",
    "Click on the link that was outputted to the console or [go here](https://ui.neptune.ai/o/shared/org/sklearn-integration/e/SKLEARN-312/charts) to explore an experiment similar to yours. In particular check:\n",
    "\n",
    "* [logged classifier parameters](https://ui.neptune.ai/o/shared/org/sklearn-integration/e/SKLEARN-312/details) as properties,\n",
    "* [logged pickled model](https://ui.neptune.ai/o/shared/org/sklearn-integration/e/SKLEARN-312/artifacts?path=model%2F&file=estimator.skl),\n",
    "* [logged test predictions](https://ui.neptune.ai/o/shared/org/sklearn-integration/e/SKLEARN-312/artifacts?path=csv%2F&file=test_predictions.csv),\n",
    "* [logged test predictions probabilities](https://ui.neptune.ai/o/shared/org/sklearn-integration/e/SKLEARN-312/artifacts?path=csv%2F&file=test_preds_proba.csv),\n",
    "* [logged test scores](https://ui.neptune.ai/o/shared/org/sklearn-integration/e/SKLEARN-312/charts),\n",
    "* [logged classifier visualizations](https://ui.neptune.ai/o/shared/org/sklearn-integration/e/SKLEARN-312/logs) - look for \"charts_sklearn\",\n",
    "* [logged metadata](https://ui.neptune.ai/o/shared/org/sklearn-integration/e/SKLEARN-312/details) including git summary info."
   ]
  },
  {
   "cell_type": "markdown",
   "metadata": {
    "tags": [
     "header"
    ]
   },
   "source": [
    "## If you want to learn more, go to the [Neptune documentation](https://docs.neptune.ai/integrations/sklearn.html)."
   ]
  }
 ],
 "metadata": {
  "colab": {
   "name": "Tour-with-Sklearn.ipynb",
   "provenance": []
  },
  "kernelspec": {
   "display_name": "Python 3",
   "language": "python",
   "name": "python3"
  },
  "language_info": {
   "codemirror_mode": {
    "name": "ipython",
    "version": 3
   },
   "file_extension": ".py",
   "mimetype": "text/x-python",
   "name": "python",
   "nbconvert_exporter": "python",
   "pygments_lexer": "ipython3",
   "version": "3.6.9"
  }
 },
 "nbformat": 4,
 "nbformat_minor": 4
}
