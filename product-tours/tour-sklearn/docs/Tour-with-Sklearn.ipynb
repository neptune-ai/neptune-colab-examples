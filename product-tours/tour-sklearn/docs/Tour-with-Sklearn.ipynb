{
 "cells": [
  {
   "cell_type": "markdown",
   "metadata": {
    "colab_type": "text",
    "id": "QXGSKS1u0n8x",
    "tags": [
     "header"
    ]
   },
   "source": [
    "# Tour with Scikit-learn"
   ]
  },
  {
   "cell_type": "markdown",
   "metadata": {
    "tags": [
     "header"
    ]
   },
   "source": [
    "## Install dependencies"
   ]
  },
  {
   "cell_type": "code",
   "execution_count": null,
   "metadata": {
    "colab": {},
    "colab_type": "code",
    "id": "DO7yawFVxVIt",
    "tags": [
     "installation"
    ]
   },
   "outputs": [],
   "source": [
    "! pip install --quiet scikit-learn==0.24.1 neptune-client==0.5.0 neptune-contrib[monitoring]==0.26.0"
   ]
  },
  {
   "cell_type": "markdown",
   "metadata": {
    "tags": [
     "header"
    ]
   },
   "source": [
    "## Introduction"
   ]
  },
  {
   "cell_type": "markdown",
   "metadata": {
    "tags": [
     "header"
    ]
   },
   "source": [
    "## Logging Scikit-learn classifier meta-data to Neptune"
   ]
  },
  {
   "cell_type": "markdown",
   "metadata": {
    "tags": [
     "header"
    ]
   },
   "source": [
    "### Basic example"
   ]
  },
  {
   "cell_type": "code",
   "execution_count": null,
   "metadata": {
    "tags": [
     "code"
    ]
   },
   "outputs": [],
   "source": [
    "parameters = {'n_estimators': 120,\n",
    "              'learning_rate': 0.12,\n",
    "              'min_samples_split': 3,\n",
    "              'min_samples_leaf': 2}"
   ]
  },
  {
   "cell_type": "code",
   "execution_count": null,
   "metadata": {
    "tags": [
     "code"
    ]
   },
   "outputs": [],
   "source": [
    "from sklearn.datasets import load_digits\n",
    "from sklearn.ensemble import GradientBoostingClassifier\n",
    "from sklearn.model_selection import train_test_split\n",
    "\n",
    "gbc = GradientBoostingClassifier(**parameters)\n",
    "\n",
    "X, y = load_digits(return_X_y=True)\n",
    "X_train, X_test, y_train, y_test = train_test_split(X, y, test_size=0.20, random_state=28743)\n",
    "\n",
    "gbc.fit(X_train, y_train)"
   ]
  },
  {
   "cell_type": "markdown",
   "metadata": {
    "colab_type": "text",
    "id": "AW4MM4qj5ErX",
    "tags": [
     "header"
    ]
   },
   "source": [
    "#### Initialize Neptune"
   ]
  },
  {
   "cell_type": "code",
   "execution_count": null,
   "metadata": {
    "tags": [
     "code"
    ]
   },
   "outputs": [],
   "source": [
    "import neptune\n",
    "\n",
    "neptune.init('shared/sklearn-integration', api_token='ANONYMOUS')"
   ]
  },
  {
   "cell_type": "markdown",
   "metadata": {
    "colab_type": "text",
    "id": "AW4MM4qj5ErX",
    "tags": [
     "header"
    ]
   },
   "source": [
    "#### Create an experiment and log classifier parameters"
   ]
  },
  {
   "cell_type": "code",
   "execution_count": null,
   "metadata": {
    "tags": [
     "code"
    ]
   },
   "outputs": [],
   "source": [
    "neptune.create_experiment(params=parameters,\n",
    "                          name='classification-example',\n",
    "                          tags=['GradientBoostingClassifier', 'classification'])"
   ]
  },
  {
   "cell_type": "markdown",
   "metadata": {
    "tags": [
     "header"
    ]
   },
   "source": [
    "#### Log scores on test data to Neptune"
   ]
  },
  {
   "cell_type": "code",
   "execution_count": null,
   "metadata": {
    "tags": [
     "code"
    ]
   },
   "outputs": [],
   "source": [
    "from sklearn.metrics import max_error, mean_absolute_error, r2_score\n",
    "\n",
    "y_pred = gbc.predict(X_test)\n",
    "\n",
    "neptune.log_metric('max_error', max_error(y_test, y_pred))\n",
    "neptune.log_metric('mean_absolute_error', mean_absolute_error(y_test, y_pred))\n",
    "neptune.log_metric('r2_score', r2_score(y_test, y_pred))"
   ]
  },
  {
   "cell_type": "markdown",
   "metadata": {
    "colab_type": "text",
    "id": "AW4MM4qj5ErX",
    "tags": [
     "header"
    ]
   },
   "source": [
    "#### Stop Neptune experiment after logging scores"
   ]
  },
  {
   "cell_type": "code",
   "execution_count": null,
   "metadata": {
    "colab": {
     "base_uri": "https://localhost:8080/",
     "height": 71
    },
    "colab_type": "code",
    "id": "GvDSBSrOx-R4",
    "outputId": "667d1b2f-cdef-44f0-f505-832205dea223",
    "tags": [
     "code"
    ]
   },
   "outputs": [],
   "source": [
    "neptune.stop()"
   ]
  },
  {
   "cell_type": "markdown",
   "metadata": {
    "tags": [
     "header"
    ]
   },
   "source": [
    "### Basic example: summary"
   ]
  },
  {
   "cell_type": "markdown",
   "metadata": {
    "tags": [
     "header"
    ]
   },
   "source": [
    "#### If you want to learn more, go to the [Neptune documentation](https://docs.neptune.ai/integrations/sklearn.html)."
   ]
  },
  {
   "cell_type": "markdown",
   "metadata": {
    "colab_type": "text",
    "id": "AW4MM4qj5ErX",
    "tags": [
     "header"
    ]
   },
   "source": [
    "### Automatically log classifier summary to Neptune"
   ]
  },
  {
   "cell_type": "markdown",
   "metadata": {
    "colab_type": "text",
    "id": "AW4MM4qj5ErX",
    "tags": [
     "header"
    ]
   },
   "source": [
    "#### Initialize Neptune"
   ]
  },
  {
   "cell_type": "code",
   "execution_count": null,
   "metadata": {
    "tags": [
     "code"
    ]
   },
   "outputs": [],
   "source": [
    "import neptune\n",
    "\n",
    "neptune.init('shared/sklearn-integration', api_token='ANONYMOUS')"
   ]
  },
  {
   "cell_type": "markdown",
   "metadata": {
    "colab_type": "text",
    "id": "AW4MM4qj5ErX",
    "tags": [
     "header"
    ]
   },
   "source": [
    "#### Create an experiment and log classifier parameters"
   ]
  },
  {
   "cell_type": "code",
   "execution_count": null,
   "metadata": {
    "tags": [
     "code"
    ]
   },
   "outputs": [],
   "source": [
    "neptune.create_experiment(params=parameters,\n",
    "                          name='classification-example',\n",
    "                          tags=['GradientBoostingClassifier', 'classification'])"
   ]
  },
  {
   "cell_type": "markdown",
   "metadata": {
    "colab_type": "text",
    "id": "AW4MM4qj5ErX",
    "tags": [
     "header"
    ]
   },
   "source": [
    "#### Log classifier summary"
   ]
  },
  {
   "cell_type": "code",
   "execution_count": null,
   "metadata": {
    "colab": {
     "base_uri": "https://localhost:8080/",
     "height": 71
    },
    "colab_type": "code",
    "id": "GvDSBSrOx-R4",
    "outputId": "667d1b2f-cdef-44f0-f505-832205dea223",
    "tags": [
     "code"
    ]
   },
   "outputs": [],
   "source": [
    "from neptunecontrib.monitoring.sklearn import log_classifier_summary\n",
    "\n",
    "log_classifier_summary(gbc, X_train, X_test, y_train, y_test)"
   ]
  },
  {
   "cell_type": "markdown",
   "metadata": {
    "colab_type": "text",
    "id": "AW4MM4qj5ErX",
    "tags": [
     "header"
    ]
   },
   "source": [
    "#### Stop Neptune experiment after logging summary"
   ]
  },
  {
   "cell_type": "code",
   "execution_count": null,
   "metadata": {
    "colab": {
     "base_uri": "https://localhost:8080/",
     "height": 71
    },
    "colab_type": "code",
    "id": "GvDSBSrOx-R4",
    "outputId": "667d1b2f-cdef-44f0-f505-832205dea223",
    "tags": [
     "code"
    ]
   },
   "outputs": [],
   "source": [
    "neptune.stop()"
   ]
  },
  {
   "cell_type": "markdown",
   "metadata": {
    "colab_type": "text",
    "id": "ta6VcI8z6DvM",
    "tags": [
     "header"
    ]
   },
   "source": [
    "### Automatic logging to Neptune: summary"
   ]
  },
  {
   "cell_type": "markdown",
   "metadata": {
    "tags": [
     "header"
    ]
   },
   "source": [
    "## If you want to learn more, go to the [Neptune documentation](https://docs.neptune.ai/integrations/sklearn.html)."
   ]
  }
 ],
 "metadata": {
  "colab": {
   "name": "Tour-with-Sklearn.ipynb",
   "provenance": []
  },
  "kernelspec": {
   "display_name": "Python 3",
   "language": "python",
   "name": "python3"
  },
  "language_info": {
   "codemirror_mode": {
    "name": "ipython",
    "version": 3
   },
   "file_extension": ".py",
   "mimetype": "text/x-python",
   "name": "python",
   "nbconvert_exporter": "python",
   "pygments_lexer": "ipython3",
   "version": "3.6.9"
  }
 },
 "nbformat": 4,
 "nbformat_minor": 4
}
