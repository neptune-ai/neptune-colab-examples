{
 "cells": [
  {
   "cell_type": "markdown",
   "metadata": {
    "colab_type": "text",
    "id": "QXGSKS1u0n8x",
    "tags": [
     "header"
    ]
   },
   "source": [
    "# Tour with TensorFlow and Keras"
   ]
  },
  {
   "cell_type": "markdown",
   "metadata": {
    "tags": [
     "header"
    ]
   },
   "source": [
    "## Install dependencies"
   ]
  },
  {
   "cell_type": "code",
   "execution_count": null,
   "metadata": {
    "colab": {},
    "colab_type": "code",
    "id": "DO7yawFVxVIt",
    "tags": [
     "installation"
    ]
   },
   "outputs": [],
   "source": [
    "! pip install --quiet neptune-client==0.4.131 neptune-contrib==0.25.0 tensorflow==2.3.1"
   ]
  },
  {
   "cell_type": "markdown",
   "metadata": {
    "tags": [
     "header"
    ]
   },
   "source": [
    "# Basic Tour"
   ]
  },
  {
   "cell_type": "markdown",
   "metadata": {
    "tags": [
     "comment"
    ]
   },
   "source": [
    "* This tour will introduce you to Neptune client API. In the next few steps you will see how to create experiment in the project and log meaningful training data to the running experiment.\n",
    "* This tour use popular deep learning libraries TensorFlow and Keras to make it looks familiar."
   ]
  },
  {
   "cell_type": "markdown",
   "metadata": {
    "tags": [
     "header"
    ]
   },
   "source": [
    "## Step 1: Import Neptune and TensorFlow"
   ]
  },
  {
   "cell_type": "code",
   "execution_count": null,
   "metadata": {
    "tags": [
     "code"
    ]
   },
   "outputs": [],
   "source": [
    "import neptune\n",
    "import tensorflow as tf"
   ]
  },
  {
   "cell_type": "markdown",
   "metadata": {
    "tags": [
     "header"
    ]
   },
   "source": [
    "## Step 2: Select Neptune project"
   ]
  },
  {
   "cell_type": "markdown",
   "metadata": {
    "tags": [
     "comment"
    ]
   },
   "source": [
    "Use ``neptune.init`` to set project. It's necessary to tell Neptune to which project you want to log experiments' data.\n",
    "\n",
    "**Note**: consider using your own project and API token. Here is how to:\n",
    "* [get api token](https://docs.neptune.ai/security-and-privacy/api-tokens/how-to-find-and-set-neptune-api-token.html)\n",
    "* [create project](https://docs.neptune.ai/workspace-project-and-user-management/projects/create-project.html)"
   ]
  },
  {
   "cell_type": "code",
   "execution_count": null,
   "metadata": {
    "tags": [
     "code"
    ]
   },
   "outputs": [],
   "source": [
    "neptune.init('shared/tour-with-tf-keras',\n",
    "             api_token='ANONYMOUS')"
   ]
  },
  {
   "cell_type": "markdown",
   "metadata": {
    "colab_type": "text",
    "id": "AW4MM4qj5ErX",
    "tags": [
     "header"
    ]
   },
   "source": [
    "## Step 3: Create Neptune experiment"
   ]
  },
  {
   "cell_type": "markdown",
   "metadata": {
    "tags": [
     "comment"
    ]
   },
   "source": [
    "* Use ``neptune.create_experiment`` to make new experiment in the project."
   ]
  },
  {
   "cell_type": "code",
   "execution_count": null,
   "metadata": {
    "colab": {
     "base_uri": "https://localhost:8080/",
     "height": 71
    },
    "colab_type": "code",
    "id": "GvDSBSrOx-R4",
    "outputId": "667d1b2f-cdef-44f0-f505-832205dea223",
    "tags": [
     "code"
    ]
   },
   "outputs": [],
   "source": [
    "neptune.create_experiment(name='tf-keras-training-basic')"
   ]
  },
  {
   "cell_type": "markdown",
   "metadata": {
    "tags": [
     "header"
    ]
   },
   "source": [
    "## Step 4: Prepare dataset and model"
   ]
  },
  {
   "cell_type": "markdown",
   "metadata": {
    "tags": [
     "comment"
    ]
   },
   "source": [
    "Use Keras API to prepare dataset (fashion MNIST) and model (feedforward network)."
   ]
  },
  {
   "cell_type": "code",
   "execution_count": null,
   "metadata": {
    "tags": [
     "code"
    ]
   },
   "outputs": [],
   "source": [
    "# dataset\n",
    "(x_train, y_train), (x_test, y_test) = tf.keras.datasets.fashion_mnist.load_data()\n",
    "x_train = x_train / 255.0\n",
    "x_test = x_test / 255.0\n",
    "\n",
    "class_names = ['T-shirt/top', 'Trouser', 'Pullover', 'Dress', 'Coat',\n",
    "               'Sandal', 'Shirt', 'Sneaker', 'Bag', 'Ankle boot']\n",
    "\n",
    "# model\n",
    "model = tf.keras.Sequential([\n",
    "    tf.keras.layers.Flatten(input_shape=(28, 28)),\n",
    "    tf.keras.layers.Dense(32, activation='relu'),\n",
    "    tf.keras.layers.Dropout(0.3),\n",
    "    tf.keras.layers.Dense(32, activation='relu'),\n",
    "    tf.keras.layers.Dropout(0.3),\n",
    "    tf.keras.layers.Dense(10, activation='softmax')\n",
    "])\n",
    "optimizer = tf.keras.optimizers.SGD(learning_rate=0.05)\n",
    "model.compile(optimizer=optimizer,\n",
    "              loss='sparse_categorical_crossentropy',\n",
    "              metrics=['accuracy'])"
   ]
  },
  {
   "cell_type": "markdown",
   "metadata": {
    "colab_type": "text",
    "id": "UphOuRMm5sZs",
    "tags": [
     "header"
    ]
   },
   "source": [
    "## Step 5: Use NeptuneMonitor callback to log metrics during training"
   ]
  },
  {
   "cell_type": "markdown",
   "metadata": {
    "tags": [
     "comment"
    ]
   },
   "source": [
    "* Neptune has TF / Keras integration available. Simply use ``NeptuneMonitor`` callback in the ``fit`` method to log metrics during training.\n",
    "* In the Neptune UI you will see metrics being updated almost in real time."
   ]
  },
  {
   "cell_type": "code",
   "execution_count": null,
   "metadata": {
    "colab": {
     "base_uri": "https://localhost:8080/",
     "height": 571,
     "referenced_widgets": [
      "ba89ac8d1a484df8982c3a7893612063",
      "c13a6b3b97104d0bb5b192dce80cfd3e",
      "c0563b7a2e8948fd9978bc9354ca6065",
      "decaf1c07cae4c77b93cda67fe099e84",
      "c0e4c494d7f1477ca12efba2d5d4fa0d",
      "66caa712c02441ee828d621a3e71de54",
      "23cdc7027a414473aa7c2d0f9ca87fa8",
      "2da128bac24f45f8ab91a14f07b277ec",
      "4ad8f9ca40b9434c809bb8320eaf880e",
      "0273d66512434d10bbb9a11401e83972",
      "12a5f6c96bc3440da1190b534247193e",
      "3d4296d82a534741be3416d621259e69",
      "93ecc7bd7d194062a2b10b5d6498f323",
      "ce82c5ef3840466e84bc4f76e6b15a5b",
      "7f657e4fe7414f579d1a0fcf72030869",
      "ecf95e257ab3486abe8d6e4b6c61f118",
      "6a94ff719378494989cff5ab48c3a5cf",
      "d920dd3a4fd24bc0a542f2f61b9833a2",
      "fe01222bf018498a899d97eb8a992400",
      "b822595237fb402d9a6adae103a6a5cd",
      "fbe67705da6e4009b16de22718d14b4a",
      "b280c8ec9fde4027aa6160ccabdd1168",
      "509ab2788f8345fca1ea48d2069d0ab6",
      "11083e4a55114a9e88196a53f26c8684",
      "74e02a36f2a54e7ebd3b3b00274d0fce",
      "0f44e8ac4bc646428843cd047a7072ce",
      "b950ad13f0ca4d80bb3dca375f7442a0",
      "84beace795f2438fb559fc8f4e1ed506",
      "54f93b1aa7404964ae93a32bfae2a9ff",
      "b56e9e4063cf48dc9e67c004ace5b8ce",
      "9e8bba26d9574ebb9b9591c46bf4a1b1",
      "bdceecbff7024109b6a6a1e11723107a",
      "8eea965837be4b468bbb852e18d8dde6",
      "822b579efc5f4e6f90e9d1f025334f7a",
      "9c9c27cb7dba44e0a9425ccec5dc05d0",
      "6c22d754f0c04ab683e33ccde7b34f82",
      "59915949271044d68f7df41436f03625",
      "3512f48f7b674367a93b346b67431a38",
      "85aca891429d4943be2d8dd02cf342b3",
      "b239f7cc9624462e889a329eb763cb07"
     ]
    },
    "colab_type": "code",
    "id": "3u_Kb86BzWzq",
    "outputId": "120f001e-e748-4fa1-8405-8e5d3c3dfd16",
    "tags": [
     "code"
    ]
   },
   "outputs": [],
   "source": [
    "from neptunecontrib.monitoring.keras import NeptuneMonitor\n",
    "\n",
    "model.fit(x_train, y_train,\n",
    "          epochs=10,\n",
    "          validation_split=0.2,\n",
    "          callbacks=[NeptuneMonitor()])"
   ]
  },
  {
   "cell_type": "markdown",
   "metadata": {
    "colab_type": "text",
    "id": "UphOuRMm5sZs",
    "tags": [
     "header"
    ]
   },
   "source": [
    "## Step 6: Log model evaluation metrics"
   ]
  },
  {
   "cell_type": "markdown",
   "metadata": {
    "tags": [
     "comment"
    ]
   },
   "source": [
    "Use ``neptune.log_metric`` to log model evaluation metrics."
   ]
  },
  {
   "cell_type": "code",
   "execution_count": null,
   "metadata": {
    "colab": {
     "base_uri": "https://localhost:8080/",
     "height": 571,
     "referenced_widgets": [
      "ba89ac8d1a484df8982c3a7893612063",
      "c13a6b3b97104d0bb5b192dce80cfd3e",
      "c0563b7a2e8948fd9978bc9354ca6065",
      "decaf1c07cae4c77b93cda67fe099e84",
      "c0e4c494d7f1477ca12efba2d5d4fa0d",
      "66caa712c02441ee828d621a3e71de54",
      "23cdc7027a414473aa7c2d0f9ca87fa8",
      "2da128bac24f45f8ab91a14f07b277ec",
      "4ad8f9ca40b9434c809bb8320eaf880e",
      "0273d66512434d10bbb9a11401e83972",
      "12a5f6c96bc3440da1190b534247193e",
      "3d4296d82a534741be3416d621259e69",
      "93ecc7bd7d194062a2b10b5d6498f323",
      "ce82c5ef3840466e84bc4f76e6b15a5b",
      "7f657e4fe7414f579d1a0fcf72030869",
      "ecf95e257ab3486abe8d6e4b6c61f118",
      "6a94ff719378494989cff5ab48c3a5cf",
      "d920dd3a4fd24bc0a542f2f61b9833a2",
      "fe01222bf018498a899d97eb8a992400",
      "b822595237fb402d9a6adae103a6a5cd",
      "fbe67705da6e4009b16de22718d14b4a",
      "b280c8ec9fde4027aa6160ccabdd1168",
      "509ab2788f8345fca1ea48d2069d0ab6",
      "11083e4a55114a9e88196a53f26c8684",
      "74e02a36f2a54e7ebd3b3b00274d0fce",
      "0f44e8ac4bc646428843cd047a7072ce",
      "b950ad13f0ca4d80bb3dca375f7442a0",
      "84beace795f2438fb559fc8f4e1ed506",
      "54f93b1aa7404964ae93a32bfae2a9ff",
      "b56e9e4063cf48dc9e67c004ace5b8ce",
      "9e8bba26d9574ebb9b9591c46bf4a1b1",
      "bdceecbff7024109b6a6a1e11723107a",
      "8eea965837be4b468bbb852e18d8dde6",
      "822b579efc5f4e6f90e9d1f025334f7a",
      "9c9c27cb7dba44e0a9425ccec5dc05d0",
      "6c22d754f0c04ab683e33ccde7b34f82",
      "59915949271044d68f7df41436f03625",
      "3512f48f7b674367a93b346b67431a38",
      "85aca891429d4943be2d8dd02cf342b3",
      "b239f7cc9624462e889a329eb763cb07"
     ]
    },
    "colab_type": "code",
    "id": "3u_Kb86BzWzq",
    "outputId": "120f001e-e748-4fa1-8405-8e5d3c3dfd16",
    "tags": [
     "code"
    ]
   },
   "outputs": [],
   "source": [
    "eval_metrics = model.evaluate(x_test, y_test, verbose=0)\n",
    "\n",
    "for j, metric in enumerate(eval_metrics):\n",
    "    neptune.log_metric('test_{}'.format(model.metrics_names[j]), metric)"
   ]
  },
  {
   "cell_type": "markdown",
   "metadata": {
    "colab_type": "text",
    "id": "UphOuRMm5sZs",
    "tags": [
     "header"
    ]
   },
   "source": [
    "## Step 7: Stop experiment at the end"
   ]
  },
  {
   "cell_type": "markdown",
   "metadata": {
    "tags": [
     "comment"
    ]
   },
   "source": [
    "This statement is needed only in Notebooks. In scripts experiment is closed automatically at the end."
   ]
  },
  {
   "cell_type": "code",
   "execution_count": null,
   "metadata": {
    "tags": [
     "code"
    ]
   },
   "outputs": [],
   "source": [
    "neptune.stop()"
   ]
  },
  {
   "cell_type": "markdown",
   "metadata": {
    "colab_type": "text",
    "id": "UphOuRMm5sZs",
    "tags": [
     "header"
    ]
   },
   "source": [
    "# More logging options"
   ]
  },
  {
   "cell_type": "markdown",
   "metadata": {
    "tags": [
     "comment"
    ]
   },
   "source": [
    "Below we present more logging options. Flow of the example is similar to the basic one. The difference is that here we present more logging options.\n",
    "\n",
    "* logging experiments parameters,\n",
    "* logging data version,\n",
    "* model architecture summary,\n",
    "* weights of the trained model,\n",
    "* predictions on the test set as table,\n",
    "* visualizations of the model performance,\n",
    "* training data sample."
   ]
  },
  {
   "cell_type": "markdown",
   "metadata": {
    "tags": [
     "header"
    ]
   },
   "source": [
    "## Install additional dependencies"
   ]
  },
  {
   "cell_type": "code",
   "execution_count": null,
   "metadata": {
    "colab": {},
    "colab_type": "code",
    "id": "DO7yawFVxVIt",
    "tags": [
     "installation"
    ]
   },
   "outputs": [],
   "source": [
    "! pip install --quiet scikit-plot==0.3.7 matplotlib==3.3.3"
   ]
  },
  {
   "cell_type": "markdown",
   "metadata": {
    "tags": [
     "header"
    ]
   },
   "source": [
    "## Select Neptune project"
   ]
  },
  {
   "cell_type": "markdown",
   "metadata": {
    "tags": [
     "comment"
    ]
   },
   "source": [
    "Use ``neptune.init`` to set project. It's necessary to tell Neptune to which project you want to log experiments' data."
   ]
  },
  {
   "cell_type": "code",
   "execution_count": null,
   "metadata": {
    "tags": [
     "code"
    ]
   },
   "outputs": [],
   "source": [
    "neptune.init('shared/tour-with-tf-keras',\n",
    "             api_token='ANONYMOUS')"
   ]
  },
  {
   "cell_type": "markdown",
   "metadata": {
    "colab_type": "text",
    "id": "rf3FmHL11R0r",
    "tags": [
     "header"
    ]
   },
   "source": [
    "## Prepare params"
   ]
  },
  {
   "cell_type": "markdown",
   "metadata": {
    "tags": [
     "comment"
    ]
   },
   "source": [
    "Prepare Python dict with parameters. You will log them to experiment at it's creation."
   ]
  },
  {
   "cell_type": "code",
   "execution_count": null,
   "metadata": {
    "colab": {},
    "colab_type": "code",
    "id": "ljhFSnypxdUW",
    "tags": [
     "code"
    ]
   },
   "outputs": [],
   "source": [
    "parameters = {'dense_units': 32,\n",
    "              'activation': 'relu',\n",
    "              'dropout': 0.3,\n",
    "              'learning_rate': 0.05,\n",
    "              'batch_size': 32,\n",
    "              'n_epochs': 10}"
   ]
  },
  {
   "cell_type": "markdown",
   "metadata": {
    "colab_type": "text",
    "id": "AW4MM4qj5ErX",
    "tags": [
     "header"
    ]
   },
   "source": [
    "## Create Neptune experiment and log parameters"
   ]
  },
  {
   "cell_type": "markdown",
   "metadata": {
    "tags": [
     "comment"
    ]
   },
   "source": [
    "* Use ``neptune.create_experiment`` to make new experiment in the project.\n",
    "* Log parameters when you create experiment.\n",
    "* Add tags to experiment to better organize it in the project."
   ]
  },
  {
   "cell_type": "code",
   "execution_count": null,
   "metadata": {
    "colab": {
     "base_uri": "https://localhost:8080/",
     "height": 71
    },
    "colab_type": "code",
    "id": "GvDSBSrOx-R4",
    "outputId": "667d1b2f-cdef-44f0-f505-832205dea223",
    "tags": [
     "code"
    ]
   },
   "outputs": [],
   "source": [
    "neptune.create_experiment(name='tf-keras-training-advanced',\n",
    "                          tags=['keras', 'fashion-mnist'],\n",
    "                          params=parameters)"
   ]
  },
  {
   "cell_type": "markdown",
   "metadata": {
    "tags": [
     "header"
    ]
   },
   "source": [
    "## Prepare dataset and log data version"
   ]
  },
  {
   "cell_type": "markdown",
   "metadata": {
    "tags": [
     "comment"
    ]
   },
   "source": [
    "* Use Keras API to prepare dataset (fashion MNIST).\n",
    "* Use `set_property` method to log data version to the experiment."
   ]
  },
  {
   "cell_type": "code",
   "execution_count": null,
   "metadata": {
    "tags": [
     "code"
    ]
   },
   "outputs": [],
   "source": [
    "import hashlib\n",
    "\n",
    "# prepare dataset\n",
    "(x_train, y_train), (x_test, y_test) = tf.keras.datasets.fashion_mnist.load_data()\n",
    "x_train = x_train / 255.0\n",
    "x_test = x_test / 255.0\n",
    "\n",
    "class_names = ['T-shirt/top', 'Trouser', 'Pullover', 'Dress', 'Coat',\n",
    "               'Sandal', 'Shirt', 'Sneaker', 'Bag', 'Ankle boot']\n",
    "\n",
    "# log data version\n",
    "neptune.set_property('x_train_version', hashlib.md5(x_train).hexdigest())\n",
    "neptune.set_property('y_train_version', hashlib.md5(y_train).hexdigest())\n",
    "neptune.set_property('x_test_version', hashlib.md5(x_test).hexdigest())\n",
    "neptune.set_property('y_test_version', hashlib.md5(y_test).hexdigest())\n",
    "\n",
    "neptune.set_property('class_names', class_names)"
   ]
  },
  {
   "cell_type": "markdown",
   "metadata": {
    "colab_type": "text",
    "id": "UphOuRMm5sZs",
    "tags": [
     "header"
    ]
   },
   "source": [
    "## Prepare model and log model architecture summary"
   ]
  },
  {
   "cell_type": "markdown",
   "metadata": {
    "tags": [
     "comment"
    ]
   },
   "source": [
    "* Use Keras API to prepare the model (feedforward network).\n",
    "* Use `log_text` method to log model archoitecture summary."
   ]
  },
  {
   "cell_type": "code",
   "execution_count": null,
   "metadata": {
    "colab": {
     "base_uri": "https://localhost:8080/",
     "height": 571,
     "referenced_widgets": [
      "ba89ac8d1a484df8982c3a7893612063",
      "c13a6b3b97104d0bb5b192dce80cfd3e",
      "c0563b7a2e8948fd9978bc9354ca6065",
      "decaf1c07cae4c77b93cda67fe099e84",
      "c0e4c494d7f1477ca12efba2d5d4fa0d",
      "66caa712c02441ee828d621a3e71de54",
      "23cdc7027a414473aa7c2d0f9ca87fa8",
      "2da128bac24f45f8ab91a14f07b277ec",
      "4ad8f9ca40b9434c809bb8320eaf880e",
      "0273d66512434d10bbb9a11401e83972",
      "12a5f6c96bc3440da1190b534247193e",
      "3d4296d82a534741be3416d621259e69",
      "93ecc7bd7d194062a2b10b5d6498f323",
      "ce82c5ef3840466e84bc4f76e6b15a5b",
      "7f657e4fe7414f579d1a0fcf72030869",
      "ecf95e257ab3486abe8d6e4b6c61f118",
      "6a94ff719378494989cff5ab48c3a5cf",
      "d920dd3a4fd24bc0a542f2f61b9833a2",
      "fe01222bf018498a899d97eb8a992400",
      "b822595237fb402d9a6adae103a6a5cd",
      "fbe67705da6e4009b16de22718d14b4a",
      "b280c8ec9fde4027aa6160ccabdd1168",
      "509ab2788f8345fca1ea48d2069d0ab6",
      "11083e4a55114a9e88196a53f26c8684",
      "74e02a36f2a54e7ebd3b3b00274d0fce",
      "0f44e8ac4bc646428843cd047a7072ce",
      "b950ad13f0ca4d80bb3dca375f7442a0",
      "84beace795f2438fb559fc8f4e1ed506",
      "54f93b1aa7404964ae93a32bfae2a9ff",
      "b56e9e4063cf48dc9e67c004ace5b8ce",
      "9e8bba26d9574ebb9b9591c46bf4a1b1",
      "bdceecbff7024109b6a6a1e11723107a",
      "8eea965837be4b468bbb852e18d8dde6",
      "822b579efc5f4e6f90e9d1f025334f7a",
      "9c9c27cb7dba44e0a9425ccec5dc05d0",
      "6c22d754f0c04ab683e33ccde7b34f82",
      "59915949271044d68f7df41436f03625",
      "3512f48f7b674367a93b346b67431a38",
      "85aca891429d4943be2d8dd02cf342b3",
      "b239f7cc9624462e889a329eb763cb07"
     ]
    },
    "colab_type": "code",
    "id": "3u_Kb86BzWzq",
    "outputId": "120f001e-e748-4fa1-8405-8e5d3c3dfd16",
    "tags": [
     "code"
    ]
   },
   "outputs": [],
   "source": [
    "# prepare model\n",
    "model = tf.keras.Sequential([\n",
    "    tf.keras.layers.Flatten(input_shape=(28, 28)),\n",
    "    tf.keras.layers.Dense(parameters['dense_units'], activation=parameters['activation']),\n",
    "    tf.keras.layers.Dropout(parameters['dropout']),\n",
    "    tf.keras.layers.Dense(parameters['dense_units'], activation=parameters['activation']),\n",
    "    tf.keras.layers.Dropout(parameters['dropout']),\n",
    "    tf.keras.layers.Dense(10, activation='softmax')\n",
    "])\n",
    "optimizer = tf.keras.optimizers.SGD(learning_rate=parameters['learning_rate'])\n",
    "model.compile(optimizer=optimizer,\n",
    "              loss='sparse_categorical_crossentropy',\n",
    "              metrics=['accuracy'])\n",
    "\n",
    "# log model summary\n",
    "model.summary(print_fn=lambda x: neptune.log_text('model_summary', x))"
   ]
  },
  {
   "cell_type": "markdown",
   "metadata": {
    "colab_type": "text",
    "id": "UphOuRMm5sZs",
    "tags": [
     "header"
    ]
   },
   "source": [
    "## Use NeptuneMonitor callback to log metrics during training"
   ]
  },
  {
   "cell_type": "markdown",
   "metadata": {
    "tags": [
     "comment"
    ]
   },
   "source": [
    "* Neptune has TF / Keras integration available. Simply use ``NeptuneMonitor`` callback in the ``fit`` method to log metrics during training.\n",
    "* In the Neptune UI you will see metrics being updated almost in real time."
   ]
  },
  {
   "cell_type": "code",
   "execution_count": null,
   "metadata": {
    "colab": {
     "base_uri": "https://localhost:8080/",
     "height": 571,
     "referenced_widgets": [
      "ba89ac8d1a484df8982c3a7893612063",
      "c13a6b3b97104d0bb5b192dce80cfd3e",
      "c0563b7a2e8948fd9978bc9354ca6065",
      "decaf1c07cae4c77b93cda67fe099e84",
      "c0e4c494d7f1477ca12efba2d5d4fa0d",
      "66caa712c02441ee828d621a3e71de54",
      "23cdc7027a414473aa7c2d0f9ca87fa8",
      "2da128bac24f45f8ab91a14f07b277ec",
      "4ad8f9ca40b9434c809bb8320eaf880e",
      "0273d66512434d10bbb9a11401e83972",
      "12a5f6c96bc3440da1190b534247193e",
      "3d4296d82a534741be3416d621259e69",
      "93ecc7bd7d194062a2b10b5d6498f323",
      "ce82c5ef3840466e84bc4f76e6b15a5b",
      "7f657e4fe7414f579d1a0fcf72030869",
      "ecf95e257ab3486abe8d6e4b6c61f118",
      "6a94ff719378494989cff5ab48c3a5cf",
      "d920dd3a4fd24bc0a542f2f61b9833a2",
      "fe01222bf018498a899d97eb8a992400",
      "b822595237fb402d9a6adae103a6a5cd",
      "fbe67705da6e4009b16de22718d14b4a",
      "b280c8ec9fde4027aa6160ccabdd1168",
      "509ab2788f8345fca1ea48d2069d0ab6",
      "11083e4a55114a9e88196a53f26c8684",
      "74e02a36f2a54e7ebd3b3b00274d0fce",
      "0f44e8ac4bc646428843cd047a7072ce",
      "b950ad13f0ca4d80bb3dca375f7442a0",
      "84beace795f2438fb559fc8f4e1ed506",
      "54f93b1aa7404964ae93a32bfae2a9ff",
      "b56e9e4063cf48dc9e67c004ace5b8ce",
      "9e8bba26d9574ebb9b9591c46bf4a1b1",
      "bdceecbff7024109b6a6a1e11723107a",
      "8eea965837be4b468bbb852e18d8dde6",
      "822b579efc5f4e6f90e9d1f025334f7a",
      "9c9c27cb7dba44e0a9425ccec5dc05d0",
      "6c22d754f0c04ab683e33ccde7b34f82",
      "59915949271044d68f7df41436f03625",
      "3512f48f7b674367a93b346b67431a38",
      "85aca891429d4943be2d8dd02cf342b3",
      "b239f7cc9624462e889a329eb763cb07"
     ]
    },
    "colab_type": "code",
    "id": "3u_Kb86BzWzq",
    "outputId": "120f001e-e748-4fa1-8405-8e5d3c3dfd16",
    "tags": [
     "code"
    ]
   },
   "outputs": [],
   "source": [
    "model.fit(x_train, y_train,\n",
    "          batch_size=parameters['batch_size'],\n",
    "          epochs=parameters['n_epochs'],\n",
    "          validation_split=0.2,\n",
    "          callbacks=[NeptuneMonitor()])"
   ]
  },
  {
   "cell_type": "markdown",
   "metadata": {
    "colab_type": "text",
    "id": "UphOuRMm5sZs",
    "tags": [
     "header"
    ]
   },
   "source": [
    "## Log model evaluation metrics"
   ]
  },
  {
   "cell_type": "markdown",
   "metadata": {
    "tags": [
     "comment"
    ]
   },
   "source": [
    "Use ``neptune.log_metric`` to log model evaluation metrics."
   ]
  },
  {
   "cell_type": "code",
   "execution_count": null,
   "metadata": {
    "colab": {
     "base_uri": "https://localhost:8080/",
     "height": 571,
     "referenced_widgets": [
      "ba89ac8d1a484df8982c3a7893612063",
      "c13a6b3b97104d0bb5b192dce80cfd3e",
      "c0563b7a2e8948fd9978bc9354ca6065",
      "decaf1c07cae4c77b93cda67fe099e84",
      "c0e4c494d7f1477ca12efba2d5d4fa0d",
      "66caa712c02441ee828d621a3e71de54",
      "23cdc7027a414473aa7c2d0f9ca87fa8",
      "2da128bac24f45f8ab91a14f07b277ec",
      "4ad8f9ca40b9434c809bb8320eaf880e",
      "0273d66512434d10bbb9a11401e83972",
      "12a5f6c96bc3440da1190b534247193e",
      "3d4296d82a534741be3416d621259e69",
      "93ecc7bd7d194062a2b10b5d6498f323",
      "ce82c5ef3840466e84bc4f76e6b15a5b",
      "7f657e4fe7414f579d1a0fcf72030869",
      "ecf95e257ab3486abe8d6e4b6c61f118",
      "6a94ff719378494989cff5ab48c3a5cf",
      "d920dd3a4fd24bc0a542f2f61b9833a2",
      "fe01222bf018498a899d97eb8a992400",
      "b822595237fb402d9a6adae103a6a5cd",
      "fbe67705da6e4009b16de22718d14b4a",
      "b280c8ec9fde4027aa6160ccabdd1168",
      "509ab2788f8345fca1ea48d2069d0ab6",
      "11083e4a55114a9e88196a53f26c8684",
      "74e02a36f2a54e7ebd3b3b00274d0fce",
      "0f44e8ac4bc646428843cd047a7072ce",
      "b950ad13f0ca4d80bb3dca375f7442a0",
      "84beace795f2438fb559fc8f4e1ed506",
      "54f93b1aa7404964ae93a32bfae2a9ff",
      "b56e9e4063cf48dc9e67c004ace5b8ce",
      "9e8bba26d9574ebb9b9591c46bf4a1b1",
      "bdceecbff7024109b6a6a1e11723107a",
      "8eea965837be4b468bbb852e18d8dde6",
      "822b579efc5f4e6f90e9d1f025334f7a",
      "9c9c27cb7dba44e0a9425ccec5dc05d0",
      "6c22d754f0c04ab683e33ccde7b34f82",
      "59915949271044d68f7df41436f03625",
      "3512f48f7b674367a93b346b67431a38",
      "85aca891429d4943be2d8dd02cf342b3",
      "b239f7cc9624462e889a329eb763cb07"
     ]
    },
    "colab_type": "code",
    "id": "3u_Kb86BzWzq",
    "outputId": "120f001e-e748-4fa1-8405-8e5d3c3dfd16",
    "tags": [
     "code"
    ]
   },
   "outputs": [],
   "source": [
    "eval_metrics = model.evaluate(x_test, y_test, verbose=0)\n",
    "\n",
    "for j, metric in enumerate(eval_metrics):\n",
    "    neptune.log_metric('test_{}'.format(model.metrics_names[j]), metric)"
   ]
  },
  {
   "cell_type": "markdown",
   "metadata": {
    "colab_type": "text",
    "id": "UphOuRMm5sZs",
    "tags": [
     "header"
    ]
   },
   "source": [
    "## Log model weights after training"
   ]
  },
  {
   "cell_type": "markdown",
   "metadata": {
    "tags": [
     "comment"
    ]
   },
   "source": [
    "Use ``log_artifact`` method to log model weight files."
   ]
  },
  {
   "cell_type": "code",
   "execution_count": null,
   "metadata": {
    "colab": {
     "base_uri": "https://localhost:8080/",
     "height": 571,
     "referenced_widgets": [
      "ba89ac8d1a484df8982c3a7893612063",
      "c13a6b3b97104d0bb5b192dce80cfd3e",
      "c0563b7a2e8948fd9978bc9354ca6065",
      "decaf1c07cae4c77b93cda67fe099e84",
      "c0e4c494d7f1477ca12efba2d5d4fa0d",
      "66caa712c02441ee828d621a3e71de54",
      "23cdc7027a414473aa7c2d0f9ca87fa8",
      "2da128bac24f45f8ab91a14f07b277ec",
      "4ad8f9ca40b9434c809bb8320eaf880e",
      "0273d66512434d10bbb9a11401e83972",
      "12a5f6c96bc3440da1190b534247193e",
      "3d4296d82a534741be3416d621259e69",
      "93ecc7bd7d194062a2b10b5d6498f323",
      "ce82c5ef3840466e84bc4f76e6b15a5b",
      "7f657e4fe7414f579d1a0fcf72030869",
      "ecf95e257ab3486abe8d6e4b6c61f118",
      "6a94ff719378494989cff5ab48c3a5cf",
      "d920dd3a4fd24bc0a542f2f61b9833a2",
      "fe01222bf018498a899d97eb8a992400",
      "b822595237fb402d9a6adae103a6a5cd",
      "fbe67705da6e4009b16de22718d14b4a",
      "b280c8ec9fde4027aa6160ccabdd1168",
      "509ab2788f8345fca1ea48d2069d0ab6",
      "11083e4a55114a9e88196a53f26c8684",
      "74e02a36f2a54e7ebd3b3b00274d0fce",
      "0f44e8ac4bc646428843cd047a7072ce",
      "b950ad13f0ca4d80bb3dca375f7442a0",
      "84beace795f2438fb559fc8f4e1ed506",
      "54f93b1aa7404964ae93a32bfae2a9ff",
      "b56e9e4063cf48dc9e67c004ace5b8ce",
      "9e8bba26d9574ebb9b9591c46bf4a1b1",
      "bdceecbff7024109b6a6a1e11723107a",
      "8eea965837be4b468bbb852e18d8dde6",
      "822b579efc5f4e6f90e9d1f025334f7a",
      "9c9c27cb7dba44e0a9425ccec5dc05d0",
      "6c22d754f0c04ab683e33ccde7b34f82",
      "59915949271044d68f7df41436f03625",
      "3512f48f7b674367a93b346b67431a38",
      "85aca891429d4943be2d8dd02cf342b3",
      "b239f7cc9624462e889a329eb763cb07"
     ]
    },
    "colab_type": "code",
    "id": "3u_Kb86BzWzq",
    "outputId": "120f001e-e748-4fa1-8405-8e5d3c3dfd16",
    "tags": [
     "code"
    ]
   },
   "outputs": [],
   "source": [
    "model.save('model')\n",
    "neptune.log_artifact('model')"
   ]
  },
  {
   "cell_type": "markdown",
   "metadata": {
    "colab_type": "text",
    "id": "UphOuRMm5sZs",
    "tags": [
     "header"
    ]
   },
   "source": [
    "## Log predictions as table"
   ]
  },
  {
   "cell_type": "markdown",
   "metadata": {
    "tags": [
     "comment"
    ]
   },
   "source": [
    "Use ``log_table`` method to log predictions dataframe as table."
   ]
  },
  {
   "cell_type": "code",
   "execution_count": null,
   "metadata": {
    "colab": {
     "base_uri": "https://localhost:8080/",
     "height": 571,
     "referenced_widgets": [
      "ba89ac8d1a484df8982c3a7893612063",
      "c13a6b3b97104d0bb5b192dce80cfd3e",
      "c0563b7a2e8948fd9978bc9354ca6065",
      "decaf1c07cae4c77b93cda67fe099e84",
      "c0e4c494d7f1477ca12efba2d5d4fa0d",
      "66caa712c02441ee828d621a3e71de54",
      "23cdc7027a414473aa7c2d0f9ca87fa8",
      "2da128bac24f45f8ab91a14f07b277ec",
      "4ad8f9ca40b9434c809bb8320eaf880e",
      "0273d66512434d10bbb9a11401e83972",
      "12a5f6c96bc3440da1190b534247193e",
      "3d4296d82a534741be3416d621259e69",
      "93ecc7bd7d194062a2b10b5d6498f323",
      "ce82c5ef3840466e84bc4f76e6b15a5b",
      "7f657e4fe7414f579d1a0fcf72030869",
      "ecf95e257ab3486abe8d6e4b6c61f118",
      "6a94ff719378494989cff5ab48c3a5cf",
      "d920dd3a4fd24bc0a542f2f61b9833a2",
      "fe01222bf018498a899d97eb8a992400",
      "b822595237fb402d9a6adae103a6a5cd",
      "fbe67705da6e4009b16de22718d14b4a",
      "b280c8ec9fde4027aa6160ccabdd1168",
      "509ab2788f8345fca1ea48d2069d0ab6",
      "11083e4a55114a9e88196a53f26c8684",
      "74e02a36f2a54e7ebd3b3b00274d0fce",
      "0f44e8ac4bc646428843cd047a7072ce",
      "b950ad13f0ca4d80bb3dca375f7442a0",
      "84beace795f2438fb559fc8f4e1ed506",
      "54f93b1aa7404964ae93a32bfae2a9ff",
      "b56e9e4063cf48dc9e67c004ace5b8ce",
      "9e8bba26d9574ebb9b9591c46bf4a1b1",
      "bdceecbff7024109b6a6a1e11723107a",
      "8eea965837be4b468bbb852e18d8dde6",
      "822b579efc5f4e6f90e9d1f025334f7a",
      "9c9c27cb7dba44e0a9425ccec5dc05d0",
      "6c22d754f0c04ab683e33ccde7b34f82",
      "59915949271044d68f7df41436f03625",
      "3512f48f7b674367a93b346b67431a38",
      "85aca891429d4943be2d8dd02cf342b3",
      "b239f7cc9624462e889a329eb763cb07"
     ]
    },
    "colab_type": "code",
    "id": "3u_Kb86BzWzq",
    "outputId": "120f001e-e748-4fa1-8405-8e5d3c3dfd16",
    "tags": [
     "code"
    ]
   },
   "outputs": [],
   "source": [
    "import numpy as np\n",
    "import pandas as pd\n",
    "from neptunecontrib.api import log_table\n",
    "\n",
    "y_pred_proba = model.predict(x_test)\n",
    "y_pred = np.argmax(y_pred_proba, axis=1)\n",
    "y_pred = y_pred\n",
    "df = pd.DataFrame(data={'y_test': y_test, 'y_pred': y_pred, 'y_pred_probability': y_pred_proba.max(axis=1)})\n",
    "log_table('predictions', df)"
   ]
  },
  {
   "cell_type": "markdown",
   "metadata": {
    "colab_type": "text",
    "id": "UphOuRMm5sZs",
    "tags": [
     "header"
    ]
   },
   "source": [
    "## Log model performance visualizations"
   ]
  },
  {
   "cell_type": "markdown",
   "metadata": {
    "tags": [
     "comment"
    ]
   },
   "source": [
    "Use ``log_image`` to log ROC and precision recall charts."
   ]
  },
  {
   "cell_type": "code",
   "execution_count": null,
   "metadata": {
    "colab": {
     "base_uri": "https://localhost:8080/",
     "height": 571,
     "referenced_widgets": [
      "ba89ac8d1a484df8982c3a7893612063",
      "c13a6b3b97104d0bb5b192dce80cfd3e",
      "c0563b7a2e8948fd9978bc9354ca6065",
      "decaf1c07cae4c77b93cda67fe099e84",
      "c0e4c494d7f1477ca12efba2d5d4fa0d",
      "66caa712c02441ee828d621a3e71de54",
      "23cdc7027a414473aa7c2d0f9ca87fa8",
      "2da128bac24f45f8ab91a14f07b277ec",
      "4ad8f9ca40b9434c809bb8320eaf880e",
      "0273d66512434d10bbb9a11401e83972",
      "12a5f6c96bc3440da1190b534247193e",
      "3d4296d82a534741be3416d621259e69",
      "93ecc7bd7d194062a2b10b5d6498f323",
      "ce82c5ef3840466e84bc4f76e6b15a5b",
      "7f657e4fe7414f579d1a0fcf72030869",
      "ecf95e257ab3486abe8d6e4b6c61f118",
      "6a94ff719378494989cff5ab48c3a5cf",
      "d920dd3a4fd24bc0a542f2f61b9833a2",
      "fe01222bf018498a899d97eb8a992400",
      "b822595237fb402d9a6adae103a6a5cd",
      "fbe67705da6e4009b16de22718d14b4a",
      "b280c8ec9fde4027aa6160ccabdd1168",
      "509ab2788f8345fca1ea48d2069d0ab6",
      "11083e4a55114a9e88196a53f26c8684",
      "74e02a36f2a54e7ebd3b3b00274d0fce",
      "0f44e8ac4bc646428843cd047a7072ce",
      "b950ad13f0ca4d80bb3dca375f7442a0",
      "84beace795f2438fb559fc8f4e1ed506",
      "54f93b1aa7404964ae93a32bfae2a9ff",
      "b56e9e4063cf48dc9e67c004ace5b8ce",
      "9e8bba26d9574ebb9b9591c46bf4a1b1",
      "bdceecbff7024109b6a6a1e11723107a",
      "8eea965837be4b468bbb852e18d8dde6",
      "822b579efc5f4e6f90e9d1f025334f7a",
      "9c9c27cb7dba44e0a9425ccec5dc05d0",
      "6c22d754f0c04ab683e33ccde7b34f82",
      "59915949271044d68f7df41436f03625",
      "3512f48f7b674367a93b346b67431a38",
      "85aca891429d4943be2d8dd02cf342b3",
      "b239f7cc9624462e889a329eb763cb07"
     ]
    },
    "colab_type": "code",
    "id": "3u_Kb86BzWzq",
    "outputId": "120f001e-e748-4fa1-8405-8e5d3c3dfd16",
    "tags": [
     "code"
    ]
   },
   "outputs": [],
   "source": [
    "import matplotlib.pyplot as plt\n",
    "from scikitplot.metrics import plot_roc, plot_precision_recall\n",
    "\n",
    "fig, ax = plt.subplots()\n",
    "plot_roc(y_test, y_pred_proba, ax=ax)\n",
    "neptune.log_image('model-performance-visualizations', fig, image_name='ROC')\n",
    "\n",
    "fig, ax = plt.subplots()\n",
    "plot_precision_recall(y_test, y_pred_proba, ax=ax)\n",
    "neptune.log_image('model-performance-visualizations', fig, image_name='precision recall')\n",
    "plt.close('all')"
   ]
  },
  {
   "cell_type": "markdown",
   "metadata": {
    "colab_type": "text",
    "id": "UphOuRMm5sZs",
    "tags": [
     "header"
    ]
   },
   "source": [
    "## Log train data sample (images per class)"
   ]
  },
  {
   "cell_type": "markdown",
   "metadata": {
    "tags": [
     "comment"
    ]
   },
   "source": [
    "Use ``log_image`` to log sample of 9 images for each class in the training dataset."
   ]
  },
  {
   "cell_type": "code",
   "execution_count": null,
   "metadata": {
    "colab": {
     "base_uri": "https://localhost:8080/",
     "height": 571,
     "referenced_widgets": [
      "ba89ac8d1a484df8982c3a7893612063",
      "c13a6b3b97104d0bb5b192dce80cfd3e",
      "c0563b7a2e8948fd9978bc9354ca6065",
      "decaf1c07cae4c77b93cda67fe099e84",
      "c0e4c494d7f1477ca12efba2d5d4fa0d",
      "66caa712c02441ee828d621a3e71de54",
      "23cdc7027a414473aa7c2d0f9ca87fa8",
      "2da128bac24f45f8ab91a14f07b277ec",
      "4ad8f9ca40b9434c809bb8320eaf880e",
      "0273d66512434d10bbb9a11401e83972",
      "12a5f6c96bc3440da1190b534247193e",
      "3d4296d82a534741be3416d621259e69",
      "93ecc7bd7d194062a2b10b5d6498f323",
      "ce82c5ef3840466e84bc4f76e6b15a5b",
      "7f657e4fe7414f579d1a0fcf72030869",
      "ecf95e257ab3486abe8d6e4b6c61f118",
      "6a94ff719378494989cff5ab48c3a5cf",
      "d920dd3a4fd24bc0a542f2f61b9833a2",
      "fe01222bf018498a899d97eb8a992400",
      "b822595237fb402d9a6adae103a6a5cd",
      "fbe67705da6e4009b16de22718d14b4a",
      "b280c8ec9fde4027aa6160ccabdd1168",
      "509ab2788f8345fca1ea48d2069d0ab6",
      "11083e4a55114a9e88196a53f26c8684",
      "74e02a36f2a54e7ebd3b3b00274d0fce",
      "0f44e8ac4bc646428843cd047a7072ce",
      "b950ad13f0ca4d80bb3dca375f7442a0",
      "84beace795f2438fb559fc8f4e1ed506",
      "54f93b1aa7404964ae93a32bfae2a9ff",
      "b56e9e4063cf48dc9e67c004ace5b8ce",
      "9e8bba26d9574ebb9b9591c46bf4a1b1",
      "bdceecbff7024109b6a6a1e11723107a",
      "8eea965837be4b468bbb852e18d8dde6",
      "822b579efc5f4e6f90e9d1f025334f7a",
      "9c9c27cb7dba44e0a9425ccec5dc05d0",
      "6c22d754f0c04ab683e33ccde7b34f82",
      "59915949271044d68f7df41436f03625",
      "3512f48f7b674367a93b346b67431a38",
      "85aca891429d4943be2d8dd02cf342b3",
      "b239f7cc9624462e889a329eb763cb07"
     ]
    },
    "colab_type": "code",
    "id": "3u_Kb86BzWzq",
    "outputId": "120f001e-e748-4fa1-8405-8e5d3c3dfd16",
    "tags": [
     "code"
    ]
   },
   "outputs": [],
   "source": [
    "for j, class_name in enumerate(class_names):\n",
    "    plt.figure(figsize=(10, 10))\n",
    "    label_ = np.where(y_train == j)\n",
    "    for i in range(9):\n",
    "        plt.subplot(3, 3, i + 1)\n",
    "        plt.xticks([])\n",
    "        plt.yticks([])\n",
    "        plt.grid(False)\n",
    "        plt.imshow(x_train[label_[0][i]], cmap=plt.cm.binary)\n",
    "        plt.xlabel(class_names[j])\n",
    "    neptune.log_image('train data sample', plt.gcf())\n",
    "    plt.close('all')"
   ]
  },
  {
   "cell_type": "markdown",
   "metadata": {
    "colab_type": "text",
    "id": "UphOuRMm5sZs",
    "tags": [
     "header"
    ]
   },
   "source": [
    "## Stop experiment at the end"
   ]
  },
  {
   "cell_type": "markdown",
   "metadata": {
    "tags": [
     "comment"
    ]
   },
   "source": [
    "This statement is needed only in Notebooks. In scripts experiment is closed automatically at the end."
   ]
  },
  {
   "cell_type": "code",
   "execution_count": null,
   "metadata": {
    "tags": [
     "code"
    ]
   },
   "outputs": [],
   "source": [
    "neptune.stop()"
   ]
  }
 ],
 "metadata": {
  "colab": {
   "name": "Tour-with-TensorFlow-and-Keras.ipynb",
   "provenance": []
  },
  "kernelspec": {
   "display_name": "Python 3",
   "language": "python",
   "name": "python3"
  },
  "language_info": {
   "codemirror_mode": {
    "name": "ipython",
    "version": 3
   },
   "file_extension": ".py",
   "mimetype": "text/x-python",
   "name": "python",
   "nbconvert_exporter": "python",
   "pygments_lexer": "ipython3",
   "version": "3.7.7"
  },
  "widgets": {
   "application/vnd.jupyter.widget-state+json": {
    "0273d66512434d10bbb9a11401e83972": {
     "model_module": "@jupyter-widgets/base",
     "model_name": "LayoutModel",
     "state": {
      "_model_module": "@jupyter-widgets/base",
      "_model_module_version": "1.2.0",
      "_model_name": "LayoutModel",
      "_view_count": null,
      "_view_module": "@jupyter-widgets/base",
      "_view_module_version": "1.2.0",
      "_view_name": "LayoutView",
      "align_content": null,
      "align_items": null,
      "align_self": null,
      "border": null,
      "bottom": null,
      "display": null,
      "flex": null,
      "flex_flow": null,
      "grid_area": null,
      "grid_auto_columns": null,
      "grid_auto_flow": null,
      "grid_auto_rows": null,
      "grid_column": null,
      "grid_gap": null,
      "grid_row": null,
      "grid_template_areas": null,
      "grid_template_columns": null,
      "grid_template_rows": null,
      "height": null,
      "justify_content": null,
      "justify_items": null,
      "left": null,
      "margin": null,
      "max_height": null,
      "max_width": null,
      "min_height": null,
      "min_width": null,
      "object_fit": null,
      "object_position": null,
      "order": null,
      "overflow": null,
      "overflow_x": null,
      "overflow_y": null,
      "padding": null,
      "right": null,
      "top": null,
      "visibility": null,
      "width": null
     }
    },
    "0f44e8ac4bc646428843cd047a7072ce": {
     "model_module": "@jupyter-widgets/base",
     "model_name": "LayoutModel",
     "state": {
      "_model_module": "@jupyter-widgets/base",
      "_model_module_version": "1.2.0",
      "_model_name": "LayoutModel",
      "_view_count": null,
      "_view_module": "@jupyter-widgets/base",
      "_view_module_version": "1.2.0",
      "_view_name": "LayoutView",
      "align_content": null,
      "align_items": null,
      "align_self": null,
      "border": null,
      "bottom": null,
      "display": null,
      "flex": null,
      "flex_flow": null,
      "grid_area": null,
      "grid_auto_columns": null,
      "grid_auto_flow": null,
      "grid_auto_rows": null,
      "grid_column": null,
      "grid_gap": null,
      "grid_row": null,
      "grid_template_areas": null,
      "grid_template_columns": null,
      "grid_template_rows": null,
      "height": null,
      "justify_content": null,
      "justify_items": null,
      "left": null,
      "margin": null,
      "max_height": null,
      "max_width": null,
      "min_height": null,
      "min_width": null,
      "object_fit": null,
      "object_position": null,
      "order": null,
      "overflow": null,
      "overflow_x": null,
      "overflow_y": null,
      "padding": null,
      "right": null,
      "top": null,
      "visibility": null,
      "width": null
     }
    },
    "11083e4a55114a9e88196a53f26c8684": {
     "model_module": "@jupyter-widgets/base",
     "model_name": "LayoutModel",
     "state": {
      "_model_module": "@jupyter-widgets/base",
      "_model_module_version": "1.2.0",
      "_model_name": "LayoutModel",
      "_view_count": null,
      "_view_module": "@jupyter-widgets/base",
      "_view_module_version": "1.2.0",
      "_view_name": "LayoutView",
      "align_content": null,
      "align_items": null,
      "align_self": null,
      "border": null,
      "bottom": null,
      "display": null,
      "flex": null,
      "flex_flow": null,
      "grid_area": null,
      "grid_auto_columns": null,
      "grid_auto_flow": null,
      "grid_auto_rows": null,
      "grid_column": null,
      "grid_gap": null,
      "grid_row": null,
      "grid_template_areas": null,
      "grid_template_columns": null,
      "grid_template_rows": null,
      "height": null,
      "justify_content": null,
      "justify_items": null,
      "left": null,
      "margin": null,
      "max_height": null,
      "max_width": null,
      "min_height": null,
      "min_width": null,
      "object_fit": null,
      "object_position": null,
      "order": null,
      "overflow": null,
      "overflow_x": null,
      "overflow_y": null,
      "padding": null,
      "right": null,
      "top": null,
      "visibility": null,
      "width": null
     }
    },
    "12a5f6c96bc3440da1190b534247193e": {
     "model_module": "@jupyter-widgets/controls",
     "model_name": "FloatProgressModel",
     "state": {
      "_dom_classes": [],
      "_model_module": "@jupyter-widgets/controls",
      "_model_module_version": "1.5.0",
      "_model_name": "FloatProgressModel",
      "_view_count": null,
      "_view_module": "@jupyter-widgets/controls",
      "_view_module_version": "1.5.0",
      "_view_name": "ProgressView",
      "bar_style": "success",
      "description": "",
      "description_tooltip": null,
      "layout": "IPY_MODEL_ce82c5ef3840466e84bc4f76e6b15a5b",
      "max": 1,
      "min": 0,
      "orientation": "horizontal",
      "style": "IPY_MODEL_93ecc7bd7d194062a2b10b5d6498f323",
      "value": 1
     }
    },
    "23cdc7027a414473aa7c2d0f9ca87fa8": {
     "model_module": "@jupyter-widgets/controls",
     "model_name": "DescriptionStyleModel",
     "state": {
      "_model_module": "@jupyter-widgets/controls",
      "_model_module_version": "1.5.0",
      "_model_name": "DescriptionStyleModel",
      "_view_count": null,
      "_view_module": "@jupyter-widgets/base",
      "_view_module_version": "1.2.0",
      "_view_name": "StyleView",
      "description_width": ""
     }
    },
    "2da128bac24f45f8ab91a14f07b277ec": {
     "model_module": "@jupyter-widgets/base",
     "model_name": "LayoutModel",
     "state": {
      "_model_module": "@jupyter-widgets/base",
      "_model_module_version": "1.2.0",
      "_model_name": "LayoutModel",
      "_view_count": null,
      "_view_module": "@jupyter-widgets/base",
      "_view_module_version": "1.2.0",
      "_view_name": "LayoutView",
      "align_content": null,
      "align_items": null,
      "align_self": null,
      "border": null,
      "bottom": null,
      "display": null,
      "flex": null,
      "flex_flow": null,
      "grid_area": null,
      "grid_auto_columns": null,
      "grid_auto_flow": null,
      "grid_auto_rows": null,
      "grid_column": null,
      "grid_gap": null,
      "grid_row": null,
      "grid_template_areas": null,
      "grid_template_columns": null,
      "grid_template_rows": null,
      "height": null,
      "justify_content": null,
      "justify_items": null,
      "left": null,
      "margin": null,
      "max_height": null,
      "max_width": null,
      "min_height": null,
      "min_width": null,
      "object_fit": null,
      "object_position": null,
      "order": null,
      "overflow": null,
      "overflow_x": null,
      "overflow_y": null,
      "padding": null,
      "right": null,
      "top": null,
      "visibility": null,
      "width": null
     }
    },
    "3512f48f7b674367a93b346b67431a38": {
     "model_module": "@jupyter-widgets/base",
     "model_name": "LayoutModel",
     "state": {
      "_model_module": "@jupyter-widgets/base",
      "_model_module_version": "1.2.0",
      "_model_name": "LayoutModel",
      "_view_count": null,
      "_view_module": "@jupyter-widgets/base",
      "_view_module_version": "1.2.0",
      "_view_name": "LayoutView",
      "align_content": null,
      "align_items": null,
      "align_self": null,
      "border": null,
      "bottom": null,
      "display": null,
      "flex": null,
      "flex_flow": null,
      "grid_area": null,
      "grid_auto_columns": null,
      "grid_auto_flow": null,
      "grid_auto_rows": null,
      "grid_column": null,
      "grid_gap": null,
      "grid_row": null,
      "grid_template_areas": null,
      "grid_template_columns": null,
      "grid_template_rows": null,
      "height": null,
      "justify_content": null,
      "justify_items": null,
      "left": null,
      "margin": null,
      "max_height": null,
      "max_width": null,
      "min_height": null,
      "min_width": null,
      "object_fit": null,
      "object_position": null,
      "order": null,
      "overflow": null,
      "overflow_x": null,
      "overflow_y": null,
      "padding": null,
      "right": null,
      "top": null,
      "visibility": null,
      "width": null
     }
    },
    "3d4296d82a534741be3416d621259e69": {
     "model_module": "@jupyter-widgets/controls",
     "model_name": "HTMLModel",
     "state": {
      "_dom_classes": [],
      "_model_module": "@jupyter-widgets/controls",
      "_model_module_version": "1.5.0",
      "_model_name": "HTMLModel",
      "_view_count": null,
      "_view_module": "@jupyter-widgets/controls",
      "_view_module_version": "1.5.0",
      "_view_name": "HTMLView",
      "description": "",
      "description_tooltip": null,
      "layout": "IPY_MODEL_ecf95e257ab3486abe8d6e4b6c61f118",
      "placeholder": "​",
      "style": "IPY_MODEL_7f657e4fe7414f579d1a0fcf72030869",
      "value": " 9920512/? [00:01&lt;00:00, 6969343.53it/s]"
     }
    },
    "4ad8f9ca40b9434c809bb8320eaf880e": {
     "model_module": "@jupyter-widgets/controls",
     "model_name": "HBoxModel",
     "state": {
      "_dom_classes": [],
      "_model_module": "@jupyter-widgets/controls",
      "_model_module_version": "1.5.0",
      "_model_name": "HBoxModel",
      "_view_count": null,
      "_view_module": "@jupyter-widgets/controls",
      "_view_module_version": "1.5.0",
      "_view_name": "HBoxView",
      "box_style": "",
      "children": [
       "IPY_MODEL_12a5f6c96bc3440da1190b534247193e",
       "IPY_MODEL_3d4296d82a534741be3416d621259e69"
      ],
      "layout": "IPY_MODEL_0273d66512434d10bbb9a11401e83972"
     }
    },
    "509ab2788f8345fca1ea48d2069d0ab6": {
     "model_module": "@jupyter-widgets/controls",
     "model_name": "DescriptionStyleModel",
     "state": {
      "_model_module": "@jupyter-widgets/controls",
      "_model_module_version": "1.5.0",
      "_model_name": "DescriptionStyleModel",
      "_view_count": null,
      "_view_module": "@jupyter-widgets/base",
      "_view_module_version": "1.2.0",
      "_view_name": "StyleView",
      "description_width": ""
     }
    },
    "54f93b1aa7404964ae93a32bfae2a9ff": {
     "model_module": "@jupyter-widgets/controls",
     "model_name": "ProgressStyleModel",
     "state": {
      "_model_module": "@jupyter-widgets/controls",
      "_model_module_version": "1.5.0",
      "_model_name": "ProgressStyleModel",
      "_view_count": null,
      "_view_module": "@jupyter-widgets/base",
      "_view_module_version": "1.2.0",
      "_view_name": "StyleView",
      "bar_color": null,
      "description_width": "initial"
     }
    },
    "59915949271044d68f7df41436f03625": {
     "model_module": "@jupyter-widgets/controls",
     "model_name": "ProgressStyleModel",
     "state": {
      "_model_module": "@jupyter-widgets/controls",
      "_model_module_version": "1.5.0",
      "_model_name": "ProgressStyleModel",
      "_view_count": null,
      "_view_module": "@jupyter-widgets/base",
      "_view_module_version": "1.2.0",
      "_view_name": "StyleView",
      "bar_color": null,
      "description_width": "initial"
     }
    },
    "66caa712c02441ee828d621a3e71de54": {
     "model_module": "@jupyter-widgets/base",
     "model_name": "LayoutModel",
     "state": {
      "_model_module": "@jupyter-widgets/base",
      "_model_module_version": "1.2.0",
      "_model_name": "LayoutModel",
      "_view_count": null,
      "_view_module": "@jupyter-widgets/base",
      "_view_module_version": "1.2.0",
      "_view_name": "LayoutView",
      "align_content": null,
      "align_items": null,
      "align_self": null,
      "border": null,
      "bottom": null,
      "display": null,
      "flex": "2",
      "flex_flow": null,
      "grid_area": null,
      "grid_auto_columns": null,
      "grid_auto_flow": null,
      "grid_auto_rows": null,
      "grid_column": null,
      "grid_gap": null,
      "grid_row": null,
      "grid_template_areas": null,
      "grid_template_columns": null,
      "grid_template_rows": null,
      "height": null,
      "justify_content": null,
      "justify_items": null,
      "left": null,
      "margin": null,
      "max_height": null,
      "max_width": null,
      "min_height": null,
      "min_width": null,
      "object_fit": null,
      "object_position": null,
      "order": null,
      "overflow": null,
      "overflow_x": null,
      "overflow_y": null,
      "padding": null,
      "right": null,
      "top": null,
      "visibility": null,
      "width": null
     }
    },
    "6a94ff719378494989cff5ab48c3a5cf": {
     "model_module": "@jupyter-widgets/controls",
     "model_name": "HBoxModel",
     "state": {
      "_dom_classes": [],
      "_model_module": "@jupyter-widgets/controls",
      "_model_module_version": "1.5.0",
      "_model_name": "HBoxModel",
      "_view_count": null,
      "_view_module": "@jupyter-widgets/controls",
      "_view_module_version": "1.5.0",
      "_view_name": "HBoxView",
      "box_style": "",
      "children": [
       "IPY_MODEL_fe01222bf018498a899d97eb8a992400",
       "IPY_MODEL_b822595237fb402d9a6adae103a6a5cd"
      ],
      "layout": "IPY_MODEL_d920dd3a4fd24bc0a542f2f61b9833a2"
     }
    },
    "6c22d754f0c04ab683e33ccde7b34f82": {
     "model_module": "@jupyter-widgets/controls",
     "model_name": "HTMLModel",
     "state": {
      "_dom_classes": [],
      "_model_module": "@jupyter-widgets/controls",
      "_model_module_version": "1.5.0",
      "_model_name": "HTMLModel",
      "_view_count": null,
      "_view_module": "@jupyter-widgets/controls",
      "_view_module_version": "1.5.0",
      "_view_name": "HTMLView",
      "description": "",
      "description_tooltip": null,
      "layout": "IPY_MODEL_b239f7cc9624462e889a329eb763cb07",
      "placeholder": "​",
      "style": "IPY_MODEL_85aca891429d4943be2d8dd02cf342b3",
      "value": " 8192/? [00:00&lt;00:00, 21719.58it/s]"
     }
    },
    "74e02a36f2a54e7ebd3b3b00274d0fce": {
     "model_module": "@jupyter-widgets/controls",
     "model_name": "HBoxModel",
     "state": {
      "_dom_classes": [],
      "_model_module": "@jupyter-widgets/controls",
      "_model_module_version": "1.5.0",
      "_model_name": "HBoxModel",
      "_view_count": null,
      "_view_module": "@jupyter-widgets/controls",
      "_view_module_version": "1.5.0",
      "_view_name": "HBoxView",
      "box_style": "",
      "children": [
       "IPY_MODEL_b950ad13f0ca4d80bb3dca375f7442a0",
       "IPY_MODEL_84beace795f2438fb559fc8f4e1ed506"
      ],
      "layout": "IPY_MODEL_0f44e8ac4bc646428843cd047a7072ce"
     }
    },
    "7f657e4fe7414f579d1a0fcf72030869": {
     "model_module": "@jupyter-widgets/controls",
     "model_name": "DescriptionStyleModel",
     "state": {
      "_model_module": "@jupyter-widgets/controls",
      "_model_module_version": "1.5.0",
      "_model_name": "DescriptionStyleModel",
      "_view_count": null,
      "_view_module": "@jupyter-widgets/base",
      "_view_module_version": "1.2.0",
      "_view_name": "StyleView",
      "description_width": ""
     }
    },
    "822b579efc5f4e6f90e9d1f025334f7a": {
     "model_module": "@jupyter-widgets/base",
     "model_name": "LayoutModel",
     "state": {
      "_model_module": "@jupyter-widgets/base",
      "_model_module_version": "1.2.0",
      "_model_name": "LayoutModel",
      "_view_count": null,
      "_view_module": "@jupyter-widgets/base",
      "_view_module_version": "1.2.0",
      "_view_name": "LayoutView",
      "align_content": null,
      "align_items": null,
      "align_self": null,
      "border": null,
      "bottom": null,
      "display": null,
      "flex": null,
      "flex_flow": null,
      "grid_area": null,
      "grid_auto_columns": null,
      "grid_auto_flow": null,
      "grid_auto_rows": null,
      "grid_column": null,
      "grid_gap": null,
      "grid_row": null,
      "grid_template_areas": null,
      "grid_template_columns": null,
      "grid_template_rows": null,
      "height": null,
      "justify_content": null,
      "justify_items": null,
      "left": null,
      "margin": null,
      "max_height": null,
      "max_width": null,
      "min_height": null,
      "min_width": null,
      "object_fit": null,
      "object_position": null,
      "order": null,
      "overflow": null,
      "overflow_x": null,
      "overflow_y": null,
      "padding": null,
      "right": null,
      "top": null,
      "visibility": null,
      "width": null
     }
    },
    "84beace795f2438fb559fc8f4e1ed506": {
     "model_module": "@jupyter-widgets/controls",
     "model_name": "HTMLModel",
     "state": {
      "_dom_classes": [],
      "_model_module": "@jupyter-widgets/controls",
      "_model_module_version": "1.5.0",
      "_model_name": "HTMLModel",
      "_view_count": null,
      "_view_module": "@jupyter-widgets/controls",
      "_view_module_version": "1.5.0",
      "_view_name": "HTMLView",
      "description": "",
      "description_tooltip": null,
      "layout": "IPY_MODEL_bdceecbff7024109b6a6a1e11723107a",
      "placeholder": "​",
      "style": "IPY_MODEL_9e8bba26d9574ebb9b9591c46bf4a1b1",
      "value": " 1654784/? [00:01&lt;00:00, 1524578.98it/s]"
     }
    },
    "85aca891429d4943be2d8dd02cf342b3": {
     "model_module": "@jupyter-widgets/controls",
     "model_name": "DescriptionStyleModel",
     "state": {
      "_model_module": "@jupyter-widgets/controls",
      "_model_module_version": "1.5.0",
      "_model_name": "DescriptionStyleModel",
      "_view_count": null,
      "_view_module": "@jupyter-widgets/base",
      "_view_module_version": "1.2.0",
      "_view_name": "StyleView",
      "description_width": ""
     }
    },
    "8eea965837be4b468bbb852e18d8dde6": {
     "model_module": "@jupyter-widgets/controls",
     "model_name": "HBoxModel",
     "state": {
      "_dom_classes": [],
      "_model_module": "@jupyter-widgets/controls",
      "_model_module_version": "1.5.0",
      "_model_name": "HBoxModel",
      "_view_count": null,
      "_view_module": "@jupyter-widgets/controls",
      "_view_module_version": "1.5.0",
      "_view_name": "HBoxView",
      "box_style": "",
      "children": [
       "IPY_MODEL_9c9c27cb7dba44e0a9425ccec5dc05d0",
       "IPY_MODEL_6c22d754f0c04ab683e33ccde7b34f82"
      ],
      "layout": "IPY_MODEL_822b579efc5f4e6f90e9d1f025334f7a"
     }
    },
    "93ecc7bd7d194062a2b10b5d6498f323": {
     "model_module": "@jupyter-widgets/controls",
     "model_name": "ProgressStyleModel",
     "state": {
      "_model_module": "@jupyter-widgets/controls",
      "_model_module_version": "1.5.0",
      "_model_name": "ProgressStyleModel",
      "_view_count": null,
      "_view_module": "@jupyter-widgets/base",
      "_view_module_version": "1.2.0",
      "_view_name": "StyleView",
      "bar_color": null,
      "description_width": "initial"
     }
    },
    "9c9c27cb7dba44e0a9425ccec5dc05d0": {
     "model_module": "@jupyter-widgets/controls",
     "model_name": "FloatProgressModel",
     "state": {
      "_dom_classes": [],
      "_model_module": "@jupyter-widgets/controls",
      "_model_module_version": "1.5.0",
      "_model_name": "FloatProgressModel",
      "_view_count": null,
      "_view_module": "@jupyter-widgets/controls",
      "_view_module_version": "1.5.0",
      "_view_name": "ProgressView",
      "bar_style": "success",
      "description": "",
      "description_tooltip": null,
      "layout": "IPY_MODEL_3512f48f7b674367a93b346b67431a38",
      "max": 1,
      "min": 0,
      "orientation": "horizontal",
      "style": "IPY_MODEL_59915949271044d68f7df41436f03625",
      "value": 1
     }
    },
    "9e8bba26d9574ebb9b9591c46bf4a1b1": {
     "model_module": "@jupyter-widgets/controls",
     "model_name": "DescriptionStyleModel",
     "state": {
      "_model_module": "@jupyter-widgets/controls",
      "_model_module_version": "1.5.0",
      "_model_name": "DescriptionStyleModel",
      "_view_count": null,
      "_view_module": "@jupyter-widgets/base",
      "_view_module_version": "1.2.0",
      "_view_name": "StyleView",
      "description_width": ""
     }
    },
    "b239f7cc9624462e889a329eb763cb07": {
     "model_module": "@jupyter-widgets/base",
     "model_name": "LayoutModel",
     "state": {
      "_model_module": "@jupyter-widgets/base",
      "_model_module_version": "1.2.0",
      "_model_name": "LayoutModel",
      "_view_count": null,
      "_view_module": "@jupyter-widgets/base",
      "_view_module_version": "1.2.0",
      "_view_name": "LayoutView",
      "align_content": null,
      "align_items": null,
      "align_self": null,
      "border": null,
      "bottom": null,
      "display": null,
      "flex": null,
      "flex_flow": null,
      "grid_area": null,
      "grid_auto_columns": null,
      "grid_auto_flow": null,
      "grid_auto_rows": null,
      "grid_column": null,
      "grid_gap": null,
      "grid_row": null,
      "grid_template_areas": null,
      "grid_template_columns": null,
      "grid_template_rows": null,
      "height": null,
      "justify_content": null,
      "justify_items": null,
      "left": null,
      "margin": null,
      "max_height": null,
      "max_width": null,
      "min_height": null,
      "min_width": null,
      "object_fit": null,
      "object_position": null,
      "order": null,
      "overflow": null,
      "overflow_x": null,
      "overflow_y": null,
      "padding": null,
      "right": null,
      "top": null,
      "visibility": null,
      "width": null
     }
    },
    "b280c8ec9fde4027aa6160ccabdd1168": {
     "model_module": "@jupyter-widgets/base",
     "model_name": "LayoutModel",
     "state": {
      "_model_module": "@jupyter-widgets/base",
      "_model_module_version": "1.2.0",
      "_model_name": "LayoutModel",
      "_view_count": null,
      "_view_module": "@jupyter-widgets/base",
      "_view_module_version": "1.2.0",
      "_view_name": "LayoutView",
      "align_content": null,
      "align_items": null,
      "align_self": null,
      "border": null,
      "bottom": null,
      "display": null,
      "flex": null,
      "flex_flow": null,
      "grid_area": null,
      "grid_auto_columns": null,
      "grid_auto_flow": null,
      "grid_auto_rows": null,
      "grid_column": null,
      "grid_gap": null,
      "grid_row": null,
      "grid_template_areas": null,
      "grid_template_columns": null,
      "grid_template_rows": null,
      "height": null,
      "justify_content": null,
      "justify_items": null,
      "left": null,
      "margin": null,
      "max_height": null,
      "max_width": null,
      "min_height": null,
      "min_width": null,
      "object_fit": null,
      "object_position": null,
      "order": null,
      "overflow": null,
      "overflow_x": null,
      "overflow_y": null,
      "padding": null,
      "right": null,
      "top": null,
      "visibility": null,
      "width": null
     }
    },
    "b56e9e4063cf48dc9e67c004ace5b8ce": {
     "model_module": "@jupyter-widgets/base",
     "model_name": "LayoutModel",
     "state": {
      "_model_module": "@jupyter-widgets/base",
      "_model_module_version": "1.2.0",
      "_model_name": "LayoutModel",
      "_view_count": null,
      "_view_module": "@jupyter-widgets/base",
      "_view_module_version": "1.2.0",
      "_view_name": "LayoutView",
      "align_content": null,
      "align_items": null,
      "align_self": null,
      "border": null,
      "bottom": null,
      "display": null,
      "flex": null,
      "flex_flow": null,
      "grid_area": null,
      "grid_auto_columns": null,
      "grid_auto_flow": null,
      "grid_auto_rows": null,
      "grid_column": null,
      "grid_gap": null,
      "grid_row": null,
      "grid_template_areas": null,
      "grid_template_columns": null,
      "grid_template_rows": null,
      "height": null,
      "justify_content": null,
      "justify_items": null,
      "left": null,
      "margin": null,
      "max_height": null,
      "max_width": null,
      "min_height": null,
      "min_width": null,
      "object_fit": null,
      "object_position": null,
      "order": null,
      "overflow": null,
      "overflow_x": null,
      "overflow_y": null,
      "padding": null,
      "right": null,
      "top": null,
      "visibility": null,
      "width": null
     }
    },
    "b822595237fb402d9a6adae103a6a5cd": {
     "model_module": "@jupyter-widgets/controls",
     "model_name": "HTMLModel",
     "state": {
      "_dom_classes": [],
      "_model_module": "@jupyter-widgets/controls",
      "_model_module_version": "1.5.0",
      "_model_name": "HTMLModel",
      "_view_count": null,
      "_view_module": "@jupyter-widgets/controls",
      "_view_module_version": "1.5.0",
      "_view_name": "HTMLView",
      "description": "",
      "description_tooltip": null,
      "layout": "IPY_MODEL_11083e4a55114a9e88196a53f26c8684",
      "placeholder": "​",
      "style": "IPY_MODEL_509ab2788f8345fca1ea48d2069d0ab6",
      "value": " 0/28881 [00:00&lt;?, ?it/s]"
     }
    },
    "b950ad13f0ca4d80bb3dca375f7442a0": {
     "model_module": "@jupyter-widgets/controls",
     "model_name": "FloatProgressModel",
     "state": {
      "_dom_classes": [],
      "_model_module": "@jupyter-widgets/controls",
      "_model_module_version": "1.5.0",
      "_model_name": "FloatProgressModel",
      "_view_count": null,
      "_view_module": "@jupyter-widgets/controls",
      "_view_module_version": "1.5.0",
      "_view_name": "ProgressView",
      "bar_style": "success",
      "description": "",
      "description_tooltip": null,
      "layout": "IPY_MODEL_b56e9e4063cf48dc9e67c004ace5b8ce",
      "max": 1,
      "min": 0,
      "orientation": "horizontal",
      "style": "IPY_MODEL_54f93b1aa7404964ae93a32bfae2a9ff",
      "value": 1
     }
    },
    "ba89ac8d1a484df8982c3a7893612063": {
     "model_module": "@jupyter-widgets/controls",
     "model_name": "HBoxModel",
     "state": {
      "_dom_classes": [],
      "_model_module": "@jupyter-widgets/controls",
      "_model_module_version": "1.5.0",
      "_model_name": "HBoxModel",
      "_view_count": null,
      "_view_module": "@jupyter-widgets/controls",
      "_view_module_version": "1.5.0",
      "_view_name": "HBoxView",
      "box_style": "",
      "children": [
       "IPY_MODEL_c0563b7a2e8948fd9978bc9354ca6065",
       "IPY_MODEL_decaf1c07cae4c77b93cda67fe099e84"
      ],
      "layout": "IPY_MODEL_c13a6b3b97104d0bb5b192dce80cfd3e"
     }
    },
    "bdceecbff7024109b6a6a1e11723107a": {
     "model_module": "@jupyter-widgets/base",
     "model_name": "LayoutModel",
     "state": {
      "_model_module": "@jupyter-widgets/base",
      "_model_module_version": "1.2.0",
      "_model_name": "LayoutModel",
      "_view_count": null,
      "_view_module": "@jupyter-widgets/base",
      "_view_module_version": "1.2.0",
      "_view_name": "LayoutView",
      "align_content": null,
      "align_items": null,
      "align_self": null,
      "border": null,
      "bottom": null,
      "display": null,
      "flex": null,
      "flex_flow": null,
      "grid_area": null,
      "grid_auto_columns": null,
      "grid_auto_flow": null,
      "grid_auto_rows": null,
      "grid_column": null,
      "grid_gap": null,
      "grid_row": null,
      "grid_template_areas": null,
      "grid_template_columns": null,
      "grid_template_rows": null,
      "height": null,
      "justify_content": null,
      "justify_items": null,
      "left": null,
      "margin": null,
      "max_height": null,
      "max_width": null,
      "min_height": null,
      "min_width": null,
      "object_fit": null,
      "object_position": null,
      "order": null,
      "overflow": null,
      "overflow_x": null,
      "overflow_y": null,
      "padding": null,
      "right": null,
      "top": null,
      "visibility": null,
      "width": null
     }
    },
    "c0563b7a2e8948fd9978bc9354ca6065": {
     "model_module": "@jupyter-widgets/controls",
     "model_name": "FloatProgressModel",
     "state": {
      "_dom_classes": [],
      "_model_module": "@jupyter-widgets/controls",
      "_model_module_version": "1.5.0",
      "_model_name": "FloatProgressModel",
      "_view_count": null,
      "_view_module": "@jupyter-widgets/controls",
      "_view_module_version": "1.5.0",
      "_view_name": "ProgressView",
      "bar_style": "success",
      "description": "Epoch 7: 100%",
      "description_tooltip": null,
      "layout": "IPY_MODEL_66caa712c02441ee828d621a3e71de54",
      "max": 1875,
      "min": 0,
      "orientation": "horizontal",
      "style": "IPY_MODEL_c0e4c494d7f1477ca12efba2d5d4fa0d",
      "value": 1875
     }
    },
    "c0e4c494d7f1477ca12efba2d5d4fa0d": {
     "model_module": "@jupyter-widgets/controls",
     "model_name": "ProgressStyleModel",
     "state": {
      "_model_module": "@jupyter-widgets/controls",
      "_model_module_version": "1.5.0",
      "_model_name": "ProgressStyleModel",
      "_view_count": null,
      "_view_module": "@jupyter-widgets/base",
      "_view_module_version": "1.2.0",
      "_view_name": "StyleView",
      "bar_color": null,
      "description_width": "initial"
     }
    },
    "c13a6b3b97104d0bb5b192dce80cfd3e": {
     "model_module": "@jupyter-widgets/base",
     "model_name": "LayoutModel",
     "state": {
      "_model_module": "@jupyter-widgets/base",
      "_model_module_version": "1.2.0",
      "_model_name": "LayoutModel",
      "_view_count": null,
      "_view_module": "@jupyter-widgets/base",
      "_view_module_version": "1.2.0",
      "_view_name": "LayoutView",
      "align_content": null,
      "align_items": null,
      "align_self": null,
      "border": null,
      "bottom": null,
      "display": "inline-flex",
      "flex": null,
      "flex_flow": "row wrap",
      "grid_area": null,
      "grid_auto_columns": null,
      "grid_auto_flow": null,
      "grid_auto_rows": null,
      "grid_column": null,
      "grid_gap": null,
      "grid_row": null,
      "grid_template_areas": null,
      "grid_template_columns": null,
      "grid_template_rows": null,
      "height": null,
      "justify_content": null,
      "justify_items": null,
      "left": null,
      "margin": null,
      "max_height": null,
      "max_width": null,
      "min_height": null,
      "min_width": null,
      "object_fit": null,
      "object_position": null,
      "order": null,
      "overflow": null,
      "overflow_x": null,
      "overflow_y": null,
      "padding": null,
      "right": null,
      "top": null,
      "visibility": null,
      "width": "100%"
     }
    },
    "ce82c5ef3840466e84bc4f76e6b15a5b": {
     "model_module": "@jupyter-widgets/base",
     "model_name": "LayoutModel",
     "state": {
      "_model_module": "@jupyter-widgets/base",
      "_model_module_version": "1.2.0",
      "_model_name": "LayoutModel",
      "_view_count": null,
      "_view_module": "@jupyter-widgets/base",
      "_view_module_version": "1.2.0",
      "_view_name": "LayoutView",
      "align_content": null,
      "align_items": null,
      "align_self": null,
      "border": null,
      "bottom": null,
      "display": null,
      "flex": null,
      "flex_flow": null,
      "grid_area": null,
      "grid_auto_columns": null,
      "grid_auto_flow": null,
      "grid_auto_rows": null,
      "grid_column": null,
      "grid_gap": null,
      "grid_row": null,
      "grid_template_areas": null,
      "grid_template_columns": null,
      "grid_template_rows": null,
      "height": null,
      "justify_content": null,
      "justify_items": null,
      "left": null,
      "margin": null,
      "max_height": null,
      "max_width": null,
      "min_height": null,
      "min_width": null,
      "object_fit": null,
      "object_position": null,
      "order": null,
      "overflow": null,
      "overflow_x": null,
      "overflow_y": null,
      "padding": null,
      "right": null,
      "top": null,
      "visibility": null,
      "width": null
     }
    },
    "d920dd3a4fd24bc0a542f2f61b9833a2": {
     "model_module": "@jupyter-widgets/base",
     "model_name": "LayoutModel",
     "state": {
      "_model_module": "@jupyter-widgets/base",
      "_model_module_version": "1.2.0",
      "_model_name": "LayoutModel",
      "_view_count": null,
      "_view_module": "@jupyter-widgets/base",
      "_view_module_version": "1.2.0",
      "_view_name": "LayoutView",
      "align_content": null,
      "align_items": null,
      "align_self": null,
      "border": null,
      "bottom": null,
      "display": null,
      "flex": null,
      "flex_flow": null,
      "grid_area": null,
      "grid_auto_columns": null,
      "grid_auto_flow": null,
      "grid_auto_rows": null,
      "grid_column": null,
      "grid_gap": null,
      "grid_row": null,
      "grid_template_areas": null,
      "grid_template_columns": null,
      "grid_template_rows": null,
      "height": null,
      "justify_content": null,
      "justify_items": null,
      "left": null,
      "margin": null,
      "max_height": null,
      "max_width": null,
      "min_height": null,
      "min_width": null,
      "object_fit": null,
      "object_position": null,
      "order": null,
      "overflow": null,
      "overflow_x": null,
      "overflow_y": null,
      "padding": null,
      "right": null,
      "top": null,
      "visibility": null,
      "width": null
     }
    },
    "decaf1c07cae4c77b93cda67fe099e84": {
     "model_module": "@jupyter-widgets/controls",
     "model_name": "HTMLModel",
     "state": {
      "_dom_classes": [],
      "_model_module": "@jupyter-widgets/controls",
      "_model_module_version": "1.5.0",
      "_model_name": "HTMLModel",
      "_view_count": null,
      "_view_module": "@jupyter-widgets/controls",
      "_view_module_version": "1.5.0",
      "_view_name": "HTMLView",
      "description": "",
      "description_tooltip": null,
      "layout": "IPY_MODEL_2da128bac24f45f8ab91a14f07b277ec",
      "placeholder": "​",
      "style": "IPY_MODEL_23cdc7027a414473aa7c2d0f9ca87fa8",
      "value": " 1875/1875 [00:18&lt;00:00, 100.17it/s, loss=1.232, v_num=PYTOR-122]"
     }
    },
    "ecf95e257ab3486abe8d6e4b6c61f118": {
     "model_module": "@jupyter-widgets/base",
     "model_name": "LayoutModel",
     "state": {
      "_model_module": "@jupyter-widgets/base",
      "_model_module_version": "1.2.0",
      "_model_name": "LayoutModel",
      "_view_count": null,
      "_view_module": "@jupyter-widgets/base",
      "_view_module_version": "1.2.0",
      "_view_name": "LayoutView",
      "align_content": null,
      "align_items": null,
      "align_self": null,
      "border": null,
      "bottom": null,
      "display": null,
      "flex": null,
      "flex_flow": null,
      "grid_area": null,
      "grid_auto_columns": null,
      "grid_auto_flow": null,
      "grid_auto_rows": null,
      "grid_column": null,
      "grid_gap": null,
      "grid_row": null,
      "grid_template_areas": null,
      "grid_template_columns": null,
      "grid_template_rows": null,
      "height": null,
      "justify_content": null,
      "justify_items": null,
      "left": null,
      "margin": null,
      "max_height": null,
      "max_width": null,
      "min_height": null,
      "min_width": null,
      "object_fit": null,
      "object_position": null,
      "order": null,
      "overflow": null,
      "overflow_x": null,
      "overflow_y": null,
      "padding": null,
      "right": null,
      "top": null,
      "visibility": null,
      "width": null
     }
    },
    "fbe67705da6e4009b16de22718d14b4a": {
     "model_module": "@jupyter-widgets/controls",
     "model_name": "ProgressStyleModel",
     "state": {
      "_model_module": "@jupyter-widgets/controls",
      "_model_module_version": "1.5.0",
      "_model_name": "ProgressStyleModel",
      "_view_count": null,
      "_view_module": "@jupyter-widgets/base",
      "_view_module_version": "1.2.0",
      "_view_name": "StyleView",
      "bar_color": null,
      "description_width": "initial"
     }
    },
    "fe01222bf018498a899d97eb8a992400": {
     "model_module": "@jupyter-widgets/controls",
     "model_name": "FloatProgressModel",
     "state": {
      "_dom_classes": [],
      "_model_module": "@jupyter-widgets/controls",
      "_model_module_version": "1.5.0",
      "_model_name": "FloatProgressModel",
      "_view_count": null,
      "_view_module": "@jupyter-widgets/controls",
      "_view_module_version": "1.5.0",
      "_view_name": "ProgressView",
      "bar_style": "info",
      "description": "  0%",
      "description_tooltip": null,
      "layout": "IPY_MODEL_b280c8ec9fde4027aa6160ccabdd1168",
      "max": 1,
      "min": 0,
      "orientation": "horizontal",
      "style": "IPY_MODEL_fbe67705da6e4009b16de22718d14b4a",
      "value": 0
     }
    }
   }
  }
 },
 "nbformat": 4,
 "nbformat_minor": 4
}
