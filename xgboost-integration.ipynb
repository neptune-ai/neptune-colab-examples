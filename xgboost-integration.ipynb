{
 "cells": [
  {
   "cell_type": "markdown",
   "metadata": {},
   "source": [
    "# XGBoost integration\n",
    "Here, we present XGBoost integration with Neptune that lets you automatically log metrics (train, eval), save trained model to Neptune and much more.\n",
    "\n",
    "Usage is easy: just pass `neptune_callback` to training function like any other xgboost callback.\n",
    "\n",
    "You can log multiple data types:\n",
    "\n",
    "    * Log metrics (train and eval) after each boosting iteration.\n",
    "    * Log model (Booster) to Neptune after last boosting iteration.\n",
    "    * Log feature importance to Neptune as image after last boosting iteration.\n",
    "    * Log visualized trees to Neptune as images after last boosting iteration.\n",
    "\n",
    "## Resources\n",
    "* Open source implementation is on [GitHub](https://github.com/neptune-ai/neptune-contrib/blob/master/neptunecontrib/monitoring/xgboost_monitor.py),\n",
    "* Use case / tutorial: https://docs.neptune.ai/integrations/xgboost.html,\n",
    "* Try integration in action right now. Simply run this Notebook top to bottom. It works outside-the-box :)"
   ]
  },
  {
   "cell_type": "markdown",
   "metadata": {},
   "source": [
    "## Install dependencies\n",
    "This demo requires few Python libs. Let's install them."
   ]
  },
  {
   "cell_type": "code",
   "execution_count": null,
   "metadata": {
    "scrolled": false
   },
   "outputs": [],
   "source": [
    "!pip install neptune-client pandas xgboost sklearn matplotlib graphviz"
   ]
  },
  {
   "cell_type": "code",
   "execution_count": null,
   "metadata": {},
   "outputs": [],
   "source": [
    "import neptune\n",
    "import pandas as pd\n",
    "import xgboost as xgb\n",
    "from sklearn.datasets import load_boston\n",
    "from sklearn.model_selection import train_test_split\n",
    "\n",
    "# here you import `neptune_calback` that does the magic (the open source magic :)\n",
    "from neptunecontrib.monitoring.xgboost_monitor import neptune_callback"
   ]
  },
  {
   "cell_type": "markdown",
   "metadata": {},
   "source": [
    "## Set project\n",
    "For this demonstration, I use public user: `neptuner`, who has `ANONYMOUS` token .\n",
    "\n",
    "Thanks to this you can run this code as is and see results in Neptune :)"
   ]
  },
  {
   "cell_type": "code",
   "execution_count": null,
   "metadata": {},
   "outputs": [],
   "source": [
    "neptune.init('shared/XGBoost-integration',\n",
    "             api_token='ANONYMOUS')"
   ]
  },
  {
   "cell_type": "markdown",
   "metadata": {},
   "source": [
    "## Prepare data for XGBoost training"
   ]
  },
  {
   "cell_type": "code",
   "execution_count": null,
   "metadata": {},
   "outputs": [],
   "source": [
    "boston = load_boston()\n",
    "data = pd.DataFrame(boston.data)\n",
    "data.columns = boston.feature_names\n",
    "data['PRICE'] = boston.target\n",
    "X, y = data.iloc[:,:-1], data.iloc[:,-1]\n",
    "X_train, X_test, y_train, y_test = train_test_split(X, y, test_size=0.2, random_state=102030)\n",
    "\n",
    "dtrain = xgb.DMatrix(X_train, label=y_train)\n",
    "dtest = xgb.DMatrix(X_test, label=y_test)"
   ]
  },
  {
   "cell_type": "markdown",
   "metadata": {},
   "source": [
    "## Prepare params"
   ]
  },
  {
   "cell_type": "code",
   "execution_count": null,
   "metadata": {},
   "outputs": [],
   "source": [
    "params = {'max_depth': 5,\n",
    "          'eta': 0.5,\n",
    "          'gamma': 0.1,\n",
    "          'silent': 1,\n",
    "          'subsample': 1,\n",
    "          'lambda': 1,\n",
    "          'alpha': 0.35,\n",
    "          'objective': 'reg:linear',\n",
    "          'eval_metric': ['mae', 'rmse']}\n",
    "watchlist = [(dtest, 'eval'), (dtrain, 'train')]\n",
    "num_round = 20"
   ]
  },
  {
   "cell_type": "markdown",
   "metadata": {},
   "source": [
    "## Train model using `xgb.train()`"
   ]
  },
  {
   "cell_type": "markdown",
   "metadata": {},
   "source": [
    "Example experiment:"
   ]
  },
  {
   "cell_type": "code",
   "execution_count": null,
   "metadata": {},
   "outputs": [],
   "source": [
    "neptune.create_experiment(name='xgb', tags=['train'], params=params)\n",
    "xgb.train(params, dtrain, num_round, watchlist,\n",
    "          callbacks=[neptune_callback(log_tree=[0,1,2])])"
   ]
  },
  {
   "cell_type": "code",
   "execution_count": null,
   "metadata": {},
   "outputs": [],
   "source": [
    "neptune.stop()"
   ]
  },
  {
   "cell_type": "markdown",
   "metadata": {},
   "source": [
    "## Train model using `xgb.cv()`"
   ]
  },
  {
   "cell_type": "markdown",
   "metadata": {},
   "source": [
    "Example experiment:"
   ]
  },
  {
   "cell_type": "code",
   "execution_count": null,
   "metadata": {},
   "outputs": [],
   "source": [
    "neptune.create_experiment(name='xgb', tags=['cv'], params=params)\n",
    "xgb.cv(params, dtrain, num_boost_round=num_round, nfold=7,\n",
    "       callbacks=[neptune_callback(log_tree=[0, 1, 2, 3, 4])])"
   ]
  },
  {
   "cell_type": "code",
   "execution_count": null,
   "metadata": {},
   "outputs": [],
   "source": [
    "neptune.stop()"
   ]
  },
  {
   "cell_type": "markdown",
   "metadata": {},
   "source": [
    "## Train model using `sklearn` API"
   ]
  },
  {
   "cell_type": "markdown",
   "metadata": {},
   "source": [
    "Example experiment:"
   ]
  },
  {
   "cell_type": "code",
   "execution_count": null,
   "metadata": {
    "scrolled": false
   },
   "outputs": [],
   "source": [
    "neptune.create_experiment(name='xgb', tags=['sklearn'], params=params)\n",
    "reg = xgb.XGBRegressor(**params)\n",
    "reg.fit(X_train, y_train,\n",
    "        eval_metric=['mae', 'rmse'],\n",
    "        eval_set=[(X_test, y_test)],\n",
    "        callbacks=[neptune_callback(log_tree=[0,1])])"
   ]
  },
  {
   "cell_type": "code",
   "execution_count": null,
   "metadata": {},
   "outputs": [],
   "source": [
    "neptune.stop()"
   ]
  }
 ],
 "metadata": {
  "kernelspec": {
   "display_name": "Python 3",
   "language": "python",
   "name": "python3"
  },
  "language_info": {
   "codemirror_mode": {
    "name": "ipython",
    "version": 3
   },
   "file_extension": ".py",
   "mimetype": "text/x-python",
   "name": "python",
   "nbconvert_exporter": "python",
   "pygments_lexer": "ipython3",
   "version": "3.6.9"
  },
  "neptune": {
   "notebookId": "d9ac48b4-401d-4e45-a04c-c458ab10fa29"
  }
 },
 "nbformat": 4,
 "nbformat_minor": 4
}
