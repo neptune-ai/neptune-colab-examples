{
  "nbformat": 4,
  "nbformat_minor": 0,
  "metadata": {
    "colab": {
      "name": "Neptune-Skopt.ipynb",
      "private_outputs": true,
      "provenance": [],
      "collapsed_sections": [],
      "toc_visible": true
    },
    "kernelspec": {
      "name": "python3",
      "display_name": "Python 3"
    }
  },
  "cells": [
    {
      "cell_type": "markdown",
      "metadata": {
        "id": "G4ny3mHCFrqG"
      },
      "source": [
        "# Neptune + Scikit-Optimize"
      ]
    },
    {
      "cell_type": "markdown",
      "metadata": {
        "id": "8iu66Yz2SIWz"
      },
      "source": [
        "## Before you start"
      ]
    },
    {
      "cell_type": "markdown",
      "metadata": {
        "id": "xndcBi_EUFVi"
      },
      "source": [
        "### Install dependencies"
      ]
    },
    {
      "cell_type": "code",
      "metadata": {
        "id": "4sYeJcOEZvXy"
      },
      "source": [
        "pip install --quiet scikit-optimize==0.8.1 neptune-client neptune-contrib['monitoring']"
      ],
      "execution_count": null,
      "outputs": []
    },
    {
      "cell_type": "markdown",
      "metadata": {
        "id": "xRNsTjgFaYKD"
      },
      "source": [
        "### Import libraries"
      ]
    },
    {
      "cell_type": "code",
      "metadata": {
        "id": "Z4TbIn2yZ4hD"
      },
      "source": [
        "import neptune\r\n",
        "import neptunecontrib.monitoring.skopt as skopt_utils\r\n",
        "import skopt"
      ],
      "execution_count": null,
      "outputs": []
    },
    {
      "cell_type": "markdown",
      "metadata": {
        "id": "If9d2A8zUynE"
      },
      "source": [
        "### Initialize Neptune"
      ]
    },
    {
      "cell_type": "markdown",
      "metadata": {
        "id": "auuzaMR3Sei2"
      },
      "source": [
        "Neptune gives you an option of logging data under a public folder as an anonymous user. This is great when you are just trying out the application and don't have a Neptune account yet."
      ]
    },
    {
      "cell_type": "code",
      "metadata": {
        "id": "wGuFr2AaU7XF"
      },
      "source": [
        "neptune.init(api_token='ANONYMOUS', project_qualified_name='shared/scikit-optimize-integration')"
      ],
      "execution_count": null,
      "outputs": []
    },
    {
      "cell_type": "markdown",
      "metadata": {
        "id": "Y_L0HVQ4igs0"
      },
      "source": [
        "**Note:** \r\n",
        "\r\n",
        "\r\n",
        "Instead of logging data to the public project 'shared/scikit-opitmize-integration' as an anonymous user 'neptuner' you can log it to your own project.\r\n",
        "\r\n",
        "To do that:\r\n",
        "\r\n",
        "1. Get your Neptune API token\r\n",
        "\r\n",
        "  ![image](https://neptune.ai/wp-content/uploads/get_token.gif)\r\n",
        "\r\n",
        "2. Pass the token to the `api_token` parameter of `neptune.init()` (learn how to do this securely [here](https://docs.neptune.ai/security-and-privacy/api-tokens/how-to-find-and-set-neptune-api-token.html))\r\n",
        "3. Create a new Neptune Project (learn how to do that [here](https://docs.neptune.ai/workspace-project-and-user-management/projects/create-project.html))\r\n",
        "4. Pass your username and project_name to the `project_qualified_name` parameter of `neptune.init()`\r\n",
        "\r\n",
        "For example:\r\n",
        "\r\n",
        "```\r\n",
        "neptune.init(api_token='eyJhcGlfYW908fsdf23f940jiri0bn3085gh03riv03irn', project_qualified_name='siddhantsadangi/skopt')\r\n",
        "```"
      ]
    },
    {
      "cell_type": "markdown",
      "metadata": {
        "id": "c3YRPmiyiVw8"
      },
      "source": [
        "### Create a sample objective function for skopt"
      ]
    },
    {
      "cell_type": "code",
      "metadata": {
        "id": "bcwaQn0ciaGi"
      },
      "source": [
        "import lightgbm as lgb\r\n",
        "from sklearn.datasets import load_breast_cancer\r\n",
        "from sklearn.metrics import roc_auc_score\r\n",
        "from sklearn.model_selection import train_test_split\r\n",
        "\r\n",
        "space = [skopt.space.Real(0.01, 0.5, name='learning_rate', prior='log-uniform'),\r\n",
        "          skopt.space.Integer(1, 30, name='max_depth'),\r\n",
        "          skopt.space.Integer(2, 100, name='num_leaves'),\r\n",
        "          skopt.space.Integer(10, 1000, name='min_data_in_leaf'),\r\n",
        "          skopt.space.Real(0.1, 1.0, name='feature_fraction', prior='uniform'),\r\n",
        "          skopt.space.Real(0.1, 1.0, name='subsample', prior='uniform'),\r\n",
        "          ]\r\n",
        "\r\n",
        "@skopt.utils.use_named_args(space)\r\n",
        "def objective(**params):\r\n",
        "    data, target = load_breast_cancer(return_X_y=True)\r\n",
        "    train_x, test_x, train_y, test_y = train_test_split(data, target, test_size=0.25)\r\n",
        "    dtrain = lgb.Dataset(train_x, label=train_y)\r\n",
        "\r\n",
        "    param = {\r\n",
        "        'objective': 'binary',\r\n",
        "        'metric': 'binary_logloss',\r\n",
        "        **params\r\n",
        "    }\r\n",
        "\r\n",
        "    gbm = lgb.train(param, dtrain)\r\n",
        "    preds = gbm.predict(test_x)\r\n",
        "    accuracy = roc_auc_score(test_y, preds)\r\n",
        "    return -1.0 * accuracy"
      ],
      "execution_count": null,
      "outputs": []
    },
    {
      "cell_type": "markdown",
      "metadata": {
        "id": "axBFfUNhwGx5"
      },
      "source": [
        "## Quickstart"
      ]
    },
    {
      "cell_type": "markdown",
      "metadata": {
        "id": "pzZB67vkjpQP"
      },
      "source": [
        "### Step 1: Create an Experiment\r\n",
        "\r\n",
        "This creates an experiment in Neptune.\r\n",
        "\r\n",
        "Once you have a live experiment you can log things to it.\r\n"
      ]
    },
    {
      "cell_type": "code",
      "metadata": {
        "id": "HdsYsx0zlBNy"
      },
      "source": [
        "neptune.create_experiment(name='skopt-sweep')"
      ],
      "execution_count": null,
      "outputs": []
    },
    {
      "cell_type": "markdown",
      "metadata": {
        "id": "_wQ8_ZfImk3D"
      },
      "source": [
        "Click on the link above to open this experiment in Neptune.\r\n",
        "\r\n",
        "For now it is empty but keep the tab with experiment open to see what happens next."
      ]
    },
    {
      "cell_type": "markdown",
      "metadata": {
        "id": "vIYhwihVdLy4"
      },
      "source": [
        "### Step 2: Run skopt with the Neptune Callback\r\n",
        "\r\n",
        "This causes the metrics, parameters and results pickle logged after every iteration. Everything can be inspected live on the experiment tab (through the link displayed before)."
      ]
    },
    {
      "cell_type": "code",
      "metadata": {
        "id": "_2KNcCRgdF9Z"
      },
      "source": [
        "# Create Neptune Callback\r\n",
        "neptune_callback = skopt_utils.NeptuneCallback()"
      ],
      "execution_count": null,
      "outputs": []
    },
    {
      "cell_type": "code",
      "metadata": {
        "id": "PKqjcblYdd1U"
      },
      "source": [
        "# Run the skopt minimize function with the Neptune Callback\r\n",
        "results = skopt.forest_minimize(objective, space, n_calls=25, n_random_starts=10,\r\n",
        "                                callback=[neptune_callback])"
      ],
      "execution_count": null,
      "outputs": []
    },
    {
      "cell_type": "markdown",
      "metadata": {
        "id": "yasauNnibbkB"
      },
      "source": [
        "### Step 3: Stop logging\r\n",
        "\r\n",
        "When you track experiments with Neptune in Jupyter notebooks you need to explicitly stop the experiment by running ```neptune.stop()```.\r\n",
        "\r\n",
        "If you are running Neptune in regular ```.py``` scripts it will stop automatically when your code stops running."
      ]
    },
    {
      "cell_type": "code",
      "metadata": {
        "id": "__iDgMetbbkC"
      },
      "source": [
        "neptune.stop()"
      ],
      "execution_count": null,
      "outputs": []
    },
    {
      "cell_type": "markdown",
      "metadata": {
        "id": "kgmu6UcUdv-r"
      },
      "source": [
        "## More Options\r\n",
        "\r\n",
        "You can log additional information from skopt results after the training has completed.\r\n",
        "\r\n",
        "You can change the Neptune experiment to which the results are logged with the ``experiment`` parameter, and choose whether or not you want to log plots and the pickle objects with the ``log_plots`` and ``log_pickle`` parameters.  \r\n",
        "\r\n",
        "More information about the ``log_results()`` method [here](https://docs.neptune.ai/api-reference/neptunecontrib/monitoring/skopt/index.html?highlight=skopt#neptunecontrib.monitoring.skopt.log_results)."
      ]
    },
    {
      "cell_type": "code",
      "metadata": {
        "id": "wo6dD522izbu"
      },
      "source": [
        "# Create experiment\r\n",
        "neptune.create_experiment(name='skopt-sweep')\r\n",
        "\r\n",
        "# Create Neptune Callback\r\n",
        "neptune_callback = skopt_utils.NeptuneCallback()\r\n",
        "\r\n",
        "# Run skopt\r\n",
        "results = skopt.forest_minimize(objective, space, n_calls=25, n_random_starts=10,\r\n",
        "                                callback=[neptune_callback])\r\n",
        "# Log results to Neptune\r\n",
        "skopt_utils.log_results(results)\r\n",
        "\r\n",
        "# Stop logging\r\n",
        "neptune.stop()"
      ],
      "execution_count": null,
      "outputs": []
    },
    {
      "cell_type": "markdown",
      "metadata": {
        "id": "LMWa-USAl5i9"
      },
      "source": [
        "## Explore results in the Neptune UI"
      ]
    }
  ]
}