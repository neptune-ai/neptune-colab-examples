{
 "cells": [
  {
   "cell_type": "markdown",
   "metadata": {
    "id": "v1D-Y52T5OwT",
    "tags": [
     "header"
    ]
   },
   "source": [
    "# Neptune + MLflow"
   ]
  },
  {
   "cell_type": "markdown",
   "metadata": {
    "id": "7MizxtDs5dQX",
    "tags": [
     "header"
    ]
   },
   "source": [
    "## Before you start"
   ]
  },
  {
   "cell_type": "markdown",
   "metadata": {
    "id": "-ydwJoVD6Je9",
    "tags": [
     "installation"
    ]
   },
   "source": [
    "### Install Dependencies"
   ]
  },
  {
   "cell_type": "code",
   "execution_count": null,
   "metadata": {
    "id": "BFnMHkiXfU7-",
    "tags": [
     "installation"
    ]
   },
   "outputs": [],
   "source": [
    "! pip install --quiet mlflow==1.12.1 neptune-mlflow==0.2.5 neptune-client==0.4.131"
   ]
  },
  {
   "cell_type": "markdown",
   "metadata": {
    "tags": [
     "header"
    ]
   },
   "source": [
    "### Create some MLflow runs"
   ]
  },
  {
   "cell_type": "markdown",
   "metadata": {
    "tags": [
     "comment"
    ]
   },
   "source": [
    "**Note:**  \n",
    "You can run it once to create a single MLflow run or multiple times."
   ]
  },
  {
   "cell_type": "code",
   "execution_count": null,
   "metadata": {
    "tags": [
     "code"
    ]
   },
   "outputs": [],
   "source": [
    "import os\n",
    "from random import random, randint\n",
    "import mlflow \n",
    "\n",
    "# start a run\n",
    "mlflow.start_run()\n",
    "\n",
    "# Log a parameter (key-value pair)\n",
    "mlflow.log_param(\"param1\", randint(0, 100))\n",
    "\n",
    "# Log a metric; metrics can be updated throughout the run\n",
    "mlflow.log_metric(\"foo\", random())\n",
    "mlflow.log_metric(\"foo\", random()+1)\n",
    "mlflow.log_metric(\"foo\", random()+2)\n",
    "mlflow.log_metric(\"foo\", random()+3)\n",
    "\n",
    "mlflow.log_metric(\"bar\", random())\n",
    "mlflow.log_metric(\"bar\", random()+1)\n",
    "mlflow.log_metric(\"bar\", random()+2)\n",
    "mlflow.log_metric(\"bar\", random()+3)\n",
    "\n",
    "\n",
    "# Log an artifact (output file)\n",
    "os.makedirs(\"outputs\", exist_ok=True)\n",
    "with open(\"outputs/test.txt\", \"w\") as f:\n",
    "    f.write(\"hello world!\")\n",
    "mlflow.log_artifacts(\"outputs\")\n",
    "\n",
    "mlflow.end_run()"
   ]
  },
  {
   "cell_type": "markdown",
   "metadata": {
    "tags": [
     "header"
    ]
   },
   "source": [
    "## Step 1: Set your Environment Variables"
   ]
  },
  {
   "cell_type": "code",
   "execution_count": null,
   "metadata": {
    "id": "G1fQ0CbmhmSC",
    "tags": [
     "code"
    ]
   },
   "outputs": [],
   "source": [
    "%env NEPTUNE_API_TOKEN=ANONYMOUS\n",
    "%env NEPTUNE_PROJECT=shared/mlflow-integration"
   ]
  },
  {
   "cell_type": "markdown",
   "metadata": {
    "id": "QoRgIu4tpcqW",
    "tags": [
     "comment"
    ]
   },
   "source": [
    "**Note:**   \n",
    "Instead of logging data to the public project 'shared/mlflow-integration' as an anonymous user 'neptuner' you can log it to your own project.\n",
    "\n",
    "To do that:\n",
    "\n",
    "1. Get your Neptune API token\n",
    "\n",
    "![image](https://neptune.ai/wp-content/uploads/get_token.gif)\n",
    "\n",
    "2. Pass the token to `NEPTUNE_API_TOKEN` environment variable\n",
    "3. Create a new Neptune Project (learn how to do that [here](https://docs.neptune.ai/workspace-project-and-user-management/projects/create-project.html))\n",
    "4. Pass your username and project_name to the `NEPTUNE_PROJECT` environment variable\n",
    "\n",
    "For example:\n",
    "\n",
    "```\n",
    "%env NEPTUNE_API_TOKEN=eyJhcGlfYW908fsdf23f940jiri0bn3085gh03riv03irn\n",
    "%env NEPTUNE_PROJECT=siddhantsadangi/mlflow\n",
    "```"
   ]
  },
  {
   "cell_type": "markdown",
   "metadata": {
    "id": "Z8of9J8662au",
    "tags": [
     "header"
    ]
   },
   "source": [
    "## Step 2: Sync your MLruns with Neptune"
   ]
  },
  {
   "cell_type": "markdown",
   "metadata": {
    "id": "w9CfGImkP7JO",
    "tags": [
     "comment"
    ]
   },
   "source": [
    "Run the following command"
   ]
  },
  {
   "cell_type": "code",
   "execution_count": null,
   "metadata": {
    "id": "CHBji8hq3Ngi",
    "tags": [
     "code"
    ]
   },
   "outputs": [],
   "source": [
    "! neptune mlflow"
   ]
  },
  {
   "cell_type": "markdown",
   "metadata": {},
   "source": [
    "**Note:**  \n",
    "You can specify the path to the directory where the 'mlruns' directory is. "
   ]
  },
  {
   "cell_type": "markdown",
   "metadata": {
    "tags": [
     "header"
    ]
   },
   "source": [
    "## See converted experiments\n",
    "\n",
    "Click on the link(s) above to browse the MLflow run in Neptune or go to [shared/mlflow-integration project](https://ui.neptune.ai/o/shared/org/mlflow-integration/experiments?viewId=7608998d-4828-48c5-81cc-fb9ec625e206)."
   ]
  },
  {
   "cell_type": "markdown",
   "metadata": {
    "id": "g-Ae7n8l0R_j",
    "tags": [
     "comment"
    ]
   },
   "source": [
    "**Note:**  \n",
    "Running the above code pushes all your MLruns to Neptune. You can rerun the code after fresh runs, and only they will be pushed."
   ]
  }
 ],
 "metadata": {
  "colab": {
   "collapsed_sections": [],
   "name": "Neptune-MLflow.ipynb",
   "private_outputs": true,
   "provenance": [],
   "toc_visible": true
  },
  "kernelspec": {
   "display_name": "Python 3",
   "language": "python",
   "name": "python3"
  },
  "language_info": {
   "codemirror_mode": {
    "name": "ipython",
    "version": 3
   },
   "file_extension": ".py",
   "mimetype": "text/x-python",
   "name": "python",
   "nbconvert_exporter": "python",
   "pygments_lexer": "ipython3",
   "version": "3.7.7"
  }
 },
 "nbformat": 4,
 "nbformat_minor": 4
}
