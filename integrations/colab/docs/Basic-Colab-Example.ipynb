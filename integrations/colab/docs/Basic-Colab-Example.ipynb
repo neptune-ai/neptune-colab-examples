{
 "cells": [
  {
   "cell_type": "markdown",
   "metadata": {
    "id": "71btcZadQ7MF",
    "tags": [
     "header",
     "installation"
    ]
   },
   "source": [
    "# Quickstart"
   ]
  },
  {
   "cell_type": "markdown",
   "metadata": {
    "id": "0NQaVXuoWA-E",
    "tags": [
     "header"
    ]
   },
   "source": [
    "## Step 1: Install ```neptune-client```"
   ]
  },
  {
   "cell_type": "code",
   "execution_count": null,
   "metadata": {
    "id": "wmpN4W8wQ7MI",
    "tags": [
     "installation"
    ]
   },
   "outputs": [],
   "source": [
    "! pip install neptune-client==0.4.130"
   ]
  },
  {
   "cell_type": "markdown",
   "metadata": {
    "id": "RXXxe1ccQ7MQ",
    "tags": [
     "header"
    ]
   },
   "source": [
    "## Step 2: Initialize Neptune"
   ]
  },
  {
   "cell_type": "markdown",
   "metadata": {
    "id": "-KClvAKTQ7MR",
    "tags": [
     "header"
    ]
   },
   "source": [
    "### Initialize a public project"
   ]
  },
  {
   "cell_type": "code",
   "execution_count": null,
   "metadata": {
    "id": "v08NphqxQ7MS",
    "tags": [
     "code"
    ]
   },
   "outputs": [],
   "source": [
    "import neptune\n",
    "\n",
    "neptune.init(project_qualified_name='shared/onboarding', api_token='ANONYMOUS')"
   ]
  },
  {
   "cell_type": "markdown",
   "metadata": {
    "id": "0MYTi_hIbeAI",
    "tags": [
     "header"
    ]
   },
   "source": [
    "## Step 3: Create an experiment"
   ]
  },
  {
   "cell_type": "code",
   "execution_count": null,
   "metadata": {
    "id": "1cqc46XCQ7Ma",
    "tags": [
     "code"
    ]
   },
   "outputs": [],
   "source": [
    "neptune.create_experiment()"
   ]
  },
  {
   "cell_type": "markdown",
   "metadata": {
    "id": "pk4ZgmW9Q7Mg",
    "tags": [
     "header"
    ]
   },
   "source": [
    "## Step 4: Log metrics during training"
   ]
  },
  {
   "cell_type": "code",
   "execution_count": null,
   "metadata": {
    "id": "jZdLObUSQ7Mi",
    "tags": [
     "code"
    ]
   },
   "outputs": [],
   "source": [
    "import numpy as np\n",
    "from time import sleep\n",
    "\n",
    "neptune.log_metric('single_metric', 0.62)\n",
    "\n",
    "for i in range(100):\n",
    "    sleep(0.2) # to see logging live\n",
    "    neptune.log_metric('random_training_metric', i * np.random.random())\n",
    "    neptune.log_metric('other_random_training_metric', 0.5 * i * np.random.random())"
   ]
  },
  {
   "cell_type": "markdown",
   "metadata": {
    "id": "VqQxmvjMcVrD",
    "tags": [
     "header"
    ]
   },
   "source": [
    "## Step 5: Stop tracking the experiment"
   ]
  },
  {
   "cell_type": "code",
   "execution_count": null,
   "metadata": {
    "id": "-kSyYsO6xMRy",
    "tags": [
     "neptune_stop"
    ]
   },
   "outputs": [],
   "source": [
    "neptune.stop()"
   ]
  },
  {
   "cell_type": "code",
   "execution_count": null,
   "metadata": {
    "id": "NUDWtT1sctYd"
   },
   "outputs": [],
   "source": []
  }
 ],
 "metadata": {
  "colab": {
   "collapsed_sections": [],
   "name": "Basic-Colab-Example.ipynb",
   "private_outputs": true,
   "provenance": []
  },
  "kernelspec": {
   "display_name": "Python 3",
   "language": "python",
   "name": "python3"
  },
  "language_info": {
   "codemirror_mode": {
    "name": "ipython",
    "version": 3
   },
   "file_extension": ".py",
   "mimetype": "text/x-python",
   "name": "python",
   "nbconvert_exporter": "python",
   "pygments_lexer": "ipython3",
   "version": "3.7.7"
  }
 },
 "nbformat": 4,
 "nbformat_minor": 4
}
