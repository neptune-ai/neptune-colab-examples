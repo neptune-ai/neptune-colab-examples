{
 "cells": [
  {
   "cell_type": "markdown",
   "metadata": {
    "id": "GG3_2HyRVY4Y",
    "tags": [
     "header",
     "comment"
    ]
   },
   "source": [
    "# Introduction"
   ]
  },
  {
   "cell_type": "markdown",
   "metadata": {
    "id": "3wSDx9alU7Zx",
    "tags": [
     "comment"
    ]
   },
   "source": [
    "This guide will show you how to:\n",
    "\n",
    "* Install ```neptune-client```\n",
    "* Connect Neptune to your Colab notebook and create the first experiment\n",
    "* Log metrics to Neptune and explore them in the UI"
   ]
  },
  {
   "cell_type": "markdown",
   "metadata": {
    "id": "71btcZadQ7MF",
    "tags": [
     "header",
     "installation"
    ]
   },
   "source": [
    "# Quickstart"
   ]
  },
  {
   "cell_type": "markdown",
   "metadata": {
    "id": "0NQaVXuoWA-E",
    "tags": [
     "header"
    ]
   },
   "source": [
    "## Step 1: Install ```neptune-client```"
   ]
  },
  {
   "cell_type": "code",
   "execution_count": null,
   "metadata": {
    "id": "wmpN4W8wQ7MI",
    "tags": [
     "installation"
    ]
   },
   "outputs": [],
   "source": [
    "! pip install neptune-client==0.4.132"
   ]
  },
  {
   "cell_type": "markdown",
   "metadata": {
    "id": "RXXxe1ccQ7MQ",
    "tags": [
     "header"
    ]
   },
   "source": [
    "## Step 2: Initialize Neptune"
   ]
  },
  {
   "cell_type": "markdown",
   "metadata": {
    "id": "-KClvAKTQ7MR",
    "tags": [
     "header"
    ]
   },
   "source": [
    "### Initialize a public project"
   ]
  },
  {
   "cell_type": "markdown",
   "metadata": {
    "id": "0QhyfqDWWvlx",
    "tags": [
     "comment"
    ]
   },
   "source": [
    "Neptune gives you an option of logging data under a public folder as an anonymous user. This is great when you are just trying out the application and don't have a Neptune account yet."
   ]
  },
  {
   "cell_type": "code",
   "execution_count": null,
   "metadata": {
    "id": "v08NphqxQ7MS",
    "tags": [
     "code"
    ]
   },
   "outputs": [],
   "source": [
    "import neptune\n",
    "\n",
    "neptune.init(project_qualified_name='shared/onboarding', api_token='ANONYMOUS')"
   ]
  },
  {
   "cell_type": "markdown",
   "metadata": {
    "id": "pCAhb_-NXH6l",
    "tags": [
     "header",
     "exclude"
    ]
   },
   "source": [
    "### Initialize a private project"
   ]
  },
  {
   "cell_type": "markdown",
   "metadata": {
    "id": "kbw1DKFhQ7MX",
    "tags": [
     "comment",
     "exclude"
    ]
   },
   "source": [
    "If you already have a [Neptune account](https://neptune.ai/register), you can create your own experiment and start logging to it using your personal API token."
   ]
  },
  {
   "cell_type": "markdown",
   "metadata": {
    "id": "uKNnMoeLZECP",
    "tags": [
     "header",
     "exclude"
    ]
   },
   "source": [
    "#### Step 2(a): Get your Neptune API token\n",
    "\n",
    "![image](https://neptune.ai/wp-content/uploads/get_token.gif)"
   ]
  },
  {
   "cell_type": "markdown",
   "metadata": {
    "id": "wEb6l4x8ZYlN",
    "tags": [
     "header",
     "exclude"
    ]
   },
   "source": [
    "#### Step 2(b): Set the ```api_token``` to initialize Neptune"
   ]
  },
  {
   "cell_type": "markdown",
   "metadata": {
    "tags": [
     "comment",
     "exclude"
    ]
   },
   "source": [
    "The preferred way of doing this is by using the ```getpass()``` method so that your token remains private even if you share the notebook"
   ]
  },
  {
   "cell_type": "code",
   "execution_count": null,
   "metadata": {
    "id": "FXPlKmjC10MG",
    "tags": [
     "code",
     "exclude"
    ]
   },
   "outputs": [],
   "source": [
    "from getpass import getpass\n",
    "\n",
    "api_token = getpass('Enter your private Neptune API token: ')"
   ]
  },
  {
   "cell_type": "markdown",
   "metadata": {
    "id": "TQZAqPw5apot",
    "tags": [
     "header",
     "exclude"
    ]
   },
   "source": [
    "#### Step 2(c): Initialize your private project"
   ]
  },
  {
   "cell_type": "markdown",
   "metadata": {
    "id": "SneENG0kae31",
    "tags": [
     "comment",
     "exclude"
    ]
   },
   "source": [
    "Pass your ```username``` to the ``project_qualified_name`` argument of the ``neptune.init()`` method: ``project_qualified_name='YOUR_USERNAME/sandbox``. Keep `/sandbox` at the end, the `sandbox` project is automatically created for you."
   ]
  },
  {
   "cell_type": "code",
   "execution_count": null,
   "metadata": {
    "id": "4k_jZnnFwwW8",
    "tags": [
     "code",
     "exclude"
    ]
   },
   "outputs": [],
   "source": [
    "neptune.init(project_qualified_name='YOUR_USERNAME/sandbox', api_token=api_token)"
   ]
  },
  {
   "cell_type": "markdown",
   "metadata": {
    "id": "0MYTi_hIbeAI",
    "tags": [
     "header"
    ]
   },
   "source": [
    "## Step 3: Create an experiment"
   ]
  },
  {
   "cell_type": "markdown",
   "metadata": {
    "id": "MlUsYLuzQ7MZ",
    "tags": [
     "comment"
    ]
   },
   "source": [
    "This creates an experiment in Neptune.\n",
    "\n",
    "Once you have a live experiment you can log things to it. "
   ]
  },
  {
   "cell_type": "code",
   "execution_count": null,
   "metadata": {
    "id": "1cqc46XCQ7Ma",
    "tags": [
     "code"
    ]
   },
   "outputs": [],
   "source": [
    "neptune.create_experiment()"
   ]
  },
  {
   "cell_type": "markdown",
   "metadata": {
    "id": "EBRhrcM3Q7Me",
    "tags": [
     "comment"
    ]
   },
   "source": [
    "Click on the link above to open this experiment in Neptune.\n",
    "\n",
    "For now it is empty but keep the tab with experiment open to see what happens next. "
   ]
  },
  {
   "cell_type": "markdown",
   "metadata": {
    "id": "pk4ZgmW9Q7Mg",
    "tags": [
     "header"
    ]
   },
   "source": [
    "## Step 4: Log metrics during training"
   ]
  },
  {
   "cell_type": "markdown",
   "metadata": {
    "id": "0uyhflfLQ7Mg",
    "tags": [
     "comment"
    ]
   },
   "source": [
    "Log metrics or losses under a name of your choice. You can log one or multiple values."
   ]
  },
  {
   "cell_type": "code",
   "execution_count": null,
   "metadata": {
    "id": "jZdLObUSQ7Mi",
    "tags": [
     "code"
    ]
   },
   "outputs": [],
   "source": [
    "import numpy as np\n",
    "from time import sleep\n",
    "\n",
    "neptune.log_metric('single_metric', 0.62)\n",
    "\n",
    "for i in range(100):\n",
    "    sleep(0.2) # to see logging live\n",
    "    neptune.log_metric('random_training_metric', i * np.random.random())\n",
    "    neptune.log_metric('other_random_training_metric', 0.5 * i * np.random.random())"
   ]
  },
  {
   "cell_type": "markdown",
   "metadata": {
    "id": "mRhOAcS0Q7Mm",
    "tags": [
     "comment"
    ]
   },
   "source": [
    "This creates 3 logs:\n",
    "* `single_metric` with just one value\n",
    "* `random_metric` with 100 values\n",
    "* `other_random_metric` with 100 values\n",
    "\n",
    "Go to the `Logs` and `Charts` sections of the Neptune UI to see them. \n",
    "\n",
    "![image](https://neptune.ai/wp-content/uploads/logs_and_charts.gif)\n",
    "\n",
    "**Note:**\n",
    "\n",
    "Neptune automatically logs the hardware consumption during the experiment. \n",
    "\n",
    "You can see it in the `Monitoring` section of the Neptune UI. \n",
    "\n",
    "![image](https://neptune.ai/wp-content/uploads/monitoring.gif)"
   ]
  },
  {
   "cell_type": "markdown",
   "metadata": {
    "id": "VqQxmvjMcVrD",
    "tags": [
     "header"
    ]
   },
   "source": [
    "## Step 5: Stop tracking the experiment"
   ]
  },
  {
   "cell_type": "markdown",
   "metadata": {
    "id": "B2J22_NXcVrE",
    "tags": [
     "comment"
    ]
   },
   "source": [
    "When you track experiments with Neptune in Jupyter notebooks you need to explicitly stop the experiment by running ```neptune.stop()```.\n",
    "\n",
    "If you are running Neptune in regular ```.py``` scripts it will stop automatically when your code stops running."
   ]
  },
  {
   "cell_type": "code",
   "execution_count": null,
   "metadata": {
    "id": "-kSyYsO6xMRy",
    "tags": [
     "neptune_stop"
    ]
   },
   "outputs": [],
   "source": [
    "neptune.stop()"
   ]
  },
  {
   "cell_type": "markdown",
   "metadata": {
    "id": "had9MNRtQ7Mr",
    "tags": [
     "comment"
    ]
   },
   "source": [
    "## Conclusion\n",
    "\n",
    "You’ve learned how to:\n",
    "* Install ```neptune-client```\n",
    "* Connect Neptune to your Google Colab notebook and create an experiment\n",
    "* Log metrics to Neptune\n",
    "* See your metrics as logs and charts\n",
    "* See hardware consumption during the experiment run "
   ]
  },
  {
   "cell_type": "markdown",
   "metadata": {
    "id": "_3ibcYhPQ7Mr",
    "tags": [
     "comment"
    ]
   },
   "source": [
    "## What's next\n",
    "\n",
    "Now that you know how to create experiments and log metrics you can learn:\n",
    "\n",
    "* [How to Create a new project](https://docs.neptune.ai/learn-about-neptune/team-management.html#create-a-project)\n",
    "* [How to log other objects and monitor training in Neptune](https://neptune.ai/blog/monitoring-machine-learning-experiments-guide)\n",
    "* [How to download experiment data from Neptune](https://docs.neptune.ai/logging-and-managing-experiment-results/downloading-experiment-data-programmatically/index.html#guides-download-data)\n",
    "* [How to connect Neptune to the ML framework you are using](https://docs.neptune.ai/integrations/introduction.html)"
   ]
  },
  {
   "cell_type": "code",
   "execution_count": null,
   "metadata": {
    "id": "NUDWtT1sctYd"
   },
   "outputs": [],
   "source": []
  }
 ],
 "metadata": {
  "colab": {
   "collapsed_sections": [],
   "name": "Basic-Colab-Example.ipynb",
   "private_outputs": true,
   "provenance": []
  },
  "kernelspec": {
   "display_name": "Python 3",
   "language": "python",
   "name": "python3"
  },
  "language_info": {
   "codemirror_mode": {
    "name": "ipython",
    "version": 3
   },
   "file_extension": ".py",
   "mimetype": "text/x-python",
   "name": "python",
   "nbconvert_exporter": "python",
   "pygments_lexer": "ipython3",
   "version": "3.7.7"
  }
 },
 "nbformat": 4,
 "nbformat_minor": 4
}
