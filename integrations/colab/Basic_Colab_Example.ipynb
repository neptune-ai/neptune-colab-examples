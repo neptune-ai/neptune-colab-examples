{
  "nbformat": 4,
  "nbformat_minor": 0,
  "metadata": {
    "colab": {
      "name": "Basic-Colab-Example.ipynb",
      "provenance": [],
      "private_outputs": true,
      "collapsed_sections": []
    },
    "kernelspec": {
      "name": "python3",
      "display_name": "Python 3"
    }
  },
  "cells": [
    {
      "cell_type": "markdown",
      "metadata": {
        "id": "GG3_2HyRVY4Y"
      },
      "source": [
        "# Introduction"
      ]
    },
    {
      "cell_type": "markdown",
      "metadata": {
        "id": "3wSDx9alU7Zx"
      },
      "source": [
        "This guide will show you how to:\n",
        "\n",
        "* Install ```neptune-client```\n",
        "* Connect Neptune to your Colab notebook and create the first experiment\n",
        "* Log metrics to Neptune and explore them in the UI"
      ]
    },
    {
      "cell_type": "markdown",
      "metadata": {
        "tags": [
          "header",
          "installation"
        ],
        "id": "71btcZadQ7MF"
      },
      "source": [
        "# Quickstart"
      ]
    },
    {
      "cell_type": "markdown",
      "metadata": {
        "id": "0NQaVXuoWA-E"
      },
      "source": [
        "## Step 1: Install ```neptune-client```"
      ]
    },
    {
      "cell_type": "code",
      "metadata": {
        "tags": [
          "installation"
        ],
        "id": "wmpN4W8wQ7MI"
      },
      "source": [
        "pip install neptune-client"
      ],
      "execution_count": null,
      "outputs": []
    },
    {
      "cell_type": "markdown",
      "metadata": {
        "tags": [
          "header"
        ],
        "id": "RXXxe1ccQ7MQ"
      },
      "source": [
        "## Step 2: Initialize Neptune"
      ]
    },
    {
      "cell_type": "markdown",
      "metadata": {
        "tags": [
          "comment"
        ],
        "id": "-KClvAKTQ7MR"
      },
      "source": [
        "### Initialize a public project"
      ]
    },
    {
      "cell_type": "markdown",
      "metadata": {
        "id": "0QhyfqDWWvlx"
      },
      "source": [
        "Neptune gives you an option of logging data under a public folder as an anonymous user. This is great when you are just trying out the application and don't have a Neptune account yet."
      ]
    },
    {
      "cell_type": "code",
      "metadata": {
        "tags": [
          "code"
        ],
        "id": "v08NphqxQ7MS"
      },
      "source": [
        "import neptune\n",
        "\n",
        "neptune.init(project_qualified_name='shared/onboarding', api_token='ANONYMOUS')"
      ],
      "execution_count": null,
      "outputs": []
    },
    {
      "cell_type": "markdown",
      "metadata": {
        "id": "pCAhb_-NXH6l"
      },
      "source": [
        "### Initialize a private project"
      ]
    },
    {
      "cell_type": "markdown",
      "metadata": {
        "tags": [
          "comment"
        ],
        "id": "kbw1DKFhQ7MX"
      },
      "source": [
        "If you already have a [Neptune account](https://neptune.ai/register), you can create your own experiment and start logging to it using your personal API token."
      ]
    },
    {
      "cell_type": "markdown",
      "metadata": {
        "id": "uKNnMoeLZECP"
      },
      "source": [
        "#### Step 2(a): Get your Neptune API token\n",
        "\n",
        "![image](https://neptune.ai/wp-content/uploads/get_token.gif)"
      ]
    },
    {
      "cell_type": "markdown",
      "metadata": {
        "id": "wEb6l4x8ZYlN"
      },
      "source": [
        "#### Step 2(b): Set the ```api_token``` to initialize Neptune\n",
        "\n",
        "The preferred way of doing this is by using the ```getpass()``` method so that your token remains private even if you share the notebook"
      ]
    },
    {
      "cell_type": "code",
      "metadata": {
        "id": "FXPlKmjC10MG"
      },
      "source": [
        "from getpass import getpass\n",
        "api_token = getpass('Enter your private Neptune API token: ')"
      ],
      "execution_count": null,
      "outputs": []
    },
    {
      "cell_type": "markdown",
      "metadata": {
        "id": "TQZAqPw5apot"
      },
      "source": [
        "#### Step 2(c): Initialize your private project"
      ]
    },
    {
      "cell_type": "markdown",
      "metadata": {
        "id": "SneENG0kae31"
      },
      "source": [
        "Pass your ```username``` to the ``project_qualified_name`` argument of the ``neptune.init()`` method: ``project_qualified_name='YOUR_USERNAME/sandbox``. Keep `/sandbox` at the end, the `sandbox` project is automatically created for you."
      ]
    },
    {
      "cell_type": "code",
      "metadata": {
        "id": "4k_jZnnFwwW8"
      },
      "source": [
        "import neptune\n",
        "\n",
        "neptune.init(project_qualified_name = 'YOUR_USERNAME/sandbox', api_token = api_token)"
      ],
      "execution_count": null,
      "outputs": []
    },
    {
      "cell_type": "markdown",
      "metadata": {
        "id": "0MYTi_hIbeAI"
      },
      "source": [
        "## Step 3: Create an experiment"
      ]
    },
    {
      "cell_type": "markdown",
      "metadata": {
        "tags": [
          "comment"
        ],
        "id": "MlUsYLuzQ7MZ"
      },
      "source": [
        "This creates an experiment in Neptune.\n",
        "\n",
        "Once you have a live experiment you can log things to it. "
      ]
    },
    {
      "cell_type": "code",
      "metadata": {
        "tags": [
          "code"
        ],
        "id": "1cqc46XCQ7Ma"
      },
      "source": [
        "neptune.create_experiment()"
      ],
      "execution_count": null,
      "outputs": []
    },
    {
      "cell_type": "markdown",
      "metadata": {
        "tags": [
          "comment"
        ],
        "id": "EBRhrcM3Q7Me"
      },
      "source": [
        "Click on the link above to open this experiment in Neptune.\n",
        "\n",
        "For now it is empty but keep the tab with experiment open to see what happens next. "
      ]
    },
    {
      "cell_type": "markdown",
      "metadata": {
        "tags": [
          "header"
        ],
        "id": "pk4ZgmW9Q7Mg"
      },
      "source": [
        "## Step 4: Log metrics during training"
      ]
    },
    {
      "cell_type": "markdown",
      "metadata": {
        "tags": [
          "comment"
        ],
        "id": "0uyhflfLQ7Mg"
      },
      "source": [
        "Log metrics or losses under a name of your choice. You can log one or multiple values."
      ]
    },
    {
      "cell_type": "code",
      "metadata": {
        "tags": [
          "code"
        ],
        "id": "jZdLObUSQ7Mi"
      },
      "source": [
        "import numpy as np\n",
        "from time import sleep\n",
        "\n",
        "neptune.log_metric('single_metric', 0.62)\n",
        "\n",
        "for i in range(100):\n",
        "    sleep(0.2) # to see logging live\n",
        "    neptune.log_metric('random_training_metric', i * np.random.random())\n",
        "    neptune.log_metric('other_random_training_metric', 0.5 * i * np.random.random())"
      ],
      "execution_count": null,
      "outputs": []
    },
    {
      "cell_type": "markdown",
      "metadata": {
        "tags": [
          "comment"
        ],
        "id": "mRhOAcS0Q7Mm"
      },
      "source": [
        "This creates 3 logs:\n",
        "* `single_metric` with just one value\n",
        "* `random_metric` with 100 values\n",
        "* `other_random_metric` with 100 values\n",
        "\n",
        "Go to the `Logs` and `Charts` sections of the Neptune UI to see them. \n",
        "\n",
        "![image](https://neptune.ai/wp-content/uploads/logs_and_charts.gif)\n",
        "\n",
        "**Note:**\n",
        "\n",
        "Neptune automatically logs the hardware consumption during the experiment. \n",
        "\n",
        "You can see it in the `Monitoring` section of the Neptune UI. \n",
        "\n",
        "![image](https://neptune.ai/wp-content/uploads/monitoring.gif)"
      ]
    },
    {
      "cell_type": "markdown",
      "metadata": {
        "tags": [
          "header"
        ],
        "id": "VqQxmvjMcVrD"
      },
      "source": [
        "## Step 5: Stop tracking the experiment"
      ]
    },
    {
      "cell_type": "markdown",
      "metadata": {
        "tags": [
          "comment"
        ],
        "id": "B2J22_NXcVrE"
      },
      "source": [
        "When you track experiments with Neptune in Jupyter notebooks you need to explicitly stop the experiment by running ```neptune.stop()```.\n",
        "\n",
        "If you are running Neptune in regular ```.py``` scripts it will stop automatically when your code stops running."
      ]
    },
    {
      "cell_type": "code",
      "metadata": {
        "id": "-kSyYsO6xMRy"
      },
      "source": [
        "neptune.stop()"
      ],
      "execution_count": null,
      "outputs": []
    },
    {
      "cell_type": "markdown",
      "metadata": {
        "tags": [
          "comment"
        ],
        "id": "had9MNRtQ7Mr"
      },
      "source": [
        "## Conclusion\n",
        "\n",
        "You’ve learned how to:\n",
        "* Install ```neptune-client```\n",
        "* Connect Neptune to your Google Colab notebook and create an experiment\n",
        "* Log metrics to Neptune\n",
        "* See your metrics as logs and charts\n",
        "* See hardware consumption during the experiment run "
      ]
    },
    {
      "cell_type": "markdown",
      "metadata": {
        "tags": [
          "comment"
        ],
        "id": "_3ibcYhPQ7Mr"
      },
      "source": [
        "## What's next\n",
        "\n",
        "Now that you know how to create experiments and log metrics you can learn:\n",
        "\n",
        "* [How to Create a new project](https://docs.neptune.ai/learn-about-neptune/team-management.html#create-a-project)\n",
        "* [How to log other objects and monitor training in Neptune](https://neptune.ai/blog/monitoring-machine-learning-experiments-guide)\n",
        "* [How to download experiment data from Neptune](https://docs.neptune.ai/logging-and-managing-experiment-results/downloading-experiment-data-programmatically/index.html#guides-download-data)\n",
        "* [How to connect Neptune to the ML framework you are using](https://docs.neptune.ai/integrations/introduction.html)"
      ]
    },
    {
      "cell_type": "code",
      "metadata": {
        "id": "NUDWtT1sctYd"
      },
      "source": [
        ""
      ],
      "execution_count": null,
      "outputs": []
    }
  ]
}