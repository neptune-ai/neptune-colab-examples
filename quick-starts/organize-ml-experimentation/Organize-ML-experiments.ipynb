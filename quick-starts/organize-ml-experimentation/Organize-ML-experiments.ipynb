{
 "cells": [
  {
   "cell_type": "markdown",
   "metadata": {
    "tags": [
     "header"
    ]
   },
   "source": [
    "# Organize ML experiments"
   ]
  },
  {
   "cell_type": "markdown",
   "metadata": {
    "tags": [
     "header",
     "comment"
    ]
   },
   "source": [
    "## Introduction\n",
    "\n",
    "This guide will show you how to:\n",
    "\n",
    "- Keep track of code, data, environment and parameters\n",
    "- Log results like evaluation metrics and model files\n",
    "- Find experiments in the experiment dashboard with tags\n",
    "- Organize experiments in a dashboard view and save it for later"
   ]
  },
  {
   "cell_type": "markdown",
   "metadata": {
    "tags": [
     "header",
     "installation"
    ]
   },
   "source": [
    "## Setup"
   ]
  },
  {
   "cell_type": "markdown",
   "metadata": {
    "tags": [
     "comment",
     "installation"
    ]
   },
   "source": [
    "Install dependencies"
   ]
  },
  {
   "cell_type": "code",
   "execution_count": null,
   "metadata": {
    "tags": [
     "installation"
    ]
   },
   "outputs": [],
   "source": [
    "! pip install scikit-learn==0.23.1 joblib==0.15.1 neptune-client==0.4.123"
   ]
  },
  {
   "cell_type": "code",
   "execution_count": null,
   "metadata": {
    "tags": [
     "installation",
     "library_updates"
    ]
   },
   "outputs": [],
   "source": [
    "! pip install scikit-learn joblib neptune-client --upgrade"
   ]
  },
  {
   "cell_type": "markdown",
   "metadata": {
    "tags": [
     "header"
    ]
   },
   "source": [
    "## Step 1: Create a basic training script"
   ]
  },
  {
   "cell_type": "code",
   "execution_count": null,
   "metadata": {
    "tags": [
     "code"
    ]
   },
   "outputs": [],
   "source": [
    "from sklearn.datasets import load_wine\n",
    "from sklearn.ensemble import RandomForestClassifier\n",
    "from sklearn.model_selection import train_test_split\n",
    "from sklearn.metrics import f1_score\n",
    "from joblib import dump\n",
    "\n",
    "data = load_wine()\n",
    "X_train, X_test, y_train, y_test = train_test_split(data.data, data.target,\n",
    "                                                    test_size=0.4, random_state=1234)\n",
    "\n",
    "params = {'n_estimators': 10,\n",
    "          'max_depth': 3,\n",
    "          'min_samples_leaf': 1,\n",
    "          'min_samples_split': 2,\n",
    "          'max_features': 3,\n",
    "          }\n",
    "\n",
    "clf = RandomForestClassifier(**params)\n",
    "\n",
    "clf.fit(X_train, y_train)\n",
    "y_train_pred = clf.predict_proba(X_train)\n",
    "y_test_pred = clf.predict_proba(X_test)\n",
    "\n",
    "train_f1 = f1_score(y_train, y_train_pred.argmax(axis=1), average='macro')\n",
    "test_f1 = f1_score(y_test, y_test_pred.argmax(axis=1), average='macro')\n",
    "print(f'Train f1:{train_f1} | Test f1:{test_f1}')"
   ]
  },
  {
   "cell_type": "markdown",
   "metadata": {
    "tags": [
     "header"
    ]
   },
   "source": [
    "## Step 2: Initialize Neptune"
   ]
  },
  {
   "cell_type": "markdown",
   "metadata": {
    "tags": [
     "comment"
    ]
   },
   "source": [
    "Connects your script to Neptune application. "
   ]
  },
  {
   "cell_type": "code",
   "execution_count": null,
   "metadata": {
    "tags": [
     "code"
    ]
   },
   "outputs": [],
   "source": [
    "import neptune\n",
    "\n",
    "neptune.init(project_qualified_name='shared/onboarding', # change this to your `workspace_name/project_name`\n",
    "             api_token='ANONYMOUS', # change this to your api token\n",
    "            )"
   ]
  },
  {
   "cell_type": "markdown",
   "metadata": {
    "tags": [
     "comment"
    ]
   },
   "source": [
    "You tell Neptune: \n",
    "\n",
    "* **who you are**: your Neptune API token `api_token` \n",
    "* **where you want to send your data**: your Neptune project `project_qualified_name`.\n",
    "\n",
    "---\n",
    "\n",
    "**Note:** \n",
    "\n",
    "\n",
    "Instead of logging data to the public project 'shared/onboarding' as an anonymous user 'neptuner' you can log it to your own project.\n",
    "\n",
    "To do that:\n",
    "\n",
    "1. Get your Neptune API token\n",
    "\n",
    "![image](https://neptune.ai/wp-content/uploads/get_token.gif)\n",
    "\n",
    "2. Pass the token to ``api_token`` argument of ``neptune.init()`` method: ``api_token=YOUR_API_TOKEN``\n",
    "3. Pass your username to the ``project_qualified_name`` argument of the ``neptune.init()`` method: ``project_qualified_name='YOUR_USERNAME/sandbox``. Keep `/sandbox` at the end, the `sandbox` project that was automatically created for you.\n",
    "\n",
    "For example:\n",
    "\n",
    "```python\n",
    "neptune.init(project_qualified_name='funky_steve/sandbox', \n",
    "             api_token='eyJhcGlfYW908fsdf23f940jiri0bn3085gh03riv03irn',\n",
    "            )\n",
    "```\n",
    "\n",
    "---"
   ]
  },
  {
   "cell_type": "markdown",
   "metadata": {
    "tags": [
     "header"
    ]
   },
   "source": [
    "## Step 3: Create an experiment and save parameters"
   ]
  },
  {
   "cell_type": "code",
   "execution_count": null,
   "metadata": {
    "tags": [
     "code"
    ]
   },
   "outputs": [],
   "source": [
    "neptune.create_experiment(name='great-idea', params=params)"
   ]
  },
  {
   "cell_type": "markdown",
   "metadata": {
    "tags": [
     "comment"
    ]
   },
   "source": [
    "This opens a new \"experiment\" namespace in Neptune to which you can log various objects.\n",
    "\n",
    "Click on the link above to open this experiment in Neptune.\n",
    "\n",
    "For now it is empty but keep the tab with experiment open to see what happens next. "
   ]
  },
  {
   "cell_type": "markdown",
   "metadata": {
    "tags": [
     "header"
    ]
   },
   "source": [
    "## Step 4. Add tags to organize things"
   ]
  },
  {
   "cell_type": "markdown",
   "metadata": {
    "tags": [
     "comment"
    ]
   },
   "source": [
    "Pass a list of strings to the ``.append_tag`` method of the experiment object."
   ]
  },
  {
   "cell_type": "code",
   "execution_count": null,
   "metadata": {
    "tags": [
     "code"
    ]
   },
   "outputs": [],
   "source": [
    "neptune.append_tag(['experiment-organization', 'me'])"
   ]
  },
  {
   "cell_type": "markdown",
   "metadata": {
    "tags": [
     "header"
    ]
   },
   "source": [
    "## Step 5. Add logging of train and evaluation metrics"
   ]
  },
  {
   "cell_type": "code",
   "execution_count": null,
   "metadata": {
    "tags": [
     "code"
    ]
   },
   "outputs": [],
   "source": [
    "neptune.log_metric('train_f1', train_f1)\n",
    "neptune.log_metric('test_f1', test_f1)"
   ]
  },
  {
   "cell_type": "markdown",
   "metadata": {
    "tags": [
     "comment"
    ]
   },
   "source": [
    "Log all the metrics you care about with ``.log_metric`` method. There could be as many as you like.\n",
    "The first argument is the name of the metric, the second it's value.\n",
    "\n",
    "---\n",
    "\n",
    "**Note:**\n",
    "\n",
    "    You can log multiple values to the same metric. When you do that a chart will be created automatically.\n",
    "    \n",
    "---"
   ]
  },
  {
   "cell_type": "markdown",
   "metadata": {
    "tags": [
     "header"
    ]
   },
   "source": [
    "## Step 6. Run a few experiments with different parameters"
   ]
  },
  {
   "cell_type": "markdown",
   "metadata": {
    "tags": [
     "comment"
    ]
   },
   "source": [
    "Let's run some experiments with different model configuration.\n",
    "\n",
    "1. Change parameters in the ``params`` dictionary of the **Step 1: Create a basic training script**\n",
    "\n",
    "```python\n",
    "\n",
    "    params = {'n_estimators': 10,\n",
    "              'max_depth': 3,\n",
    "              'min_samples_leaf': 1,\n",
    "              'min_samples_split': 2,\n",
    "              'max_features': 3,\n",
    "              }\n",
    "``` \n",
    "\n",
    "2. Run all the cells, log things to Neptune.\n",
    "\n",
    "3. Stop Neptune experiment. "
   ]
  },
  {
   "cell_type": "markdown",
   "metadata": {
    "tags": [
     "comment"
    ]
   },
   "source": [
    "---\n",
    "\n",
    "**Note:**\n",
    "   \n",
    "When you track experiments with Neptune in Jupyter notebooks you need to explicitly stop the experiment by running `neptune.stop()`.\n",
    "\n",
    "If you are running Neptune in regular `.py` scripts it will stop automatically when your code stops running.\n",
    "\n",
    "---"
   ]
  },
  {
   "cell_type": "code",
   "execution_count": null,
   "metadata": {
    "tags": [
     "tests"
    ]
   },
   "outputs": [],
   "source": [
    "# tests\n",
    "current_exp = neptune.get_experiment()\n",
    "\n",
    "correct_logs = ['train_f1', 'test_f1']\n",
    "\n",
    "if set(current_exp.get_logs().keys()) != set(correct_logs):\n",
    "    raise ValueError()"
   ]
  },
  {
   "cell_type": "code",
   "execution_count": null,
   "metadata": {
    "tags": [
     "neptune_stop"
    ]
   },
   "outputs": [],
   "source": [
    "neptune.stop()"
   ]
  },
  {
   "cell_type": "markdown",
   "metadata": {
    "tags": [
     "comment"
    ]
   },
   "source": [
    "## Step 7. Go to Neptune UI\n",
    "\n",
    "Click on one of the links created when you run the script or go directly to the app.\n",
    "\n",
    "If you created your own project in Neptune you can also go to projects tab and find it."
   ]
  },
  {
   "cell_type": "code",
   "execution_count": null,
   "metadata": {
    "tags": [
     "comment"
    ]
   },
   "outputs": [],
   "source": [
    "from IPython.display import YouTubeVideo\n",
    "YouTubeVideo('rEC-sxhP72w', width=720, height=420)"
   ]
  },
  {
   "cell_type": "markdown",
   "metadata": {
    "tags": [
     "comment"
    ]
   },
   "source": [
    "If you are logging things to the public project ``shared/onboarding`` you can just [follow this link](https://ui.neptune.ai/o/shared/org/onboarding/e/ON-261).\n",
    "\n",
    "## Step 8. See that everything got logged\n",
    "\n",
    "Go to one of the experiments you ran and see that you logged things correctly:\n",
    "\n",
    "- click on the experiment link or one of the rows in the experiment table in the UI\n",
    "- Go to ``Logs`` section to see your metrics\n",
    "- Go to ``Source code`` to see that your code was logged\n",
    "- Go to ``Artifacts`` to see that the model was saved\n",
    "\n",
    "<iframe width=\"720\" height=\"420\" src=\"https://www.youtube.com/embed/9iX6DxcijO8\" frameborder=\"0\" allow=\"accelerometer; autoplay; encrypted-media;gyroscope; picture-in-picture\" allowfullscreen></iframe>\n"
   ]
  },
  {
   "cell_type": "code",
   "execution_count": null,
   "metadata": {
    "tags": [
     "comment"
    ]
   },
   "outputs": [],
   "source": [
    "YouTubeVideo('WpAq7Kj88ec', width=720, height=420)"
   ]
  },
  {
   "cell_type": "markdown",
   "metadata": {
    "tags": [
     "comment"
    ]
   },
   "source": [
    "## Step 9. Filter experiments by tag\n",
    "\n",
    "Go to the experiments space and:\n",
    "\n",
    "1. Click on the ``go to simple search``\n",
    "2. In the ``tags`` type ``experiment-organization`` to find it (or other tag you added to your experiment).\n",
    "3. Select the tag.\n",
    "\n",
    "Neptune should filter all those experiments for you."
   ]
  },
  {
   "cell_type": "code",
   "execution_count": null,
   "metadata": {
    "tags": [
     "comment"
    ]
   },
   "outputs": [],
   "source": [
    "YouTubeVideo('ppPOtU_lNkk', width=720, height=420)"
   ]
  },
  {
   "cell_type": "markdown",
   "metadata": {
    "tags": [
     "comment"
    ]
   },
   "source": [
    "## Step 10. Choose parameter and metric columns you want to see\n",
    "\n",
    "Use the ``Manage columns`` button to choose the columns for the experiment table:\n",
    "\n",
    "- Click on ``Manage columns``\n",
    "- Go to the ``Numeric logs`` and ``Text parameters`` or type a name of your metric or parameter to find it.\n",
    "- Add ``test_f1`` metric and the parameters you tweaked (in my case ``max_depth``, ``max_features``, ``min_samples_leaf``, and ``n_estimators``)."
   ]
  },
  {
   "cell_type": "code",
   "execution_count": null,
   "metadata": {
    "tags": [
     "comment"
    ]
   },
   "outputs": [],
   "source": [
    "YouTubeVideo('gvlIXa25-Bc', width=720, height=420)"
   ]
  },
  {
   "cell_type": "markdown",
   "metadata": {
    "tags": [
     "comment"
    ]
   },
   "source": [
    "---\n",
    "\n",
    "**tip:**\n",
    "\n",
    "    You can also use the suggested columns which shows you the columns with values that differ between selected experiments.\n",
    "\n",
    "    Just click on the ``+`` to add it to your experiment table.\n",
    "    \n",
    "---\n",
    "\n",
    "## Step 13. Save the view of experiment table\n",
    "\n",
    "You can save the current view of experiment table for later:\n",
    "\n",
    "- Click on the ``Save as new``\n",
    "\n",
    "Both the columns and the filtering on rows will be saved as view."
   ]
  },
  {
   "cell_type": "code",
   "execution_count": null,
   "metadata": {
    "tags": [
     "comment"
    ]
   },
   "outputs": [],
   "source": [
    "YouTubeVideo('iTgjtYBWqko', width=720, height=420)"
   ]
  },
  {
   "cell_type": "markdown",
   "metadata": {
    "tags": [
     "comment"
    ]
   },
   "source": [
    "---\n",
    "\n",
    "**tip:**\n",
    "\n",
    "    Create and save multiple views of the experiment table for different use cases or experiment groups.\n",
    "\n",
    "---"
   ]
  },
  {
   "cell_type": "code",
   "execution_count": null,
   "metadata": {},
   "outputs": [],
   "source": []
  }
 ],
 "metadata": {
  "kernelspec": {
   "display_name": "py_37",
   "language": "python",
   "name": "py_37"
  },
  "language_info": {
   "codemirror_mode": {
    "name": "ipython",
    "version": 3
   },
   "file_extension": ".py",
   "mimetype": "text/x-python",
   "name": "python",
   "nbconvert_exporter": "python",
   "pygments_lexer": "ipython3",
   "version": "3.7.7"
  }
 },
 "nbformat": 4,
 "nbformat_minor": 4
}
